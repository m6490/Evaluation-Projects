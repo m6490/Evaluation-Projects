{
 "cells": [
  {
   "cell_type": "markdown",
   "id": "05d51229",
   "metadata": {},
   "source": [
    "# Loan Application Status Prediction"
   ]
  },
  {
   "cell_type": "markdown",
   "id": "9e8b16f3",
   "metadata": {},
   "source": [
    "## Project Description"
   ]
  },
  {
   "cell_type": "markdown",
   "id": "3ce18515",
   "metadata": {},
   "source": [
    "This dataset includes details of applicants who have applied for loan. The dataset includes details like credit history, loan amount, their income, dependents etc. "
   ]
  },
  {
   "cell_type": "markdown",
   "id": "a349c772",
   "metadata": {},
   "source": [
    "## Description of Independent Variables:"
   ]
  },
  {
   "cell_type": "markdown",
   "id": "7735bd06",
   "metadata": {},
   "source": [
    "1.\tLoan_ID - This refer to the unique identifier of the applicant's affirmed purchases\n",
    "\n",
    "2.\tGender - This refers to either of the two main categories (male and female) into which applicants are divided on the basis of their reproductive functions\n",
    "\n",
    "3.\tMarried - This refers to applicant being in a state of matrimony\n",
    "4.\tDependents - This refres to persons who depends on the applicants for survival\n",
    "5.\tEducation - This refers to number of years in which applicant received systematic instruction, especially at a school or university\n",
    "6.\tSelf_Employed - This refers to applicant working for oneself as a freelancer or the owner of a business rather than for an employer\n",
    "7.\tApplicant Income - This refers to disposable income available for the applicant's use under State law.\n",
    "8.\tCoapplicantIncome - This refers to disposable income available for the people that participate in the loan application process alongside the main applicant use under State law.\n",
    "9.\tLoan_Amount - This refers to the amount of money an applicant owe at any given time.\n",
    "10.\tLoan_Amount_Term - This refers to the duaration in which the loan is availed to the applicant\n",
    "11.\tCredit History - This refers to a record of applicant's ability to repay debts and demonstrated responsibility in repaying them.\n",
    "12.\tProperty_Area - This refers to the total area within the boundaries of the property as set out in Schedule.\n",
    "13.\tLoan_Status - This refres to whether applicant is eligible to be availed the Loan requested.\n"
   ]
  },
  {
   "cell_type": "markdown",
   "id": "72b76d1c",
   "metadata": {},
   "source": [
    "## Requirement\n",
    "You have to build a model that can predict whether the loan of the applicant will be approved(Loan_status) or not on the basis of the details provided in the dataset. "
   ]
  },
  {
   "cell_type": "code",
   "execution_count": 1,
   "id": "b6493a87",
   "metadata": {},
   "outputs": [],
   "source": [
    "# importing the necessary libraries\n",
    "import numpy as np\n",
    "import pandas as pd\n",
    "import matplotlib.pyplot as plt\n",
    "import seaborn as sns\n",
    "import sklearn\n",
    "import warnings\n",
    "warnings.filterwarnings(\"ignore\")"
   ]
  },
  {
   "cell_type": "code",
   "execution_count": 2,
   "id": "62e01eca",
   "metadata": {},
   "outputs": [
    {
     "data": {
      "text/html": [
       "<div>\n",
       "<style scoped>\n",
       "    .dataframe tbody tr th:only-of-type {\n",
       "        vertical-align: middle;\n",
       "    }\n",
       "\n",
       "    .dataframe tbody tr th {\n",
       "        vertical-align: top;\n",
       "    }\n",
       "\n",
       "    .dataframe thead th {\n",
       "        text-align: right;\n",
       "    }\n",
       "</style>\n",
       "<table border=\"1\" class=\"dataframe\">\n",
       "  <thead>\n",
       "    <tr style=\"text-align: right;\">\n",
       "      <th></th>\n",
       "      <th>Loan_ID</th>\n",
       "      <th>Gender</th>\n",
       "      <th>Married</th>\n",
       "      <th>Dependents</th>\n",
       "      <th>Education</th>\n",
       "      <th>Self_Employed</th>\n",
       "      <th>ApplicantIncome</th>\n",
       "      <th>CoapplicantIncome</th>\n",
       "      <th>LoanAmount</th>\n",
       "      <th>Loan_Amount_Term</th>\n",
       "      <th>Credit_History</th>\n",
       "      <th>Property_Area</th>\n",
       "      <th>Loan_Status</th>\n",
       "    </tr>\n",
       "  </thead>\n",
       "  <tbody>\n",
       "    <tr>\n",
       "      <th>112</th>\n",
       "      <td>LP001391</td>\n",
       "      <td>Male</td>\n",
       "      <td>Yes</td>\n",
       "      <td>0</td>\n",
       "      <td>Not Graduate</td>\n",
       "      <td>No</td>\n",
       "      <td>3572</td>\n",
       "      <td>4114.0</td>\n",
       "      <td>152.0</td>\n",
       "      <td>NaN</td>\n",
       "      <td>0.0</td>\n",
       "      <td>Rural</td>\n",
       "      <td>N</td>\n",
       "    </tr>\n",
       "    <tr>\n",
       "      <th>65</th>\n",
       "      <td>LP001225</td>\n",
       "      <td>Male</td>\n",
       "      <td>Yes</td>\n",
       "      <td>0</td>\n",
       "      <td>Graduate</td>\n",
       "      <td>No</td>\n",
       "      <td>5726</td>\n",
       "      <td>4595.0</td>\n",
       "      <td>258.0</td>\n",
       "      <td>360.0</td>\n",
       "      <td>1.0</td>\n",
       "      <td>Semiurban</td>\n",
       "      <td>N</td>\n",
       "    </tr>\n",
       "    <tr>\n",
       "      <th>397</th>\n",
       "      <td>LP002281</td>\n",
       "      <td>Male</td>\n",
       "      <td>Yes</td>\n",
       "      <td>0</td>\n",
       "      <td>Graduate</td>\n",
       "      <td>No</td>\n",
       "      <td>3033</td>\n",
       "      <td>1459.0</td>\n",
       "      <td>95.0</td>\n",
       "      <td>360.0</td>\n",
       "      <td>1.0</td>\n",
       "      <td>Urban</td>\n",
       "      <td>Y</td>\n",
       "    </tr>\n",
       "    <tr>\n",
       "      <th>118</th>\n",
       "      <td>LP001421</td>\n",
       "      <td>Male</td>\n",
       "      <td>Yes</td>\n",
       "      <td>0</td>\n",
       "      <td>Graduate</td>\n",
       "      <td>No</td>\n",
       "      <td>5568</td>\n",
       "      <td>2142.0</td>\n",
       "      <td>175.0</td>\n",
       "      <td>360.0</td>\n",
       "      <td>1.0</td>\n",
       "      <td>Rural</td>\n",
       "      <td>N</td>\n",
       "    </tr>\n",
       "    <tr>\n",
       "      <th>427</th>\n",
       "      <td>LP002368</td>\n",
       "      <td>Male</td>\n",
       "      <td>Yes</td>\n",
       "      <td>2</td>\n",
       "      <td>Graduate</td>\n",
       "      <td>No</td>\n",
       "      <td>5935</td>\n",
       "      <td>0.0</td>\n",
       "      <td>133.0</td>\n",
       "      <td>360.0</td>\n",
       "      <td>1.0</td>\n",
       "      <td>Semiurban</td>\n",
       "      <td>Y</td>\n",
       "    </tr>\n",
       "    <tr>\n",
       "      <th>83</th>\n",
       "      <td>LP001273</td>\n",
       "      <td>Male</td>\n",
       "      <td>Yes</td>\n",
       "      <td>0</td>\n",
       "      <td>Graduate</td>\n",
       "      <td>No</td>\n",
       "      <td>6000</td>\n",
       "      <td>2250.0</td>\n",
       "      <td>265.0</td>\n",
       "      <td>360.0</td>\n",
       "      <td>NaN</td>\n",
       "      <td>Semiurban</td>\n",
       "      <td>N</td>\n",
       "    </tr>\n",
       "    <tr>\n",
       "      <th>602</th>\n",
       "      <td>LP002953</td>\n",
       "      <td>Male</td>\n",
       "      <td>Yes</td>\n",
       "      <td>3+</td>\n",
       "      <td>Graduate</td>\n",
       "      <td>No</td>\n",
       "      <td>5703</td>\n",
       "      <td>0.0</td>\n",
       "      <td>128.0</td>\n",
       "      <td>360.0</td>\n",
       "      <td>1.0</td>\n",
       "      <td>Urban</td>\n",
       "      <td>Y</td>\n",
       "    </tr>\n",
       "    <tr>\n",
       "      <th>534</th>\n",
       "      <td>LP002731</td>\n",
       "      <td>Female</td>\n",
       "      <td>No</td>\n",
       "      <td>0</td>\n",
       "      <td>Not Graduate</td>\n",
       "      <td>Yes</td>\n",
       "      <td>18165</td>\n",
       "      <td>0.0</td>\n",
       "      <td>125.0</td>\n",
       "      <td>360.0</td>\n",
       "      <td>1.0</td>\n",
       "      <td>Urban</td>\n",
       "      <td>Y</td>\n",
       "    </tr>\n",
       "    <tr>\n",
       "      <th>493</th>\n",
       "      <td>LP002582</td>\n",
       "      <td>Female</td>\n",
       "      <td>No</td>\n",
       "      <td>0</td>\n",
       "      <td>Not Graduate</td>\n",
       "      <td>Yes</td>\n",
       "      <td>17263</td>\n",
       "      <td>0.0</td>\n",
       "      <td>225.0</td>\n",
       "      <td>360.0</td>\n",
       "      <td>1.0</td>\n",
       "      <td>Semiurban</td>\n",
       "      <td>Y</td>\n",
       "    </tr>\n",
       "    <tr>\n",
       "      <th>444</th>\n",
       "      <td>LP002424</td>\n",
       "      <td>Male</td>\n",
       "      <td>Yes</td>\n",
       "      <td>0</td>\n",
       "      <td>Graduate</td>\n",
       "      <td>No</td>\n",
       "      <td>7333</td>\n",
       "      <td>8333.0</td>\n",
       "      <td>175.0</td>\n",
       "      <td>300.0</td>\n",
       "      <td>NaN</td>\n",
       "      <td>Rural</td>\n",
       "      <td>Y</td>\n",
       "    </tr>\n",
       "    <tr>\n",
       "      <th>247</th>\n",
       "      <td>LP001819</td>\n",
       "      <td>Male</td>\n",
       "      <td>Yes</td>\n",
       "      <td>1</td>\n",
       "      <td>Not Graduate</td>\n",
       "      <td>No</td>\n",
       "      <td>6608</td>\n",
       "      <td>0.0</td>\n",
       "      <td>137.0</td>\n",
       "      <td>180.0</td>\n",
       "      <td>1.0</td>\n",
       "      <td>Urban</td>\n",
       "      <td>Y</td>\n",
       "    </tr>\n",
       "    <tr>\n",
       "      <th>297</th>\n",
       "      <td>LP001954</td>\n",
       "      <td>Female</td>\n",
       "      <td>Yes</td>\n",
       "      <td>1</td>\n",
       "      <td>Graduate</td>\n",
       "      <td>No</td>\n",
       "      <td>4666</td>\n",
       "      <td>0.0</td>\n",
       "      <td>135.0</td>\n",
       "      <td>360.0</td>\n",
       "      <td>1.0</td>\n",
       "      <td>Urban</td>\n",
       "      <td>Y</td>\n",
       "    </tr>\n",
       "    <tr>\n",
       "      <th>145</th>\n",
       "      <td>LP001514</td>\n",
       "      <td>Female</td>\n",
       "      <td>Yes</td>\n",
       "      <td>0</td>\n",
       "      <td>Graduate</td>\n",
       "      <td>No</td>\n",
       "      <td>2330</td>\n",
       "      <td>4486.0</td>\n",
       "      <td>100.0</td>\n",
       "      <td>360.0</td>\n",
       "      <td>1.0</td>\n",
       "      <td>Semiurban</td>\n",
       "      <td>Y</td>\n",
       "    </tr>\n",
       "    <tr>\n",
       "      <th>155</th>\n",
       "      <td>LP001536</td>\n",
       "      <td>Male</td>\n",
       "      <td>Yes</td>\n",
       "      <td>3+</td>\n",
       "      <td>Graduate</td>\n",
       "      <td>No</td>\n",
       "      <td>39999</td>\n",
       "      <td>0.0</td>\n",
       "      <td>600.0</td>\n",
       "      <td>180.0</td>\n",
       "      <td>0.0</td>\n",
       "      <td>Semiurban</td>\n",
       "      <td>Y</td>\n",
       "    </tr>\n",
       "    <tr>\n",
       "      <th>324</th>\n",
       "      <td>LP002065</td>\n",
       "      <td>Male</td>\n",
       "      <td>Yes</td>\n",
       "      <td>3+</td>\n",
       "      <td>Graduate</td>\n",
       "      <td>No</td>\n",
       "      <td>15000</td>\n",
       "      <td>0.0</td>\n",
       "      <td>300.0</td>\n",
       "      <td>360.0</td>\n",
       "      <td>1.0</td>\n",
       "      <td>Rural</td>\n",
       "      <td>Y</td>\n",
       "    </tr>\n",
       "    <tr>\n",
       "      <th>532</th>\n",
       "      <td>LP002723</td>\n",
       "      <td>Male</td>\n",
       "      <td>No</td>\n",
       "      <td>2</td>\n",
       "      <td>Graduate</td>\n",
       "      <td>No</td>\n",
       "      <td>3588</td>\n",
       "      <td>0.0</td>\n",
       "      <td>110.0</td>\n",
       "      <td>360.0</td>\n",
       "      <td>0.0</td>\n",
       "      <td>Rural</td>\n",
       "      <td>N</td>\n",
       "    </tr>\n",
       "    <tr>\n",
       "      <th>286</th>\n",
       "      <td>LP001925</td>\n",
       "      <td>Female</td>\n",
       "      <td>No</td>\n",
       "      <td>0</td>\n",
       "      <td>Graduate</td>\n",
       "      <td>Yes</td>\n",
       "      <td>2600</td>\n",
       "      <td>1717.0</td>\n",
       "      <td>99.0</td>\n",
       "      <td>300.0</td>\n",
       "      <td>1.0</td>\n",
       "      <td>Semiurban</td>\n",
       "      <td>N</td>\n",
       "    </tr>\n",
       "    <tr>\n",
       "      <th>137</th>\n",
       "      <td>LP001491</td>\n",
       "      <td>Male</td>\n",
       "      <td>Yes</td>\n",
       "      <td>2</td>\n",
       "      <td>Graduate</td>\n",
       "      <td>Yes</td>\n",
       "      <td>3316</td>\n",
       "      <td>3500.0</td>\n",
       "      <td>88.0</td>\n",
       "      <td>360.0</td>\n",
       "      <td>1.0</td>\n",
       "      <td>Urban</td>\n",
       "      <td>Y</td>\n",
       "    </tr>\n",
       "    <tr>\n",
       "      <th>79</th>\n",
       "      <td>LP001264</td>\n",
       "      <td>Male</td>\n",
       "      <td>Yes</td>\n",
       "      <td>3+</td>\n",
       "      <td>Not Graduate</td>\n",
       "      <td>Yes</td>\n",
       "      <td>3333</td>\n",
       "      <td>2166.0</td>\n",
       "      <td>130.0</td>\n",
       "      <td>360.0</td>\n",
       "      <td>NaN</td>\n",
       "      <td>Semiurban</td>\n",
       "      <td>Y</td>\n",
       "    </tr>\n",
       "    <tr>\n",
       "      <th>373</th>\n",
       "      <td>LP002205</td>\n",
       "      <td>Male</td>\n",
       "      <td>No</td>\n",
       "      <td>1</td>\n",
       "      <td>Graduate</td>\n",
       "      <td>No</td>\n",
       "      <td>3062</td>\n",
       "      <td>1987.0</td>\n",
       "      <td>111.0</td>\n",
       "      <td>180.0</td>\n",
       "      <td>0.0</td>\n",
       "      <td>Urban</td>\n",
       "      <td>N</td>\n",
       "    </tr>\n",
       "  </tbody>\n",
       "</table>\n",
       "</div>"
      ],
      "text/plain": [
       "      Loan_ID  Gender Married Dependents     Education Self_Employed  \\\n",
       "112  LP001391    Male     Yes          0  Not Graduate            No   \n",
       "65   LP001225    Male     Yes          0      Graduate            No   \n",
       "397  LP002281    Male     Yes          0      Graduate            No   \n",
       "118  LP001421    Male     Yes          0      Graduate            No   \n",
       "427  LP002368    Male     Yes          2      Graduate            No   \n",
       "83   LP001273    Male     Yes          0      Graduate            No   \n",
       "602  LP002953    Male     Yes         3+      Graduate            No   \n",
       "534  LP002731  Female      No          0  Not Graduate           Yes   \n",
       "493  LP002582  Female      No          0  Not Graduate           Yes   \n",
       "444  LP002424    Male     Yes          0      Graduate            No   \n",
       "247  LP001819    Male     Yes          1  Not Graduate            No   \n",
       "297  LP001954  Female     Yes          1      Graduate            No   \n",
       "145  LP001514  Female     Yes          0      Graduate            No   \n",
       "155  LP001536    Male     Yes         3+      Graduate            No   \n",
       "324  LP002065    Male     Yes         3+      Graduate            No   \n",
       "532  LP002723    Male      No          2      Graduate            No   \n",
       "286  LP001925  Female      No          0      Graduate           Yes   \n",
       "137  LP001491    Male     Yes          2      Graduate           Yes   \n",
       "79   LP001264    Male     Yes         3+  Not Graduate           Yes   \n",
       "373  LP002205    Male      No          1      Graduate            No   \n",
       "\n",
       "     ApplicantIncome  CoapplicantIncome  LoanAmount  Loan_Amount_Term  \\\n",
       "112             3572             4114.0       152.0               NaN   \n",
       "65              5726             4595.0       258.0             360.0   \n",
       "397             3033             1459.0        95.0             360.0   \n",
       "118             5568             2142.0       175.0             360.0   \n",
       "427             5935                0.0       133.0             360.0   \n",
       "83              6000             2250.0       265.0             360.0   \n",
       "602             5703                0.0       128.0             360.0   \n",
       "534            18165                0.0       125.0             360.0   \n",
       "493            17263                0.0       225.0             360.0   \n",
       "444             7333             8333.0       175.0             300.0   \n",
       "247             6608                0.0       137.0             180.0   \n",
       "297             4666                0.0       135.0             360.0   \n",
       "145             2330             4486.0       100.0             360.0   \n",
       "155            39999                0.0       600.0             180.0   \n",
       "324            15000                0.0       300.0             360.0   \n",
       "532             3588                0.0       110.0             360.0   \n",
       "286             2600             1717.0        99.0             300.0   \n",
       "137             3316             3500.0        88.0             360.0   \n",
       "79              3333             2166.0       130.0             360.0   \n",
       "373             3062             1987.0       111.0             180.0   \n",
       "\n",
       "     Credit_History Property_Area Loan_Status  \n",
       "112             0.0         Rural           N  \n",
       "65              1.0     Semiurban           N  \n",
       "397             1.0         Urban           Y  \n",
       "118             1.0         Rural           N  \n",
       "427             1.0     Semiurban           Y  \n",
       "83              NaN     Semiurban           N  \n",
       "602             1.0         Urban           Y  \n",
       "534             1.0         Urban           Y  \n",
       "493             1.0     Semiurban           Y  \n",
       "444             NaN         Rural           Y  \n",
       "247             1.0         Urban           Y  \n",
       "297             1.0         Urban           Y  \n",
       "145             1.0     Semiurban           Y  \n",
       "155             0.0     Semiurban           Y  \n",
       "324             1.0         Rural           Y  \n",
       "532             0.0         Rural           N  \n",
       "286             1.0     Semiurban           N  \n",
       "137             1.0         Urban           Y  \n",
       "79              NaN     Semiurban           Y  \n",
       "373             0.0         Urban           N  "
      ]
     },
     "execution_count": 2,
     "metadata": {},
     "output_type": "execute_result"
    }
   ],
   "source": [
    "#Loading the dataset\n",
    "df_loan=pd.read_csv(\"loan application.csv\")\n",
    "df_loan.sample(20)"
   ]
  },
  {
   "cell_type": "markdown",
   "id": "0c329502",
   "metadata": {},
   "source": [
    "## Starting the EDA"
   ]
  },
  {
   "cell_type": "code",
   "execution_count": 3,
   "id": "0f3efda1",
   "metadata": {},
   "outputs": [
    {
     "data": {
      "text/plain": [
       "(614, 13)"
      ]
     },
     "execution_count": 3,
     "metadata": {},
     "output_type": "execute_result"
    }
   ],
   "source": [
    "# Checking Configuration of Dataset\n",
    "df_loan.shape"
   ]
  },
  {
   "cell_type": "markdown",
   "id": "88a1c094",
   "metadata": {},
   "source": [
    "Obs- \n",
    "* We can see its a small dataset with 614 rows\n",
    "* And there are 13 columns of which 12 are input, and the output is 'Loan-Status' classified as 'Y' or 'N' ."
   ]
  },
  {
   "cell_type": "code",
   "execution_count": 4,
   "id": "359ed551",
   "metadata": {},
   "outputs": [
    {
     "data": {
      "text/plain": [
       "Loan_ID               object\n",
       "Gender                object\n",
       "Married               object\n",
       "Dependents            object\n",
       "Education             object\n",
       "Self_Employed         object\n",
       "ApplicantIncome        int64\n",
       "CoapplicantIncome    float64\n",
       "LoanAmount           float64\n",
       "Loan_Amount_Term     float64\n",
       "Credit_History       float64\n",
       "Property_Area         object\n",
       "Loan_Status           object\n",
       "dtype: object"
      ]
     },
     "execution_count": 4,
     "metadata": {},
     "output_type": "execute_result"
    }
   ],
   "source": [
    "# Checking data types of attributes\n",
    "df_loan.dtypes"
   ]
  },
  {
   "cell_type": "markdown",
   "id": "a486c2ad",
   "metadata": {},
   "source": [
    "Obs- We can see the dataset contains only 5 Numerical Columns, while others are all categorical."
   ]
  },
  {
   "cell_type": "code",
   "execution_count": 5,
   "id": "15d9f2e4",
   "metadata": {},
   "outputs": [
    {
     "data": {
      "text/plain": [
       "Loan_ID               0\n",
       "Gender               13\n",
       "Married               3\n",
       "Dependents           15\n",
       "Education             0\n",
       "Self_Employed        32\n",
       "ApplicantIncome       0\n",
       "CoapplicantIncome     0\n",
       "LoanAmount           22\n",
       "Loan_Amount_Term     14\n",
       "Credit_History       50\n",
       "Property_Area         0\n",
       "Loan_Status           0\n",
       "dtype: int64"
      ]
     },
     "execution_count": 5,
     "metadata": {},
     "output_type": "execute_result"
    }
   ],
   "source": [
    "# Checking for null values if any\n",
    "df_loan.isnull().sum()"
   ]
  },
  {
   "cell_type": "markdown",
   "id": "09144dbe",
   "metadata": {},
   "source": [
    "Obs- We can see many columns have null entries,  treating the null values below"
   ]
  },
  {
   "cell_type": "code",
   "execution_count": 6,
   "id": "81b0747a",
   "metadata": {},
   "outputs": [],
   "source": [
    "# Filling the missing values"
   ]
  },
  {
   "cell_type": "markdown",
   "id": "5fb04fc9",
   "metadata": {},
   "source": [
    "##### For Categorical columns we will find mode of the entries and fill the missing values with it"
   ]
  },
  {
   "cell_type": "code",
   "execution_count": 7,
   "id": "dc141dcd",
   "metadata": {},
   "outputs": [],
   "source": [
    "df_loan['Gender'].fillna(df_loan['Gender'].mode()[0],inplace=True)\n",
    "df_loan['Married'].fillna(df_loan['Married'].mode()[0],inplace=True)\n",
    "df_loan['Dependents'].fillna(df_loan['Dependents'].mode()[0],inplace=True)\n",
    "df_loan['Self_Employed'].fillna(df_loan['Self_Employed'].mode()[0],inplace=True) "
   ]
  },
  {
   "cell_type": "markdown",
   "id": "d7377315",
   "metadata": {},
   "source": [
    "##### For Continuous columns we will find mean of the entries and fill the missing values with it"
   ]
  },
  {
   "cell_type": "code",
   "execution_count": 8,
   "id": "3fcaaff0",
   "metadata": {},
   "outputs": [],
   "source": [
    "df_loan['LoanAmount'].fillna(df_loan['LoanAmount'].mean(),inplace=True)\n",
    "df_loan['Loan_Amount_Term'].fillna(df_loan['Loan_Amount_Term'].mean(),inplace=True)"
   ]
  },
  {
   "cell_type": "markdown",
   "id": "14b899e2",
   "metadata": {},
   "source": [
    "##### Credit hiostory even though is numerical, but has only 2 values, doing a mean/median will classify into non-existing class, so filling it with mode value"
   ]
  },
  {
   "cell_type": "code",
   "execution_count": 9,
   "id": "0205a256",
   "metadata": {},
   "outputs": [],
   "source": [
    "df_loan['Credit_History'].fillna(df_loan['Credit_History'].mode()[0],inplace=True) "
   ]
  },
  {
   "cell_type": "code",
   "execution_count": 10,
   "id": "2340b3ce",
   "metadata": {},
   "outputs": [
    {
     "data": {
      "text/plain": [
       "Loan_ID              0\n",
       "Gender               0\n",
       "Married              0\n",
       "Dependents           0\n",
       "Education            0\n",
       "Self_Employed        0\n",
       "ApplicantIncome      0\n",
       "CoapplicantIncome    0\n",
       "LoanAmount           0\n",
       "Loan_Amount_Term     0\n",
       "Credit_History       0\n",
       "Property_Area        0\n",
       "Loan_Status          0\n",
       "dtype: int64"
      ]
     },
     "execution_count": 10,
     "metadata": {},
     "output_type": "execute_result"
    }
   ],
   "source": [
    "# Checking for null values again\n",
    "df_loan.isnull().sum()"
   ]
  },
  {
   "cell_type": "code",
   "execution_count": 11,
   "id": "fc06fcce",
   "metadata": {},
   "outputs": [
    {
     "data": {
      "text/html": [
       "<div>\n",
       "<style scoped>\n",
       "    .dataframe tbody tr th:only-of-type {\n",
       "        vertical-align: middle;\n",
       "    }\n",
       "\n",
       "    .dataframe tbody tr th {\n",
       "        vertical-align: top;\n",
       "    }\n",
       "\n",
       "    .dataframe thead th {\n",
       "        text-align: right;\n",
       "    }\n",
       "</style>\n",
       "<table border=\"1\" class=\"dataframe\">\n",
       "  <thead>\n",
       "    <tr style=\"text-align: right;\">\n",
       "      <th></th>\n",
       "      <th>Loan_ID</th>\n",
       "      <th>Gender</th>\n",
       "      <th>Married</th>\n",
       "      <th>Dependents</th>\n",
       "      <th>Education</th>\n",
       "      <th>Self_Employed</th>\n",
       "      <th>ApplicantIncome</th>\n",
       "      <th>CoapplicantIncome</th>\n",
       "      <th>LoanAmount</th>\n",
       "      <th>Loan_Amount_Term</th>\n",
       "      <th>Credit_History</th>\n",
       "      <th>Property_Area</th>\n",
       "      <th>Loan_Status</th>\n",
       "    </tr>\n",
       "  </thead>\n",
       "  <tbody>\n",
       "    <tr>\n",
       "      <th>0</th>\n",
       "      <td>False</td>\n",
       "      <td>False</td>\n",
       "      <td>False</td>\n",
       "      <td>False</td>\n",
       "      <td>False</td>\n",
       "      <td>False</td>\n",
       "      <td>False</td>\n",
       "      <td>False</td>\n",
       "      <td>False</td>\n",
       "      <td>False</td>\n",
       "      <td>False</td>\n",
       "      <td>False</td>\n",
       "      <td>False</td>\n",
       "    </tr>\n",
       "    <tr>\n",
       "      <th>1</th>\n",
       "      <td>False</td>\n",
       "      <td>False</td>\n",
       "      <td>False</td>\n",
       "      <td>False</td>\n",
       "      <td>False</td>\n",
       "      <td>False</td>\n",
       "      <td>False</td>\n",
       "      <td>False</td>\n",
       "      <td>False</td>\n",
       "      <td>False</td>\n",
       "      <td>False</td>\n",
       "      <td>False</td>\n",
       "      <td>False</td>\n",
       "    </tr>\n",
       "    <tr>\n",
       "      <th>2</th>\n",
       "      <td>False</td>\n",
       "      <td>False</td>\n",
       "      <td>False</td>\n",
       "      <td>False</td>\n",
       "      <td>False</td>\n",
       "      <td>False</td>\n",
       "      <td>False</td>\n",
       "      <td>False</td>\n",
       "      <td>False</td>\n",
       "      <td>False</td>\n",
       "      <td>False</td>\n",
       "      <td>False</td>\n",
       "      <td>False</td>\n",
       "    </tr>\n",
       "    <tr>\n",
       "      <th>3</th>\n",
       "      <td>False</td>\n",
       "      <td>False</td>\n",
       "      <td>False</td>\n",
       "      <td>False</td>\n",
       "      <td>False</td>\n",
       "      <td>False</td>\n",
       "      <td>False</td>\n",
       "      <td>False</td>\n",
       "      <td>False</td>\n",
       "      <td>False</td>\n",
       "      <td>False</td>\n",
       "      <td>False</td>\n",
       "      <td>False</td>\n",
       "    </tr>\n",
       "    <tr>\n",
       "      <th>4</th>\n",
       "      <td>False</td>\n",
       "      <td>False</td>\n",
       "      <td>False</td>\n",
       "      <td>False</td>\n",
       "      <td>False</td>\n",
       "      <td>False</td>\n",
       "      <td>False</td>\n",
       "      <td>False</td>\n",
       "      <td>False</td>\n",
       "      <td>False</td>\n",
       "      <td>False</td>\n",
       "      <td>False</td>\n",
       "      <td>False</td>\n",
       "    </tr>\n",
       "    <tr>\n",
       "      <th>...</th>\n",
       "      <td>...</td>\n",
       "      <td>...</td>\n",
       "      <td>...</td>\n",
       "      <td>...</td>\n",
       "      <td>...</td>\n",
       "      <td>...</td>\n",
       "      <td>...</td>\n",
       "      <td>...</td>\n",
       "      <td>...</td>\n",
       "      <td>...</td>\n",
       "      <td>...</td>\n",
       "      <td>...</td>\n",
       "      <td>...</td>\n",
       "    </tr>\n",
       "    <tr>\n",
       "      <th>609</th>\n",
       "      <td>False</td>\n",
       "      <td>False</td>\n",
       "      <td>False</td>\n",
       "      <td>False</td>\n",
       "      <td>False</td>\n",
       "      <td>False</td>\n",
       "      <td>False</td>\n",
       "      <td>False</td>\n",
       "      <td>False</td>\n",
       "      <td>False</td>\n",
       "      <td>False</td>\n",
       "      <td>False</td>\n",
       "      <td>False</td>\n",
       "    </tr>\n",
       "    <tr>\n",
       "      <th>610</th>\n",
       "      <td>False</td>\n",
       "      <td>False</td>\n",
       "      <td>False</td>\n",
       "      <td>False</td>\n",
       "      <td>False</td>\n",
       "      <td>False</td>\n",
       "      <td>False</td>\n",
       "      <td>False</td>\n",
       "      <td>False</td>\n",
       "      <td>False</td>\n",
       "      <td>False</td>\n",
       "      <td>False</td>\n",
       "      <td>False</td>\n",
       "    </tr>\n",
       "    <tr>\n",
       "      <th>611</th>\n",
       "      <td>False</td>\n",
       "      <td>False</td>\n",
       "      <td>False</td>\n",
       "      <td>False</td>\n",
       "      <td>False</td>\n",
       "      <td>False</td>\n",
       "      <td>False</td>\n",
       "      <td>False</td>\n",
       "      <td>False</td>\n",
       "      <td>False</td>\n",
       "      <td>False</td>\n",
       "      <td>False</td>\n",
       "      <td>False</td>\n",
       "    </tr>\n",
       "    <tr>\n",
       "      <th>612</th>\n",
       "      <td>False</td>\n",
       "      <td>False</td>\n",
       "      <td>False</td>\n",
       "      <td>False</td>\n",
       "      <td>False</td>\n",
       "      <td>False</td>\n",
       "      <td>False</td>\n",
       "      <td>False</td>\n",
       "      <td>False</td>\n",
       "      <td>False</td>\n",
       "      <td>False</td>\n",
       "      <td>False</td>\n",
       "      <td>False</td>\n",
       "    </tr>\n",
       "    <tr>\n",
       "      <th>613</th>\n",
       "      <td>False</td>\n",
       "      <td>False</td>\n",
       "      <td>False</td>\n",
       "      <td>False</td>\n",
       "      <td>False</td>\n",
       "      <td>False</td>\n",
       "      <td>False</td>\n",
       "      <td>False</td>\n",
       "      <td>False</td>\n",
       "      <td>False</td>\n",
       "      <td>False</td>\n",
       "      <td>False</td>\n",
       "      <td>False</td>\n",
       "    </tr>\n",
       "  </tbody>\n",
       "</table>\n",
       "<p>614 rows × 13 columns</p>\n",
       "</div>"
      ],
      "text/plain": [
       "     Loan_ID  Gender  Married  Dependents  Education  Self_Employed  \\\n",
       "0      False   False    False       False      False          False   \n",
       "1      False   False    False       False      False          False   \n",
       "2      False   False    False       False      False          False   \n",
       "3      False   False    False       False      False          False   \n",
       "4      False   False    False       False      False          False   \n",
       "..       ...     ...      ...         ...        ...            ...   \n",
       "609    False   False    False       False      False          False   \n",
       "610    False   False    False       False      False          False   \n",
       "611    False   False    False       False      False          False   \n",
       "612    False   False    False       False      False          False   \n",
       "613    False   False    False       False      False          False   \n",
       "\n",
       "     ApplicantIncome  CoapplicantIncome  LoanAmount  Loan_Amount_Term  \\\n",
       "0              False              False       False             False   \n",
       "1              False              False       False             False   \n",
       "2              False              False       False             False   \n",
       "3              False              False       False             False   \n",
       "4              False              False       False             False   \n",
       "..               ...                ...         ...               ...   \n",
       "609            False              False       False             False   \n",
       "610            False              False       False             False   \n",
       "611            False              False       False             False   \n",
       "612            False              False       False             False   \n",
       "613            False              False       False             False   \n",
       "\n",
       "     Credit_History  Property_Area  Loan_Status  \n",
       "0             False          False        False  \n",
       "1             False          False        False  \n",
       "2             False          False        False  \n",
       "3             False          False        False  \n",
       "4             False          False        False  \n",
       "..              ...            ...          ...  \n",
       "609           False          False        False  \n",
       "610           False          False        False  \n",
       "611           False          False        False  \n",
       "612           False          False        False  \n",
       "613           False          False        False  \n",
       "\n",
       "[614 rows x 13 columns]"
      ]
     },
     "execution_count": 11,
     "metadata": {},
     "output_type": "execute_result"
    }
   ],
   "source": [
    "# Checking for white spaces\n",
    "df_loan.loc[0:]==\" \""
   ]
  },
  {
   "cell_type": "markdown",
   "id": "6402eb02",
   "metadata": {},
   "source": [
    "Obs- There is no white space in the data"
   ]
  },
  {
   "cell_type": "code",
   "execution_count": 12,
   "id": "c20f4fba",
   "metadata": {},
   "outputs": [
    {
     "data": {
      "text/plain": [
       "0"
      ]
     },
     "execution_count": 12,
     "metadata": {},
     "output_type": "execute_result"
    }
   ],
   "source": [
    "#Check for duplicate data\n",
    "df_loan.duplicated().sum()"
   ]
  },
  {
   "cell_type": "markdown",
   "id": "70bd448d",
   "metadata": {},
   "source": [
    "Obs- We can see there is no duplicate data "
   ]
  },
  {
   "cell_type": "code",
   "execution_count": 13,
   "id": "b16e352d",
   "metadata": {},
   "outputs": [
    {
     "data": {
      "text/plain": [
       "Loan_ID              614\n",
       "Gender                 2\n",
       "Married                2\n",
       "Dependents             4\n",
       "Education              2\n",
       "Self_Employed          2\n",
       "ApplicantIncome      505\n",
       "CoapplicantIncome    287\n",
       "LoanAmount           204\n",
       "Loan_Amount_Term      11\n",
       "Credit_History         2\n",
       "Property_Area          3\n",
       "Loan_Status            2\n",
       "dtype: int64"
      ]
     },
     "execution_count": 13,
     "metadata": {},
     "output_type": "execute_result"
    }
   ],
   "source": [
    "# Checking unique entries \n",
    "df_loan.nunique()"
   ]
  },
  {
   "cell_type": "markdown",
   "id": "4475c29f",
   "metadata": {},
   "source": [
    "obs- We can see Loan-Id has all unique entries and is not equired for model prediction, wo will be deleting this column"
   ]
  },
  {
   "cell_type": "code",
   "execution_count": 14,
   "id": "7cd94960",
   "metadata": {},
   "outputs": [],
   "source": [
    "# Deleting Loan_ID column\n",
    "df_loan.drop(columns=\"Loan_ID\", axis=1,inplace=True)"
   ]
  },
  {
   "cell_type": "code",
   "execution_count": 15,
   "id": "9ec2bf32",
   "metadata": {},
   "outputs": [
    {
     "data": {
      "text/plain": [
       "(614, 12)"
      ]
     },
     "execution_count": 15,
     "metadata": {},
     "output_type": "execute_result"
    }
   ],
   "source": [
    "df_loan.shape"
   ]
  },
  {
   "cell_type": "markdown",
   "id": "bb3a904b",
   "metadata": {},
   "source": [
    "Obs- We can see 1 column entry has been dropped"
   ]
  },
  {
   "cell_type": "code",
   "execution_count": 16,
   "id": "da2effa6",
   "metadata": {},
   "outputs": [
    {
     "data": {
      "text/html": [
       "<div>\n",
       "<style scoped>\n",
       "    .dataframe tbody tr th:only-of-type {\n",
       "        vertical-align: middle;\n",
       "    }\n",
       "\n",
       "    .dataframe tbody tr th {\n",
       "        vertical-align: top;\n",
       "    }\n",
       "\n",
       "    .dataframe thead th {\n",
       "        text-align: right;\n",
       "    }\n",
       "</style>\n",
       "<table border=\"1\" class=\"dataframe\">\n",
       "  <thead>\n",
       "    <tr style=\"text-align: right;\">\n",
       "      <th></th>\n",
       "      <th>ApplicantIncome</th>\n",
       "      <th>CoapplicantIncome</th>\n",
       "      <th>LoanAmount</th>\n",
       "      <th>Loan_Amount_Term</th>\n",
       "      <th>Credit_History</th>\n",
       "    </tr>\n",
       "  </thead>\n",
       "  <tbody>\n",
       "    <tr>\n",
       "      <th>count</th>\n",
       "      <td>614.000000</td>\n",
       "      <td>614.000000</td>\n",
       "      <td>614.000000</td>\n",
       "      <td>614.000000</td>\n",
       "      <td>614.000000</td>\n",
       "    </tr>\n",
       "    <tr>\n",
       "      <th>mean</th>\n",
       "      <td>5403.459283</td>\n",
       "      <td>1621.245798</td>\n",
       "      <td>146.412162</td>\n",
       "      <td>342.000000</td>\n",
       "      <td>0.855049</td>\n",
       "    </tr>\n",
       "    <tr>\n",
       "      <th>std</th>\n",
       "      <td>6109.041673</td>\n",
       "      <td>2926.248369</td>\n",
       "      <td>84.037468</td>\n",
       "      <td>64.372489</td>\n",
       "      <td>0.352339</td>\n",
       "    </tr>\n",
       "    <tr>\n",
       "      <th>min</th>\n",
       "      <td>150.000000</td>\n",
       "      <td>0.000000</td>\n",
       "      <td>9.000000</td>\n",
       "      <td>12.000000</td>\n",
       "      <td>0.000000</td>\n",
       "    </tr>\n",
       "    <tr>\n",
       "      <th>25%</th>\n",
       "      <td>2877.500000</td>\n",
       "      <td>0.000000</td>\n",
       "      <td>100.250000</td>\n",
       "      <td>360.000000</td>\n",
       "      <td>1.000000</td>\n",
       "    </tr>\n",
       "    <tr>\n",
       "      <th>50%</th>\n",
       "      <td>3812.500000</td>\n",
       "      <td>1188.500000</td>\n",
       "      <td>129.000000</td>\n",
       "      <td>360.000000</td>\n",
       "      <td>1.000000</td>\n",
       "    </tr>\n",
       "    <tr>\n",
       "      <th>75%</th>\n",
       "      <td>5795.000000</td>\n",
       "      <td>2297.250000</td>\n",
       "      <td>164.750000</td>\n",
       "      <td>360.000000</td>\n",
       "      <td>1.000000</td>\n",
       "    </tr>\n",
       "    <tr>\n",
       "      <th>max</th>\n",
       "      <td>81000.000000</td>\n",
       "      <td>41667.000000</td>\n",
       "      <td>700.000000</td>\n",
       "      <td>480.000000</td>\n",
       "      <td>1.000000</td>\n",
       "    </tr>\n",
       "  </tbody>\n",
       "</table>\n",
       "</div>"
      ],
      "text/plain": [
       "       ApplicantIncome  CoapplicantIncome  LoanAmount  Loan_Amount_Term  \\\n",
       "count       614.000000         614.000000  614.000000        614.000000   \n",
       "mean       5403.459283        1621.245798  146.412162        342.000000   \n",
       "std        6109.041673        2926.248369   84.037468         64.372489   \n",
       "min         150.000000           0.000000    9.000000         12.000000   \n",
       "25%        2877.500000           0.000000  100.250000        360.000000   \n",
       "50%        3812.500000        1188.500000  129.000000        360.000000   \n",
       "75%        5795.000000        2297.250000  164.750000        360.000000   \n",
       "max       81000.000000       41667.000000  700.000000        480.000000   \n",
       "\n",
       "       Credit_History  \n",
       "count      614.000000  \n",
       "mean         0.855049  \n",
       "std          0.352339  \n",
       "min          0.000000  \n",
       "25%          1.000000  \n",
       "50%          1.000000  \n",
       "75%          1.000000  \n",
       "max          1.000000  "
      ]
     },
     "execution_count": 16,
     "metadata": {},
     "output_type": "execute_result"
    }
   ],
   "source": [
    "#Checking description of dataset\n",
    "df_loan.describe()"
   ]
  },
  {
   "cell_type": "markdown",
   "id": "0b0de770",
   "metadata": {},
   "source": [
    "Obs-\n",
    "* We can see mean of the columns 'ApplicantIncome', 'CoapplicantIncome', 'LoanAmount' is higher than median, and therefore we can say data is right skewed.\n",
    "\n",
    "* We can see mean of columns 'Loan_Amount_Term', 'Credit_History' is lower than median , and therefore we can say data is left skewed\n",
    "\n",
    "* Also we can observe max of the columns 'ApplicantIncome', 'CoapplicantIncome', 'LoanAmount','Loan_Amount_Term' is exceptionally high than 75%, so we can say outliers are present in the columns"
   ]
  },
  {
   "cell_type": "code",
   "execution_count": 17,
   "id": "980823d4",
   "metadata": {},
   "outputs": [],
   "source": [
    "# Grouping categorical columns into one\n",
    "cat_cols = [x for x in df_loan.columns if df_loan[x].dtypes=='O']\n",
    "# Grouping numerical columns into one\n",
    "num_cols = [y for y in df_loan.columns if df_loan[y].dtypes!='O']"
   ]
  },
  {
   "cell_type": "code",
   "execution_count": 18,
   "id": "58417ab3",
   "metadata": {},
   "outputs": [
    {
     "data": {
      "text/plain": [
       "['Gender',\n",
       " 'Married',\n",
       " 'Dependents',\n",
       " 'Education',\n",
       " 'Self_Employed',\n",
       " 'Property_Area',\n",
       " 'Loan_Status']"
      ]
     },
     "execution_count": 18,
     "metadata": {},
     "output_type": "execute_result"
    }
   ],
   "source": [
    "cat_cols"
   ]
  },
  {
   "cell_type": "code",
   "execution_count": 19,
   "id": "226d35cc",
   "metadata": {},
   "outputs": [
    {
     "data": {
      "text/plain": [
       "['ApplicantIncome',\n",
       " 'CoapplicantIncome',\n",
       " 'LoanAmount',\n",
       " 'Loan_Amount_Term',\n",
       " 'Credit_History']"
      ]
     },
     "execution_count": 19,
     "metadata": {},
     "output_type": "execute_result"
    }
   ],
   "source": [
    "num_cols"
   ]
  },
  {
   "cell_type": "markdown",
   "id": "2cf11bc2",
   "metadata": {},
   "source": [
    "## Visualization"
   ]
  },
  {
   "cell_type": "markdown",
   "id": "5b475a38",
   "metadata": {},
   "source": [
    "### Univariate Analysis"
   ]
  },
  {
   "cell_type": "code",
   "execution_count": 20,
   "id": "82b8fea3",
   "metadata": {},
   "outputs": [
    {
     "data": {
      "text/plain": [
       "Index(['Gender', 'Married', 'Dependents', 'Education', 'Self_Employed',\n",
       "       'ApplicantIncome', 'CoapplicantIncome', 'LoanAmount',\n",
       "       'Loan_Amount_Term', 'Credit_History', 'Property_Area', 'Loan_Status'],\n",
       "      dtype='object')"
      ]
     },
     "execution_count": 20,
     "metadata": {},
     "output_type": "execute_result"
    }
   ],
   "source": [
    "df_loan.columns"
   ]
  },
  {
   "cell_type": "code",
   "execution_count": 21,
   "id": "7e7da3b2",
   "metadata": {},
   "outputs": [
    {
     "name": "stdout",
     "output_type": "stream",
     "text": [
      "Male      502\n",
      "Female    112\n",
      "Name: Gender, dtype: int64\n"
     ]
    },
    {
     "data": {
      "image/png": "[encoded data removed]",
      "text/plain": [
       "<Figure size 504x360 with 1 Axes>"
      ]
     },
     "metadata": {
      "needs_background": "light"
     },
     "output_type": "display_data"
    },
    {
     "data": {
      "image/png": "[encoded data removed]",
      "text/plain": [
       "<Figure size 432x288 with 1 Axes>"
      ]
     },
     "metadata": {},
     "output_type": "display_data"
    }
   ],
   "source": [
    "# Count plot to check individual value counts of 'Gender'\n",
    "print(df_loan['Gender'].value_counts())\n",
    "\n",
    "plt.figure(figsize=(7,5))\n",
    "sns.countplot(df_loan['Gender'])\n",
    "plt.xticks(rotation=45)\n",
    "plt.show()\n",
    "# Pie plot to show percentage diff \n",
    "fig, ax = plt.subplots()\n",
    "ax.pie(df_loan['Gender'].value_counts(),labels = ['Male','Female'], radius=2,autopct='%1.2f%%',colors=['steelblue','orange'])\n",
    "plt.show()"
   ]
  },
  {
   "cell_type": "markdown",
   "id": "dde04579",
   "metadata": {},
   "source": [
    "Obs- We can see the percentage of Male Applicants(81.36%) for Loan applictaion is far more than Female(18.64%)"
   ]
  },
  {
   "cell_type": "code",
   "execution_count": 22,
   "id": "c4254bcd",
   "metadata": {},
   "outputs": [
    {
     "name": "stdout",
     "output_type": "stream",
     "text": [
      "Yes    401\n",
      "No     213\n",
      "Name: Married, dtype: int64\n"
     ]
    },
    {
     "data": {
      "image/png": "[encoded data removed]",
      "text/plain": [
       "<Figure size 504x360 with 1 Axes>"
      ]
     },
     "metadata": {
      "needs_background": "light"
     },
     "output_type": "display_data"
    }
   ],
   "source": [
    "# Count plot to check  Marrital Status\n",
    "print(df_loan['Married'].value_counts())\n",
    "\n",
    "plt.figure(figsize=(7,5))\n",
    "sns.countplot(df_loan['Married'])\n",
    "plt.xticks(rotation=45)\n",
    "plt.show()"
   ]
  },
  {
   "cell_type": "markdown",
   "id": "b50ee6b6",
   "metadata": {},
   "source": [
    "Obs-We can see people who are married are double than those are not-married"
   ]
  },
  {
   "cell_type": "code",
   "execution_count": 23,
   "id": "0894387e",
   "metadata": {},
   "outputs": [
    {
     "name": "stdout",
     "output_type": "stream",
     "text": [
      "0     360\n",
      "1     102\n",
      "2     101\n",
      "3+     51\n",
      "Name: Dependents, dtype: int64\n"
     ]
    },
    {
     "data": {
      "image/png": "[encoded data removed]",
      "text/plain": [
       "<Figure size 504x360 with 1 Axes>"
      ]
     },
     "metadata": {
      "needs_background": "light"
     },
     "output_type": "display_data"
    }
   ],
   "source": [
    "# Count plot to check individual value counts of 'Dependents'\n",
    "print(df_loan['Dependents'].value_counts())\n",
    "\n",
    "plt.figure(figsize=(7,5))\n",
    "sns.countplot(df_loan['Dependents'])\n",
    "plt.xticks(rotation=45)\n",
    "plt.show()"
   ]
  },
  {
   "cell_type": "markdown",
   "id": "a2893035",
   "metadata": {},
   "source": [
    "Obs- We can observe that for people who have taken loan , max have '0' dependents, many have either 1/2 dependents, and a few others even have 3 or more than 3 dependents t"
   ]
  },
  {
   "cell_type": "code",
   "execution_count": 24,
   "id": "cced3985",
   "metadata": {},
   "outputs": [
    {
     "name": "stdout",
     "output_type": "stream",
     "text": [
      "Graduate        480\n",
      "Not Graduate    134\n",
      "Name: Education, dtype: int64\n"
     ]
    },
    {
     "data": {
      "image/png": "[encoded data removed]",
      "text/plain": [
       "<Figure size 504x360 with 1 Axes>"
      ]
     },
     "metadata": {
      "needs_background": "light"
     },
     "output_type": "display_data"
    }
   ],
   "source": [
    "# Count plot to check individual value counts of 'Education'\n",
    "print(df_loan['Education'].value_counts())\n",
    "\n",
    "plt.figure(figsize=(7,5))\n",
    "sns.countplot(df_loan['Education'])\n",
    "plt.xticks(rotation=45)\n",
    "plt.show()"
   ]
  },
  {
   "cell_type": "markdown",
   "id": "fac3e406",
   "metadata": {},
   "source": [
    "Obs- We can see the max people those have appplied for Loan are Graduate"
   ]
  },
  {
   "cell_type": "code",
   "execution_count": 25,
   "id": "769331b7",
   "metadata": {},
   "outputs": [
    {
     "name": "stdout",
     "output_type": "stream",
     "text": [
      "No     532\n",
      "Yes     82\n",
      "Name: Self_Employed, dtype: int64\n"
     ]
    },
    {
     "data": {
      "image/png": "[encoded data removed]",
      "text/plain": [
       "<Figure size 504x360 with 1 Axes>"
      ]
     },
     "metadata": {
      "needs_background": "light"
     },
     "output_type": "display_data"
    }
   ],
   "source": [
    "# Count plot to check whether people are self employed or not\n",
    "print(df_loan['Self_Employed'].value_counts())\n",
    "\n",
    "plt.figure(figsize=(7,5))\n",
    "sns.countplot(df_loan['Self_Employed'])\n",
    "plt.xticks(rotation=45)\n",
    "plt.show()"
   ]
  },
  {
   "cell_type": "markdown",
   "id": "0c110c70",
   "metadata": {},
   "source": [
    "Obs- We can see a very few number of Employees are Self-Employed, and most of them we can say do job"
   ]
  },
  {
   "cell_type": "code",
   "execution_count": 26,
   "id": "b1ae1a97",
   "metadata": {},
   "outputs": [
    {
     "name": "stdout",
     "output_type": "stream",
     "text": [
      "360.0    512\n",
      "180.0     44\n",
      "480.0     15\n",
      "342.0     14\n",
      "300.0     13\n",
      "240.0      4\n",
      "84.0       4\n",
      "120.0      3\n",
      "60.0       2\n",
      "36.0       2\n",
      "12.0       1\n",
      "Name: Loan_Amount_Term, dtype: int64\n"
     ]
    },
    {
     "data": {
      "image/png": "[encoded data removed]",
      "text/plain": [
       "<Figure size 720x432 with 1 Axes>"
      ]
     },
     "metadata": {
      "needs_background": "light"
     },
     "output_type": "display_data"
    }
   ],
   "source": [
    "# Count plot to check individual value counts of 'Term-Amount'\n",
    "print(df_loan['Loan_Amount_Term'].value_counts())\n",
    "\n",
    "plt.figure(figsize=(10,6))\n",
    "sns.countplot(df_loan['Loan_Amount_Term'])\n",
    "plt.xticks(rotation=45)\n",
    "plt.show()"
   ]
  },
  {
   "cell_type": "markdown",
   "id": "1ccb4ad8",
   "metadata": {},
   "source": [
    "Obs- We can observe most of the applicants have taken the Loan-Amount_Termfor 360 Months i.e. for 30 years, a few for 480 month(40 years), a very few who have taken for 36 months(3 years)/60months(5years)also"
   ]
  },
  {
   "cell_type": "code",
   "execution_count": 27,
   "id": "a968f814",
   "metadata": {},
   "outputs": [
    {
     "name": "stdout",
     "output_type": "stream",
     "text": [
      "1.0    525\n",
      "0.0     89\n",
      "Name: Credit_History, dtype: int64\n"
     ]
    },
    {
     "data": {
      "image/png": "[encoded data removed]",
      "text/plain": [
       "<Figure size 504x360 with 1 Axes>"
      ]
     },
     "metadata": {
      "needs_background": "light"
     },
     "output_type": "display_data"
    }
   ],
   "source": [
    "# Count plot to check status of 'Credit_History'\n",
    "print(df_loan['Credit_History'].value_counts())\n",
    "\n",
    "plt.figure(figsize=(7,5))\n",
    "sns.countplot(df_loan['Credit_History'])\n",
    "plt.xticks(rotation=45)\n",
    "plt.show()"
   ]
  },
  {
   "cell_type": "markdown",
   "id": "e7889c18",
   "metadata": {},
   "source": [
    "Obs- We can see very few applicants those have applied for loan have bad Credit_history, while max have a good Credit_history"
   ]
  },
  {
   "cell_type": "code",
   "execution_count": 28,
   "id": "8ca04a51",
   "metadata": {},
   "outputs": [
    {
     "name": "stdout",
     "output_type": "stream",
     "text": [
      "Semiurban    233\n",
      "Urban        202\n",
      "Rural        179\n",
      "Name: Property_Area, dtype: int64\n"
     ]
    },
    {
     "data": {
      "image/png": "[encoded data removed]",
      "text/plain": [
       "<Figure size 504x360 with 1 Axes>"
      ]
     },
     "metadata": {
      "needs_background": "light"
     },
     "output_type": "display_data"
    }
   ],
   "source": [
    "# Count plot to check property-area of applicants\n",
    "print(df_loan['Property_Area'].value_counts())\n",
    "\n",
    "plt.figure(figsize=(7,5))\n",
    "sns.countplot(df_loan['Property_Area'])\n",
    "plt.xticks(rotation=45)\n",
    "plt.show()"
   ]
  },
  {
   "cell_type": "markdown",
   "id": "22dda194",
   "metadata": {},
   "source": [
    "Obs- There is an almost equal distribution of people from 'Urban','Rural','Semiurban' areas for loan"
   ]
  },
  {
   "cell_type": "code",
   "execution_count": 29,
   "id": "e053b385",
   "metadata": {},
   "outputs": [
    {
     "name": "stdout",
     "output_type": "stream",
     "text": [
      "Y    422\n",
      "N    192\n",
      "Name: Loan_Status, dtype: int64\n"
     ]
    },
    {
     "data": {
      "image/png": "[encoded data removed]",
      "text/plain": [
       "<Figure size 504x360 with 1 Axes>"
      ]
     },
     "metadata": {
      "needs_background": "light"
     },
     "output_type": "display_data"
    }
   ],
   "source": [
    "# Count plot to check individual value counts of Loan Status\n",
    "print(df_loan['Loan_Status'].value_counts())\n",
    "\n",
    "plt.figure(figsize=(7,5))\n",
    "sns.countplot(df_loan['Loan_Status'])\n",
    "plt.xticks(rotation=45)\n",
    "plt.show()"
   ]
  },
  {
   "cell_type": "markdown",
   "id": "fe7078e3",
   "metadata": {},
   "source": [
    "Obs- We can see the loan has been approved for  422 person and been rejected for 192 person"
   ]
  },
  {
   "cell_type": "code",
   "execution_count": 30,
   "id": "ba38d0eb",
   "metadata": {},
   "outputs": [
    {
     "data": {
      "text/plain": [
       "<AxesSubplot:xlabel='ApplicantIncome', ylabel='Count'>"
      ]
     },
     "execution_count": 30,
     "metadata": {},
     "output_type": "execute_result"
    },
    {
     "data": {
      "image/png": "[encoded data removed]",
      "text/plain": [
       "<Figure size 720x432 with 1 Axes>"
      ]
     },
     "metadata": {
      "needs_background": "light"
     },
     "output_type": "display_data"
    }
   ],
   "source": [
    "# Histogram to check distribution of Applicant's Income\n",
    "plt.figure(figsize=(10,6))\n",
    "sns.histplot(df_loan['ApplicantIncome'],bins=10)"
   ]
  },
  {
   "cell_type": "markdown",
   "id": "ee4bf177",
   "metadata": {},
   "source": [
    "Obs- We can see majority of applicant's income falls below or equal to 5000, few others have below or equal to 10000, a very few who have nearly 20000, and very few those have above that"
   ]
  },
  {
   "cell_type": "code",
   "execution_count": 31,
   "id": "bc414aef",
   "metadata": {},
   "outputs": [
    {
     "data": {
      "text/plain": [
       "<AxesSubplot:xlabel='CoapplicantIncome', ylabel='Count'>"
      ]
     },
     "execution_count": 31,
     "metadata": {},
     "output_type": "execute_result"
    },
    {
     "data": {
      "image/png": "[encoded data removed]",
      "text/plain": [
       "<Figure size 648x360 with 1 Axes>"
      ]
     },
     "metadata": {
      "needs_background": "light"
     },
     "output_type": "display_data"
    }
   ],
   "source": [
    "# Histogram to check distribution of Co-applicant's Income\n",
    "plt.figure(figsize=(9,5))\n",
    "sns.histplot(df_loan['CoapplicantIncome'],bins=20)"
   ]
  },
  {
   "cell_type": "markdown",
   "id": "bb8cc699",
   "metadata": {},
   "source": [
    "Obs- We can see majority of the co-applicant's income is below 4000"
   ]
  },
  {
   "cell_type": "code",
   "execution_count": 32,
   "id": "57c325c9",
   "metadata": {},
   "outputs": [
    {
     "data": {
      "text/plain": [
       "<AxesSubplot:xlabel='LoanAmount', ylabel='Count'>"
      ]
     },
     "execution_count": 32,
     "metadata": {},
     "output_type": "execute_result"
    },
    {
     "data": {
      "image/png": "[encoded data removed]",
      "text/plain": [
       "<Figure size 648x360 with 1 Axes>"
      ]
     },
     "metadata": {
      "needs_background": "light"
     },
     "output_type": "display_data"
    }
   ],
   "source": [
    "# Violin plot to check distribution of Loan Amount\n",
    "plt.figure(figsize=(9,5))\n",
    "sns.histplot(df_loan['LoanAmount'],bins=10)"
   ]
  },
  {
   "cell_type": "markdown",
   "id": "060eb54f",
   "metadata": {},
   "source": [
    "Obs- We can see majority have filled for loan amount of nearly 100 thousands, a few who have filled for nearly 200 thousands, few who have filled for less than 100 thousands and a b=very few who have filled for more than 500 thousands"
   ]
  },
  {
   "cell_type": "code",
   "execution_count": 33,
   "id": "6f8b000e",
   "metadata": {},
   "outputs": [],
   "source": [
    "# Distribution plot to check skewness in the features"
   ]
  },
  {
   "cell_type": "code",
   "execution_count": 34,
   "id": "f63ffd07",
   "metadata": {},
   "outputs": [
    {
     "data": {
      "image/png": "[encoded data removed]",
      "text/plain": [
       "<Figure size 1440x1440 with 5 Axes>"
      ]
     },
     "metadata": {
      "needs_background": "light"
     },
     "output_type": "display_data"
    }
   ],
   "source": [
    "plt.figure(figsize=(20,20))\n",
    "plotnumber=1\n",
    "\n",
    "     \n",
    "for column in num_cols:\n",
    "    if plotnumber<=5: #as there are 5 continuous columns \n",
    "        ax=plt.subplot(2,3,plotnumber)\n",
    "        sns.distplot(df_loan[column])\n",
    "        plt.xlabel(column,fontsize=25)\n",
    "    plotnumber +=1\n",
    "plt.show()"
   ]
  },
  {
   "cell_type": "markdown",
   "id": "5b5d86b6",
   "metadata": {},
   "source": [
    "Obs- We can see right skewness in the columns 'ApplicantIncome', 'CoapplicantIncome', 'LoanAmount0' and Left skewness in columns 'Loan_Amount_Term', 'Credit_History' "
   ]
  },
  {
   "cell_type": "code",
   "execution_count": 35,
   "id": "92bd8cb4",
   "metadata": {},
   "outputs": [],
   "source": [
    "#box plot to check outliers"
   ]
  },
  {
   "cell_type": "code",
   "execution_count": 36,
   "id": "7c706c61",
   "metadata": {},
   "outputs": [
    {
     "data": {
      "image/png": "[encoded data removed]",
      "text/plain": [
       "<Figure size 1440x1080 with 6 Axes>"
      ]
     },
     "metadata": {
      "needs_background": "light"
     },
     "output_type": "display_data"
    }
   ],
   "source": [
    "df_loan.plot(kind='box',subplots=True,layout=(2,3),figsize=(20,15))\n",
    "plt.show()"
   ]
  },
  {
   "cell_type": "markdown",
   "id": "5743a29b",
   "metadata": {},
   "source": [
    "Obs- We can see outliers are presemt in all the columns."
   ]
  },
  {
   "cell_type": "markdown",
   "id": "9902204b",
   "metadata": {},
   "source": [
    "### Bivariate and Multivariate Visualization"
   ]
  },
  {
   "cell_type": "code",
   "execution_count": 37,
   "id": "1ff05af8",
   "metadata": {},
   "outputs": [],
   "source": [
    "# 'Loan_Status(Target)' vs Categorical Data Columns"
   ]
  },
  {
   "cell_type": "code",
   "execution_count": 38,
   "id": "5ea73c72",
   "metadata": {
    "scrolled": false
   },
   "outputs": [
    {
     "data": {
      "image/png": "[encoded data removed]",
      "text/plain": [
       "<Figure size 864x360 with 1 Axes>"
      ]
     },
     "metadata": {
      "needs_background": "light"
     },
     "output_type": "display_data"
    },
    {
     "data": {
      "image/png": "[encoded data removed]",
      "text/plain": [
       "<Figure size 864x360 with 1 Axes>"
      ]
     },
     "metadata": {
      "needs_background": "light"
     },
     "output_type": "display_data"
    },
    {
     "data": {
      "image/png": "[encoded data removed]",
      "text/plain": [
       "<Figure size 864x360 with 1 Axes>"
      ]
     },
     "metadata": {
      "needs_background": "light"
     },
     "output_type": "display_data"
    },
    {
     "data": {
      "image/png": "[encoded data removed]",
      "text/plain": [
       "<Figure size 864x360 with 1 Axes>"
      ]
     },
     "metadata": {
      "needs_background": "light"
     },
     "output_type": "display_data"
    },
    {
     "data": {
      "image/png": "[encoded data removed]",
      "text/plain": [
       "<Figure size 864x360 with 1 Axes>"
      ]
     },
     "metadata": {
      "needs_background": "light"
     },
     "output_type": "display_data"
    },
    {
     "data": {
      "image/png": "[encoded data removed]",
      "text/plain": [
       "<Figure size 864x360 with 1 Axes>"
      ]
     },
     "metadata": {
      "needs_background": "light"
     },
     "output_type": "display_data"
    }
   ],
   "source": [
    "# count plot of the individual categorical features w.r.t. Loan_status\n",
    "\n",
    "for i in df_loan[cat_cols[0:-1]]:  # Excluded Loan_status Column and added it as a hue\n",
    "    plt.figure(figsize=(12,5))\n",
    "    chart = sns.countplot(x=i,data=df_loan,hue='Loan_Status')\n",
    "    plt.xticks(rotation=45)\n",
    "    plt.show()"
   ]
  },
  {
   "cell_type": "markdown",
   "id": "b2cf53e9",
   "metadata": {},
   "source": [
    "Obs- \n",
    "* 1.'Gender': We can see even though more numbber of males have applied for loans, but percentage of grant to females is more.\n",
    "* 2.'Married': The loan approval percentage is more for unmarried person in comparison to married.\n",
    "* 3.'Dependents': The no. of dependents haven't affected grant of loan.\n",
    "* 4.'Self-Employeed': For people who are self-employees their percentage-of-approval is more.\n",
    "* 5.'Property_Area': We can see 'Rural' area's percentage of loan-approval is the highest, followed by Urban and least no. of approvals are granted to Semiurban living people. "
   ]
  },
  {
   "cell_type": "code",
   "execution_count": 39,
   "id": "c1955f2e",
   "metadata": {},
   "outputs": [
    {
     "data": {
      "text/plain": [
       "<AxesSubplot:xlabel='Credit_History', ylabel='count'>"
      ]
     },
     "execution_count": 39,
     "metadata": {},
     "output_type": "execute_result"
    },
    {
     "data": {
      "image/png": "[encoded data removed]",
      "text/plain": [
       "<Figure size 648x432 with 1 Axes>"
      ]
     },
     "metadata": {
      "needs_background": "light"
     },
     "output_type": "display_data"
    }
   ],
   "source": [
    "# Count Plot to check loan_status as per Credit_history\n",
    "plt.figure(figsize=(9,6))\n",
    "sns.countplot(x=df_loan['Credit_History'],hue=df_loan['Loan_Status'])"
   ]
  },
  {
   "cell_type": "markdown",
   "id": "ea2bb40d",
   "metadata": {},
   "source": [
    "Obs- We can see even those who have bad credit_history are provided with loan_amount"
   ]
  },
  {
   "cell_type": "code",
   "execution_count": 40,
   "id": "ca14f161",
   "metadata": {},
   "outputs": [],
   "source": [
    "# 'Loan_Status(Target)' vs Continuous Data Columns"
   ]
  },
  {
   "cell_type": "code",
   "execution_count": 41,
   "id": "a2d4dea1",
   "metadata": {},
   "outputs": [
    {
     "data": {
      "image/png": "[encoded data removed]",
      "text/plain": [
       "<Figure size 936x576 with 5 Axes>"
      ]
     },
     "metadata": {},
     "output_type": "display_data"
    }
   ],
   "source": [
    "plt.figure(figsize=(13,8),facecolor='white')\n",
    "plotnum=1\n",
    "y = df_loan['Loan_Status']\n",
    "X = df_loan[num_cols]\n",
    "for col in X:\n",
    "    if plotnum<=6:\n",
    "        plt.subplot(2,3,plotnum)\n",
    "        sns.barplot(y,X[col], palette='rocket')\n",
    "        plt.xlabel('Loan_Status',fontsize=20)\n",
    "        plt.ylabel(col,fontsize=20)\n",
    "    plotnum+=1\n",
    "plt.tight_layout()"
   ]
  },
  {
   "cell_type": "markdown",
   "id": "30d1019a",
   "metadata": {},
   "source": [
    "Obs- \n",
    "* 1. 'Applicant_Income': We can see Applicant's income doesn't mush affect the loan granting mechanism.\n",
    "* 2. 'Coapplicant_Income': We can see Loan is granted more to people who have CoaaplicantIncomenearly 1500, and reject it if it is more than that.\n",
    "* 3. 'Loan Amount'doesnt  much affect the loan_status\n",
    "* 4. 'Loan_Amount_Term'doesnt  much affect the loan_status.\n",
    "* 5.  For people who have good 'Credit_History', there no. of loan-approval is good, but we can even see, people whose 'Credit_History' is bad even their loan approval is very good"
   ]
  },
  {
   "cell_type": "code",
   "execution_count": 42,
   "id": "97034156",
   "metadata": {},
   "outputs": [
    {
     "data": {
      "image/png": "[encoded data removed]",
      "text/plain": [
       "<Figure size 792x504 with 1 Axes>"
      ]
     },
     "metadata": {
      "needs_background": "light"
     },
     "output_type": "display_data"
    }
   ],
   "source": [
    "# Sactter Plot to check loan_status w.r.t LoanAmount and Loan_Amount_Term\n",
    "plt.figure(figsize=[11,7])\n",
    "plt.title('Comparision between LoanAmount and Loan_Amount_Term')\n",
    "sns.scatterplot(df_loan['LoanAmount'],df_loan['Loan_Amount_Term'],hue=df_loan[\"Loan_Status\"])\n",
    "plt.show()"
   ]
  },
  {
   "cell_type": "markdown",
   "id": "0bd1c14a",
   "metadata": {},
   "source": [
    "Obs- \n",
    "* We can see the easily, hose have opted for Loan Amount below 200 and for term of 120 months(10 years) are been approved easily\n",
    "* For those who have opted for small Loan Amount but for long term period , there loans are not accepted\n",
    "* Most of the case where Loan-Amount and Loan-Amount-Term are in proportion , the loans are accepted\n",
    "* For those who have opted for big loan amount and for long term, there loans are accepted"
   ]
  },
  {
   "cell_type": "markdown",
   "id": "4af6f780",
   "metadata": {},
   "source": [
    "Obs- There is a high density of points in the range of 0-2000 for ApplicantIncome, and 0-300 for loan amount which means if Applicants income is in the range of 0-2000 then the loan amount will be approved in the range 0-300."
   ]
  },
  {
   "cell_type": "markdown",
   "id": "c110195f",
   "metadata": {},
   "source": [
    "## Label Encoding"
   ]
  },
  {
   "cell_type": "code",
   "execution_count": 43,
   "id": "5f9d4430",
   "metadata": {},
   "outputs": [],
   "source": [
    "from sklearn.preprocessing import LabelEncoder"
   ]
  },
  {
   "cell_type": "code",
   "execution_count": 44,
   "id": "bb08e594",
   "metadata": {},
   "outputs": [],
   "source": [
    "for col in df_loan[cat_cols]:\n",
    "    le = LabelEncoder()\n",
    "    df_loan[col] = le.fit_transform(df_loan[col])"
   ]
  },
  {
   "cell_type": "code",
   "execution_count": 45,
   "id": "dbc74bb2",
   "metadata": {},
   "outputs": [
    {
     "data": {
      "text/html": [
       "<div>\n",
       "<style scoped>\n",
       "    .dataframe tbody tr th:only-of-type {\n",
       "        vertical-align: middle;\n",
       "    }\n",
       "\n",
       "    .dataframe tbody tr th {\n",
       "        vertical-align: top;\n",
       "    }\n",
       "\n",
       "    .dataframe thead th {\n",
       "        text-align: right;\n",
       "    }\n",
       "</style>\n",
       "<table border=\"1\" class=\"dataframe\">\n",
       "  <thead>\n",
       "    <tr style=\"text-align: right;\">\n",
       "      <th></th>\n",
       "      <th>Gender</th>\n",
       "      <th>Married</th>\n",
       "      <th>Dependents</th>\n",
       "      <th>Education</th>\n",
       "      <th>Self_Employed</th>\n",
       "      <th>ApplicantIncome</th>\n",
       "      <th>CoapplicantIncome</th>\n",
       "      <th>LoanAmount</th>\n",
       "      <th>Loan_Amount_Term</th>\n",
       "      <th>Credit_History</th>\n",
       "      <th>Property_Area</th>\n",
       "      <th>Loan_Status</th>\n",
       "    </tr>\n",
       "  </thead>\n",
       "  <tbody>\n",
       "    <tr>\n",
       "      <th>0</th>\n",
       "      <td>1</td>\n",
       "      <td>0</td>\n",
       "      <td>0</td>\n",
       "      <td>0</td>\n",
       "      <td>0</td>\n",
       "      <td>5849</td>\n",
       "      <td>0.0</td>\n",
       "      <td>146.412162</td>\n",
       "      <td>360.0</td>\n",
       "      <td>1.0</td>\n",
       "      <td>2</td>\n",
       "      <td>1</td>\n",
       "    </tr>\n",
       "    <tr>\n",
       "      <th>1</th>\n",
       "      <td>1</td>\n",
       "      <td>1</td>\n",
       "      <td>1</td>\n",
       "      <td>0</td>\n",
       "      <td>0</td>\n",
       "      <td>4583</td>\n",
       "      <td>1508.0</td>\n",
       "      <td>128.000000</td>\n",
       "      <td>360.0</td>\n",
       "      <td>1.0</td>\n",
       "      <td>0</td>\n",
       "      <td>0</td>\n",
       "    </tr>\n",
       "    <tr>\n",
       "      <th>2</th>\n",
       "      <td>1</td>\n",
       "      <td>1</td>\n",
       "      <td>0</td>\n",
       "      <td>0</td>\n",
       "      <td>1</td>\n",
       "      <td>3000</td>\n",
       "      <td>0.0</td>\n",
       "      <td>66.000000</td>\n",
       "      <td>360.0</td>\n",
       "      <td>1.0</td>\n",
       "      <td>2</td>\n",
       "      <td>1</td>\n",
       "    </tr>\n",
       "    <tr>\n",
       "      <th>3</th>\n",
       "      <td>1</td>\n",
       "      <td>1</td>\n",
       "      <td>0</td>\n",
       "      <td>1</td>\n",
       "      <td>0</td>\n",
       "      <td>2583</td>\n",
       "      <td>2358.0</td>\n",
       "      <td>120.000000</td>\n",
       "      <td>360.0</td>\n",
       "      <td>1.0</td>\n",
       "      <td>2</td>\n",
       "      <td>1</td>\n",
       "    </tr>\n",
       "    <tr>\n",
       "      <th>4</th>\n",
       "      <td>1</td>\n",
       "      <td>0</td>\n",
       "      <td>0</td>\n",
       "      <td>0</td>\n",
       "      <td>0</td>\n",
       "      <td>6000</td>\n",
       "      <td>0.0</td>\n",
       "      <td>141.000000</td>\n",
       "      <td>360.0</td>\n",
       "      <td>1.0</td>\n",
       "      <td>2</td>\n",
       "      <td>1</td>\n",
       "    </tr>\n",
       "    <tr>\n",
       "      <th>5</th>\n",
       "      <td>1</td>\n",
       "      <td>1</td>\n",
       "      <td>2</td>\n",
       "      <td>0</td>\n",
       "      <td>1</td>\n",
       "      <td>5417</td>\n",
       "      <td>4196.0</td>\n",
       "      <td>267.000000</td>\n",
       "      <td>360.0</td>\n",
       "      <td>1.0</td>\n",
       "      <td>2</td>\n",
       "      <td>1</td>\n",
       "    </tr>\n",
       "    <tr>\n",
       "      <th>6</th>\n",
       "      <td>1</td>\n",
       "      <td>1</td>\n",
       "      <td>0</td>\n",
       "      <td>1</td>\n",
       "      <td>0</td>\n",
       "      <td>2333</td>\n",
       "      <td>1516.0</td>\n",
       "      <td>95.000000</td>\n",
       "      <td>360.0</td>\n",
       "      <td>1.0</td>\n",
       "      <td>2</td>\n",
       "      <td>1</td>\n",
       "    </tr>\n",
       "    <tr>\n",
       "      <th>7</th>\n",
       "      <td>1</td>\n",
       "      <td>1</td>\n",
       "      <td>3</td>\n",
       "      <td>0</td>\n",
       "      <td>0</td>\n",
       "      <td>3036</td>\n",
       "      <td>2504.0</td>\n",
       "      <td>158.000000</td>\n",
       "      <td>360.0</td>\n",
       "      <td>0.0</td>\n",
       "      <td>1</td>\n",
       "      <td>0</td>\n",
       "    </tr>\n",
       "    <tr>\n",
       "      <th>8</th>\n",
       "      <td>1</td>\n",
       "      <td>1</td>\n",
       "      <td>2</td>\n",
       "      <td>0</td>\n",
       "      <td>0</td>\n",
       "      <td>4006</td>\n",
       "      <td>1526.0</td>\n",
       "      <td>168.000000</td>\n",
       "      <td>360.0</td>\n",
       "      <td>1.0</td>\n",
       "      <td>2</td>\n",
       "      <td>1</td>\n",
       "    </tr>\n",
       "    <tr>\n",
       "      <th>9</th>\n",
       "      <td>1</td>\n",
       "      <td>1</td>\n",
       "      <td>1</td>\n",
       "      <td>0</td>\n",
       "      <td>0</td>\n",
       "      <td>12841</td>\n",
       "      <td>10968.0</td>\n",
       "      <td>349.000000</td>\n",
       "      <td>360.0</td>\n",
       "      <td>1.0</td>\n",
       "      <td>1</td>\n",
       "      <td>0</td>\n",
       "    </tr>\n",
       "  </tbody>\n",
       "</table>\n",
       "</div>"
      ],
      "text/plain": [
       "   Gender  Married  Dependents  Education  Self_Employed  ApplicantIncome  \\\n",
       "0       1        0           0          0              0             5849   \n",
       "1       1        1           1          0              0             4583   \n",
       "2       1        1           0          0              1             3000   \n",
       "3       1        1           0          1              0             2583   \n",
       "4       1        0           0          0              0             6000   \n",
       "5       1        1           2          0              1             5417   \n",
       "6       1        1           0          1              0             2333   \n",
       "7       1        1           3          0              0             3036   \n",
       "8       1        1           2          0              0             4006   \n",
       "9       1        1           1          0              0            12841   \n",
       "\n",
       "   CoapplicantIncome  LoanAmount  Loan_Amount_Term  Credit_History  \\\n",
       "0                0.0  146.412162             360.0             1.0   \n",
       "1             1508.0  128.000000             360.0             1.0   \n",
       "2                0.0   66.000000             360.0             1.0   \n",
       "3             2358.0  120.000000             360.0             1.0   \n",
       "4                0.0  141.000000             360.0             1.0   \n",
       "5             4196.0  267.000000             360.0             1.0   \n",
       "6             1516.0   95.000000             360.0             1.0   \n",
       "7             2504.0  158.000000             360.0             0.0   \n",
       "8             1526.0  168.000000             360.0             1.0   \n",
       "9            10968.0  349.000000             360.0             1.0   \n",
       "\n",
       "   Property_Area  Loan_Status  \n",
       "0              2            1  \n",
       "1              0            0  \n",
       "2              2            1  \n",
       "3              2            1  \n",
       "4              2            1  \n",
       "5              2            1  \n",
       "6              2            1  \n",
       "7              1            0  \n",
       "8              2            1  \n",
       "9              1            0  "
      ]
     },
     "execution_count": 45,
     "metadata": {},
     "output_type": "execute_result"
    }
   ],
   "source": [
    "df_loan.head(10)"
   ]
  },
  {
   "cell_type": "code",
   "execution_count": 46,
   "id": "2a60a442",
   "metadata": {},
   "outputs": [
    {
     "data": {
      "text/plain": [
       "Gender                 int32\n",
       "Married                int32\n",
       "Dependents             int32\n",
       "Education              int32\n",
       "Self_Employed          int32\n",
       "ApplicantIncome        int64\n",
       "CoapplicantIncome    float64\n",
       "LoanAmount           float64\n",
       "Loan_Amount_Term     float64\n",
       "Credit_History       float64\n",
       "Property_Area          int32\n",
       "Loan_Status            int32\n",
       "dtype: object"
      ]
     },
     "execution_count": 46,
     "metadata": {},
     "output_type": "execute_result"
    }
   ],
   "source": [
    "df_loan.dtypes"
   ]
  },
  {
   "cell_type": "markdown",
   "id": "98901d04",
   "metadata": {},
   "source": [
    "Obs- We can see all the categorical Columns have been encoded"
   ]
  },
  {
   "cell_type": "markdown",
   "id": "4d188557",
   "metadata": {},
   "source": [
    "## Checking Correlation"
   ]
  },
  {
   "cell_type": "code",
   "execution_count": 47,
   "id": "d7f3f3fe",
   "metadata": {},
   "outputs": [
    {
     "data": {
      "text/html": [
       "<div>\n",
       "<style scoped>\n",
       "    .dataframe tbody tr th:only-of-type {\n",
       "        vertical-align: middle;\n",
       "    }\n",
       "\n",
       "    .dataframe tbody tr th {\n",
       "        vertical-align: top;\n",
       "    }\n",
       "\n",
       "    .dataframe thead th {\n",
       "        text-align: right;\n",
       "    }\n",
       "</style>\n",
       "<table border=\"1\" class=\"dataframe\">\n",
       "  <thead>\n",
       "    <tr style=\"text-align: right;\">\n",
       "      <th></th>\n",
       "      <th>Gender</th>\n",
       "      <th>Married</th>\n",
       "      <th>Dependents</th>\n",
       "      <th>Education</th>\n",
       "      <th>Self_Employed</th>\n",
       "      <th>ApplicantIncome</th>\n",
       "      <th>CoapplicantIncome</th>\n",
       "      <th>LoanAmount</th>\n",
       "      <th>Loan_Amount_Term</th>\n",
       "      <th>Credit_History</th>\n",
       "      <th>Property_Area</th>\n",
       "      <th>Loan_Status</th>\n",
       "    </tr>\n",
       "  </thead>\n",
       "  <tbody>\n",
       "    <tr>\n",
       "      <th>Gender</th>\n",
       "      <td>1.000000</td>\n",
       "      <td>0.364569</td>\n",
       "      <td>0.172914</td>\n",
       "      <td>0.045364</td>\n",
       "      <td>-0.000525</td>\n",
       "      <td>0.058809</td>\n",
       "      <td>0.082912</td>\n",
       "      <td>0.107930</td>\n",
       "      <td>-0.073567</td>\n",
       "      <td>0.009170</td>\n",
       "      <td>-0.025752</td>\n",
       "      <td>0.017987</td>\n",
       "    </tr>\n",
       "    <tr>\n",
       "      <th>Married</th>\n",
       "      <td>0.364569</td>\n",
       "      <td>1.000000</td>\n",
       "      <td>0.334216</td>\n",
       "      <td>0.012304</td>\n",
       "      <td>0.004489</td>\n",
       "      <td>0.051708</td>\n",
       "      <td>0.075948</td>\n",
       "      <td>0.147141</td>\n",
       "      <td>-0.100863</td>\n",
       "      <td>0.010938</td>\n",
       "      <td>0.004257</td>\n",
       "      <td>0.091478</td>\n",
       "    </tr>\n",
       "    <tr>\n",
       "      <th>Dependents</th>\n",
       "      <td>0.172914</td>\n",
       "      <td>0.334216</td>\n",
       "      <td>1.000000</td>\n",
       "      <td>0.055752</td>\n",
       "      <td>0.056798</td>\n",
       "      <td>0.118202</td>\n",
       "      <td>0.030430</td>\n",
       "      <td>0.163106</td>\n",
       "      <td>-0.101054</td>\n",
       "      <td>-0.040160</td>\n",
       "      <td>-0.000244</td>\n",
       "      <td>0.010118</td>\n",
       "    </tr>\n",
       "    <tr>\n",
       "      <th>Education</th>\n",
       "      <td>0.045364</td>\n",
       "      <td>0.012304</td>\n",
       "      <td>0.055752</td>\n",
       "      <td>1.000000</td>\n",
       "      <td>-0.010383</td>\n",
       "      <td>-0.140760</td>\n",
       "      <td>-0.062290</td>\n",
       "      <td>-0.166998</td>\n",
       "      <td>-0.077242</td>\n",
       "      <td>-0.073658</td>\n",
       "      <td>-0.065243</td>\n",
       "      <td>-0.085884</td>\n",
       "    </tr>\n",
       "    <tr>\n",
       "      <th>Self_Employed</th>\n",
       "      <td>-0.000525</td>\n",
       "      <td>0.004489</td>\n",
       "      <td>0.056798</td>\n",
       "      <td>-0.010383</td>\n",
       "      <td>1.000000</td>\n",
       "      <td>0.127180</td>\n",
       "      <td>-0.016100</td>\n",
       "      <td>0.115260</td>\n",
       "      <td>-0.033943</td>\n",
       "      <td>-0.001550</td>\n",
       "      <td>-0.030860</td>\n",
       "      <td>-0.003700</td>\n",
       "    </tr>\n",
       "    <tr>\n",
       "      <th>ApplicantIncome</th>\n",
       "      <td>0.058809</td>\n",
       "      <td>0.051708</td>\n",
       "      <td>0.118202</td>\n",
       "      <td>-0.140760</td>\n",
       "      <td>0.127180</td>\n",
       "      <td>1.000000</td>\n",
       "      <td>-0.116605</td>\n",
       "      <td>0.565620</td>\n",
       "      <td>-0.045242</td>\n",
       "      <td>-0.018615</td>\n",
       "      <td>-0.009500</td>\n",
       "      <td>-0.004710</td>\n",
       "    </tr>\n",
       "    <tr>\n",
       "      <th>CoapplicantIncome</th>\n",
       "      <td>0.082912</td>\n",
       "      <td>0.075948</td>\n",
       "      <td>0.030430</td>\n",
       "      <td>-0.062290</td>\n",
       "      <td>-0.016100</td>\n",
       "      <td>-0.116605</td>\n",
       "      <td>1.000000</td>\n",
       "      <td>0.187828</td>\n",
       "      <td>-0.059675</td>\n",
       "      <td>0.011134</td>\n",
       "      <td>0.010522</td>\n",
       "      <td>-0.059187</td>\n",
       "    </tr>\n",
       "    <tr>\n",
       "      <th>LoanAmount</th>\n",
       "      <td>0.107930</td>\n",
       "      <td>0.147141</td>\n",
       "      <td>0.163106</td>\n",
       "      <td>-0.166998</td>\n",
       "      <td>0.115260</td>\n",
       "      <td>0.565620</td>\n",
       "      <td>0.187828</td>\n",
       "      <td>1.000000</td>\n",
       "      <td>0.038801</td>\n",
       "      <td>-0.001431</td>\n",
       "      <td>-0.044776</td>\n",
       "      <td>-0.036416</td>\n",
       "    </tr>\n",
       "    <tr>\n",
       "      <th>Loan_Amount_Term</th>\n",
       "      <td>-0.073567</td>\n",
       "      <td>-0.100863</td>\n",
       "      <td>-0.101054</td>\n",
       "      <td>-0.077242</td>\n",
       "      <td>-0.033943</td>\n",
       "      <td>-0.045242</td>\n",
       "      <td>-0.059675</td>\n",
       "      <td>0.038801</td>\n",
       "      <td>1.000000</td>\n",
       "      <td>0.000432</td>\n",
       "      <td>-0.077620</td>\n",
       "      <td>-0.020974</td>\n",
       "    </tr>\n",
       "    <tr>\n",
       "      <th>Credit_History</th>\n",
       "      <td>0.009170</td>\n",
       "      <td>0.010938</td>\n",
       "      <td>-0.040160</td>\n",
       "      <td>-0.073658</td>\n",
       "      <td>-0.001550</td>\n",
       "      <td>-0.018615</td>\n",
       "      <td>0.011134</td>\n",
       "      <td>-0.001431</td>\n",
       "      <td>0.000432</td>\n",
       "      <td>1.000000</td>\n",
       "      <td>0.001963</td>\n",
       "      <td>0.540556</td>\n",
       "    </tr>\n",
       "    <tr>\n",
       "      <th>Property_Area</th>\n",
       "      <td>-0.025752</td>\n",
       "      <td>0.004257</td>\n",
       "      <td>-0.000244</td>\n",
       "      <td>-0.065243</td>\n",
       "      <td>-0.030860</td>\n",
       "      <td>-0.009500</td>\n",
       "      <td>0.010522</td>\n",
       "      <td>-0.044776</td>\n",
       "      <td>-0.077620</td>\n",
       "      <td>0.001963</td>\n",
       "      <td>1.000000</td>\n",
       "      <td>0.032112</td>\n",
       "    </tr>\n",
       "    <tr>\n",
       "      <th>Loan_Status</th>\n",
       "      <td>0.017987</td>\n",
       "      <td>0.091478</td>\n",
       "      <td>0.010118</td>\n",
       "      <td>-0.085884</td>\n",
       "      <td>-0.003700</td>\n",
       "      <td>-0.004710</td>\n",
       "      <td>-0.059187</td>\n",
       "      <td>-0.036416</td>\n",
       "      <td>-0.020974</td>\n",
       "      <td>0.540556</td>\n",
       "      <td>0.032112</td>\n",
       "      <td>1.000000</td>\n",
       "    </tr>\n",
       "  </tbody>\n",
       "</table>\n",
       "</div>"
      ],
      "text/plain": [
       "                     Gender   Married  Dependents  Education  Self_Employed  \\\n",
       "Gender             1.000000  0.364569    0.172914   0.045364      -0.000525   \n",
       "Married            0.364569  1.000000    0.334216   0.012304       0.004489   \n",
       "Dependents         0.172914  0.334216    1.000000   0.055752       0.056798   \n",
       "Education          0.045364  0.012304    0.055752   1.000000      -0.010383   \n",
       "Self_Employed     -0.000525  0.004489    0.056798  -0.010383       1.000000   \n",
       "ApplicantIncome    0.058809  0.051708    0.118202  -0.140760       0.127180   \n",
       "CoapplicantIncome  0.082912  0.075948    0.030430  -0.062290      -0.016100   \n",
       "LoanAmount         0.107930  0.147141    0.163106  -0.166998       0.115260   \n",
       "Loan_Amount_Term  -0.073567 -0.100863   -0.101054  -0.077242      -0.033943   \n",
       "Credit_History     0.009170  0.010938   -0.040160  -0.073658      -0.001550   \n",
       "Property_Area     -0.025752  0.004257   -0.000244  -0.065243      -0.030860   \n",
       "Loan_Status        0.017987  0.091478    0.010118  -0.085884      -0.003700   \n",
       "\n",
       "                   ApplicantIncome  CoapplicantIncome  LoanAmount  \\\n",
       "Gender                    0.058809           0.082912    0.107930   \n",
       "Married                   0.051708           0.075948    0.147141   \n",
       "Dependents                0.118202           0.030430    0.163106   \n",
       "Education                -0.140760          -0.062290   -0.166998   \n",
       "Self_Employed             0.127180          -0.016100    0.115260   \n",
       "ApplicantIncome           1.000000          -0.116605    0.565620   \n",
       "CoapplicantIncome        -0.116605           1.000000    0.187828   \n",
       "LoanAmount                0.565620           0.187828    1.000000   \n",
       "Loan_Amount_Term         -0.045242          -0.059675    0.038801   \n",
       "Credit_History           -0.018615           0.011134   -0.001431   \n",
       "Property_Area            -0.009500           0.010522   -0.044776   \n",
       "Loan_Status              -0.004710          -0.059187   -0.036416   \n",
       "\n",
       "                   Loan_Amount_Term  Credit_History  Property_Area  \\\n",
       "Gender                    -0.073567        0.009170      -0.025752   \n",
       "Married                   -0.100863        0.010938       0.004257   \n",
       "Dependents                -0.101054       -0.040160      -0.000244   \n",
       "Education                 -0.077242       -0.073658      -0.065243   \n",
       "Self_Employed             -0.033943       -0.001550      -0.030860   \n",
       "ApplicantIncome           -0.045242       -0.018615      -0.009500   \n",
       "CoapplicantIncome         -0.059675        0.011134       0.010522   \n",
       "LoanAmount                 0.038801       -0.001431      -0.044776   \n",
       "Loan_Amount_Term           1.000000        0.000432      -0.077620   \n",
       "Credit_History             0.000432        1.000000       0.001963   \n",
       "Property_Area             -0.077620        0.001963       1.000000   \n",
       "Loan_Status               -0.020974        0.540556       0.032112   \n",
       "\n",
       "                   Loan_Status  \n",
       "Gender                0.017987  \n",
       "Married               0.091478  \n",
       "Dependents            0.010118  \n",
       "Education            -0.085884  \n",
       "Self_Employed        -0.003700  \n",
       "ApplicantIncome      -0.004710  \n",
       "CoapplicantIncome    -0.059187  \n",
       "LoanAmount           -0.036416  \n",
       "Loan_Amount_Term     -0.020974  \n",
       "Credit_History        0.540556  \n",
       "Property_Area         0.032112  \n",
       "Loan_Status           1.000000  "
      ]
     },
     "execution_count": 47,
     "metadata": {},
     "output_type": "execute_result"
    }
   ],
   "source": [
    "df_loan.corr()"
   ]
  },
  {
   "cell_type": "code",
   "execution_count": 48,
   "id": "c497866a",
   "metadata": {},
   "outputs": [
    {
     "data": {
      "text/plain": [
       "<AxesSubplot:>"
      ]
     },
     "execution_count": 48,
     "metadata": {},
     "output_type": "execute_result"
    },
    {
     "data": {
      "image/png": "[encoded data removed]",
      "text/plain": [
       "<Figure size 1080x1080 with 2 Axes>"
      ]
     },
     "metadata": {
      "needs_background": "light"
     },
     "output_type": "display_data"
    }
   ],
   "source": [
    "# Correlation using heatmap\n",
    "plt.figure(figsize=(15,15))\n",
    "sns.heatmap(df_loan.corr(),annot=True,fmt='0.4f')"
   ]
  },
  {
   "cell_type": "markdown",
   "id": "bb9b890b",
   "metadata": {},
   "source": [
    "Obs- We can observe\n",
    "* Strongly Positively Correlated Columns(>0.7):None\n",
    "* Positively Correlated Columns(>0.4): ('Applicant_Income' and 'Loan_Amount'),('Credit_History' and 'Loan_Status')\n",
    "* Strongly Negatively Correlated Columns(>-0.7):None\n",
    "* Negatively Correlated Columns(>-0.4):None \n",
    "* Almost Zero correlation with Target Column: 'Self-Employed', 'Applicant_Income'"
   ]
  },
  {
   "cell_type": "code",
   "execution_count": 49,
   "id": "138322dd",
   "metadata": {},
   "outputs": [
    {
     "data": {
      "image/png": "[encoded data removed]",
      "text/plain": [
       "<Figure size 864x504 with 1 Axes>"
      ]
     },
     "metadata": {
      "needs_background": "light"
     },
     "output_type": "display_data"
    }
   ],
   "source": [
    "# Correlation of features with Target Column\n",
    "plt.figure(figsize=(12,7))\n",
    "df_loan.corr()['Loan_Status'].sort_values(ascending=False).drop(['Loan_Status']).plot(kind='bar',color='c')\n",
    "plt.xlabel('Feature',fontsize=14)\n",
    "plt.ylabel('column with target names',fontsize=14)\n",
    "plt.title('correlation',fontsize=18)\n",
    "plt.show()\n"
   ]
  },
  {
   "cell_type": "markdown",
   "id": "90285d8a",
   "metadata": {},
   "source": [
    "Obs- \n",
    "* We can see Credit-History is the only column that has good correlation with target column. \n",
    "* The Columns 'Applicant_Income' and 'Self-Employed' have almost no relation with target Column, however 'Applicant_Income' has good relation with Loan_Amount , so keeping this column, but deleting the column 'Self_Employed'\n"
   ]
  },
  {
   "cell_type": "code",
   "execution_count": 50,
   "id": "64a1a946",
   "metadata": {},
   "outputs": [],
   "source": [
    "# Deleting the column 'Self-Employed' \n",
    "df_loan.drop(columns='Self_Employed',axis=1,inplace=True)"
   ]
  },
  {
   "cell_type": "code",
   "execution_count": 51,
   "id": "e95801a3",
   "metadata": {},
   "outputs": [
    {
     "data": {
      "text/plain": [
       "(614, 11)"
      ]
     },
     "execution_count": 51,
     "metadata": {},
     "output_type": "execute_result"
    }
   ],
   "source": [
    "df_loan.shape"
   ]
  },
  {
   "cell_type": "markdown",
   "id": "7f144f08",
   "metadata": {},
   "source": [
    "Obs-We can see 1 column has been deleted"
   ]
  },
  {
   "cell_type": "markdown",
   "id": "e8aeb126",
   "metadata": {},
   "source": [
    "## Detecting Outliers and Treating them"
   ]
  },
  {
   "cell_type": "code",
   "execution_count": 52,
   "id": "dde34c49",
   "metadata": {},
   "outputs": [
    {
     "name": "stdout",
     "output_type": "stream",
     "text": [
      "(array([  9,  14,  68,  94, 126, 130, 133, 155, 155, 171, 171, 177, 177,\n",
      "       183, 185, 242, 262, 278, 308, 313, 333, 333, 369, 402, 409, 417,\n",
      "       432, 443, 487, 495, 497, 506, 523, 525, 546, 561, 575, 581, 585,\n",
      "       600, 604], dtype=int64), array([5, 7, 7, 7, 4, 6, 7, 4, 6, 4, 6, 5, 6, 4, 4, 7, 7, 6, 6, 7, 4, 6,\n",
      "       6, 5, 4, 5, 6, 4, 6, 7, 7, 6, 6, 6, 7, 6, 7, 5, 7, 5, 6],\n",
      "      dtype=int64))\n"
     ]
    }
   ],
   "source": [
    "#Method 1: Z-Score\n",
    "from scipy.stats import zscore\n",
    "z=np.abs(zscore(df_loan))\n",
    "threshold=3\n",
    "print(np.where(z>3))"
   ]
  },
  {
   "cell_type": "code",
   "execution_count": 53,
   "id": "55580125",
   "metadata": {},
   "outputs": [],
   "source": [
    "df_loan_new=df_loan[(z<3).all(axis=1)]"
   ]
  },
  {
   "cell_type": "code",
   "execution_count": 54,
   "id": "4e4da4b0",
   "metadata": {},
   "outputs": [
    {
     "name": "stdout",
     "output_type": "stream",
     "text": [
      "df_loan.shape: (614, 11) \n",
      "df_loan_new.shape: (577, 11)\n"
     ]
    }
   ],
   "source": [
    "print(\"df_loan.shape:\",df_loan.shape, \"\\ndf_loan_new.shape:\",df_loan_new.shape)"
   ]
  },
  {
   "cell_type": "code",
   "execution_count": 55,
   "id": "a61993ee",
   "metadata": {},
   "outputs": [
    {
     "data": {
      "text/plain": [
       "6.026058631921824"
      ]
     },
     "execution_count": 55,
     "metadata": {},
     "output_type": "execute_result"
    }
   ],
   "source": [
    "# Checking data loss\n",
    "data_loss=(614-577)/614*100\n",
    "data_loss"
   ]
  },
  {
   "cell_type": "code",
   "execution_count": 56,
   "id": "2cba59e2",
   "metadata": {},
   "outputs": [],
   "source": [
    "# Method 2: IQR(Inter Quartile) Method\n",
    "Q1=df_loan.quantile(0.25)\n",
    "Q3=df_loan.quantile(0.75)\n",
    "IQR=Q3 - Q1\n",
    "\n",
    "df_loan_new2=df_loan[~((df_loan < (Q1 - 1.5 * IQR)) |(df_loan > (Q3 + 1.5 * IQR))).any(axis=1)]"
   ]
  },
  {
   "cell_type": "code",
   "execution_count": 57,
   "id": "51dca656",
   "metadata": {},
   "outputs": [
    {
     "name": "stdout",
     "output_type": "stream",
     "text": [
      "df_loan.shape: (614, 11) \n",
      "df_loan_new2.shape: (229, 11)\n"
     ]
    }
   ],
   "source": [
    "print(\"df_loan.shape:\",df_loan.shape, \"\\ndf_loan_new2.shape:\",df_loan_new2.shape)"
   ]
  },
  {
   "cell_type": "code",
   "execution_count": 58,
   "id": "6a9ef1be",
   "metadata": {},
   "outputs": [
    {
     "data": {
      "text/plain": [
       "62.70358306188925"
      ]
     },
     "execution_count": 58,
     "metadata": {},
     "output_type": "execute_result"
    }
   ],
   "source": [
    "# Checking data loss\n",
    "data_loss2=(614-229)/614*100\n",
    "data_loss2"
   ]
  },
  {
   "cell_type": "markdown",
   "id": "f83ed087",
   "metadata": {},
   "source": [
    "Obs- The Data Loss in IQR method is very high, so we will be going with Z-score method"
   ]
  },
  {
   "cell_type": "code",
   "execution_count": 59,
   "id": "2bb59f70",
   "metadata": {},
   "outputs": [
    {
     "data": {
      "text/plain": [
       "(577, 11)"
      ]
     },
     "execution_count": 59,
     "metadata": {},
     "output_type": "execute_result"
    }
   ],
   "source": [
    "# Reassigning obtained value to original dataframe\n",
    "df_loan=df_loan_new\n",
    "df_loan.shape"
   ]
  },
  {
   "cell_type": "markdown",
   "id": "27071c9e",
   "metadata": {},
   "source": [
    "## Model Building"
   ]
  },
  {
   "cell_type": "markdown",
   "id": "8bf27222",
   "metadata": {},
   "source": [
    "## Seperating Input and Target variables"
   ]
  },
  {
   "cell_type": "code",
   "execution_count": 60,
   "id": "fcf04835",
   "metadata": {},
   "outputs": [],
   "source": [
    "x=df_loan.drop(columns='Loan_Status')\n",
    "y=df_loan['Loan_Status']"
   ]
  },
  {
   "cell_type": "code",
   "execution_count": 61,
   "id": "780d6f7c",
   "metadata": {},
   "outputs": [
    {
     "data": {
      "text/plain": [
       "(577, 10)"
      ]
     },
     "execution_count": 61,
     "metadata": {},
     "output_type": "execute_result"
    }
   ],
   "source": [
    "x.shape"
   ]
  },
  {
   "cell_type": "code",
   "execution_count": 62,
   "id": "61329f6b",
   "metadata": {},
   "outputs": [
    {
     "data": {
      "text/plain": [
       "(577,)"
      ]
     },
     "execution_count": 62,
     "metadata": {},
     "output_type": "execute_result"
    }
   ],
   "source": [
    "y.shape"
   ]
  },
  {
   "cell_type": "markdown",
   "id": "ece887ab",
   "metadata": {},
   "source": [
    "## Data Transformation to treat Skewness"
   ]
  },
  {
   "cell_type": "code",
   "execution_count": 63,
   "id": "2bd5b4eb",
   "metadata": {},
   "outputs": [
    {
     "data": {
      "text/plain": [
       "Gender              -1.622920\n",
       "Married             -0.630211\n",
       "Dependents           1.052106\n",
       "Education            1.306588\n",
       "ApplicantIncome      2.148522\n",
       "CoapplicantIncome    1.350517\n",
       "LoanAmount           1.113132\n",
       "Loan_Amount_Term    -2.077031\n",
       "Credit_History      -1.976043\n",
       "Property_Area       -0.055332\n",
       "dtype: float64"
      ]
     },
     "execution_count": 63,
     "metadata": {},
     "output_type": "execute_result"
    }
   ],
   "source": [
    "x.skew()"
   ]
  },
  {
   "cell_type": "markdown",
   "id": "58e6513e",
   "metadata": {},
   "source": [
    "obs- keeping the acceptable range +/- 0.5, we can see , except for 'Property_Area', skewness is present in all the columns"
   ]
  },
  {
   "cell_type": "markdown",
   "id": "51ccf2c0",
   "metadata": {},
   "source": [
    "### Applying transformation method to treat the skewness"
   ]
  },
  {
   "cell_type": "code",
   "execution_count": 64,
   "id": "a7054e96",
   "metadata": {},
   "outputs": [],
   "source": [
    "x=pd.DataFrame(x)\n",
    "from sklearn.preprocessing import PowerTransformer\n",
    "pt = PowerTransformer() \n",
    "skew_col = ['Gender', 'Married', 'Dependents', 'Education', 'ApplicantIncome','CoapplicantIncome', 'LoanAmount', 'Loan_Amount_Term', 'Credit_History']\n",
    "x[skew_col]= pt.fit_transform(x[skew_col].values)"
   ]
  },
  {
   "cell_type": "code",
   "execution_count": 65,
   "id": "4071f962",
   "metadata": {},
   "outputs": [
    {
     "data": {
      "text/plain": [
       "Gender              -1.622920\n",
       "Married             -0.630211\n",
       "Dependents           0.478360\n",
       "Education            1.306588\n",
       "ApplicantIncome      0.027981\n",
       "CoapplicantIncome   -0.191876\n",
       "LoanAmount           0.047692\n",
       "Loan_Amount_Term     0.718470\n",
       "Credit_History      -1.976043\n",
       "Property_Area       -0.055332\n",
       "dtype: float64"
      ]
     },
     "execution_count": 65,
     "metadata": {},
     "output_type": "execute_result"
    }
   ],
   "source": [
    "# Rechecking the skewness\n",
    "x.skew()"
   ]
  },
  {
   "cell_type": "markdown",
   "id": "317a2980",
   "metadata": {},
   "source": [
    "Obs- We can see, even after transformation, the skewness is still present in most of the columns, trying sqrt transform too to treat the skewness further"
   ]
  },
  {
   "cell_type": "markdown",
   "id": "3768af79",
   "metadata": {},
   "source": [
    "##### Note: Tried sqrt transformation, but it was creating null values in the data, so going further with the obtained values only"
   ]
  },
  {
   "cell_type": "markdown",
   "id": "6743911f",
   "metadata": {},
   "source": [
    "## Data Scaling"
   ]
  },
  {
   "cell_type": "code",
   "execution_count": 67,
   "id": "ad2f3b27",
   "metadata": {},
   "outputs": [],
   "source": [
    "from sklearn.preprocessing import StandardScaler\n",
    "st=StandardScaler()\n",
    "x_scale=st.fit_transform(x)\n",
    "x_scale=pd.DataFrame(x_scale)"
   ]
  },
  {
   "cell_type": "code",
   "execution_count": 69,
   "id": "3e62b18e",
   "metadata": {},
   "outputs": [],
   "source": [
    "x=pd.DataFrame(data=x_scale)"
   ]
  },
  {
   "cell_type": "markdown",
   "id": "ff815673",
   "metadata": {},
   "source": [
    "## Checking for Imbalance "
   ]
  },
  {
   "cell_type": "code",
   "execution_count": 70,
   "id": "c2bbf269",
   "metadata": {},
   "outputs": [
    {
     "name": "stdout",
     "output_type": "stream",
     "text": [
      "1    398\n",
      "0    179\n",
      "Name: Loan_Status, dtype: int64\n"
     ]
    }
   ],
   "source": [
    "print(y.value_counts())"
   ]
  },
  {
   "cell_type": "markdown",
   "id": "27991b84",
   "metadata": {},
   "source": [
    "Obs-We can see the target is imbalanced, and therefore we need to balance it."
   ]
  },
  {
   "cell_type": "markdown",
   "id": "6d24d63a",
   "metadata": {},
   "source": [
    "### Oversampling using SMOTE"
   ]
  },
  {
   "cell_type": "code",
   "execution_count": 71,
   "id": "e8c054af",
   "metadata": {},
   "outputs": [],
   "source": [
    "from imblearn.over_sampling import SMOTE\n",
    "SM = SMOTE()\n",
    "x,y= SM.fit_resample(x,y)"
   ]
  },
  {
   "cell_type": "code",
   "execution_count": 72,
   "id": "1703900e",
   "metadata": {},
   "outputs": [
    {
     "name": "stdout",
     "output_type": "stream",
     "text": [
      "1    398\n",
      "0    398\n",
      "Name: Loan_Status, dtype: int64\n"
     ]
    }
   ],
   "source": [
    "print(y.value_counts())"
   ]
  },
  {
   "cell_type": "markdown",
   "id": "de3738be",
   "metadata": {},
   "source": [
    "## Classification Model \n",
    "(As the target is to determine whether the loan_status will be yes or no, we are building a classification model)"
   ]
  },
  {
   "cell_type": "code",
   "execution_count": 77,
   "id": "869da64b",
   "metadata": {},
   "outputs": [
    {
     "name": "stdout",
     "output_type": "stream",
     "text": [
      "Best accuracy is  0.775  on Random_state  78\n"
     ]
    }
   ],
   "source": [
    "# Finding best Random State\n",
    "\n",
    "from sklearn.linear_model import LogisticRegression\n",
    "from sklearn.model_selection import train_test_split\n",
    "from sklearn.metrics import accuracy_score,confusion_matrix,classification_report\n",
    "maxAccu=0\n",
    "maxRS=0\n",
    "for i in range(1,100):\n",
    "    x_train,x_test,y_train,y_test = train_test_split(x,y,test_size=.20, random_state =i)\n",
    "    lg = LogisticRegression()\n",
    "    lg.fit(x_train, y_train)\n",
    "    predlg = lg.predict(x_test)\n",
    "    acc=accuracy_score(y_test, predlg)\n",
    "    if acc>maxAccu:\n",
    "        maxAccu=acc\n",
    "        maxRS=i\n",
    "print(\"Best accuracy is \",maxAccu,\" on Random_state \",maxRS)"
   ]
  },
  {
   "cell_type": "markdown",
   "id": "ab72c32c",
   "metadata": {},
   "source": [
    "### Splitting data into Train-Test"
   ]
  },
  {
   "cell_type": "code",
   "execution_count": 78,
   "id": "b4a8fa3f",
   "metadata": {},
   "outputs": [],
   "source": [
    "x_train,x_test,y_train,y_test=train_test_split(x,y,test_size=0.20,random_state=78)"
   ]
  },
  {
   "cell_type": "code",
   "execution_count": 79,
   "id": "7aa255ea",
   "metadata": {},
   "outputs": [
    {
     "data": {
      "text/plain": [
       "(636, 10)"
      ]
     },
     "execution_count": 79,
     "metadata": {},
     "output_type": "execute_result"
    }
   ],
   "source": [
    "x_train.shape"
   ]
  },
  {
   "cell_type": "code",
   "execution_count": 80,
   "id": "5ec0de7a",
   "metadata": {},
   "outputs": [
    {
     "data": {
      "text/plain": [
       "(636,)"
      ]
     },
     "execution_count": 80,
     "metadata": {},
     "output_type": "execute_result"
    }
   ],
   "source": [
    "y_train.shape"
   ]
  },
  {
   "cell_type": "code",
   "execution_count": 81,
   "id": "923685cf",
   "metadata": {},
   "outputs": [
    {
     "data": {
      "text/plain": [
       "(160, 10)"
      ]
     },
     "execution_count": 81,
     "metadata": {},
     "output_type": "execute_result"
    }
   ],
   "source": [
    "x_test.shape"
   ]
  },
  {
   "cell_type": "code",
   "execution_count": 82,
   "id": "a1e32173",
   "metadata": {},
   "outputs": [
    {
     "data": {
      "text/plain": [
       "(160,)"
      ]
     },
     "execution_count": 82,
     "metadata": {},
     "output_type": "execute_result"
    }
   ],
   "source": [
    "y_test.shape"
   ]
  },
  {
   "cell_type": "markdown",
   "id": "08e9ec7e",
   "metadata": {},
   "source": [
    "### Using various Machine Learning Algorithms"
   ]
  },
  {
   "cell_type": "code",
   "execution_count": 83,
   "id": "457b7306",
   "metadata": {},
   "outputs": [],
   "source": [
    "#importing necessary libraries\n",
    "from sklearn.linear_model import LogisticRegression\n",
    "from sklearn.naive_bayes import GaussianNB\n",
    "from sklearn.tree import DecisionTreeClassifier\n",
    "from sklearn.neighbors import KNeighborsClassifier\n",
    "from sklearn.svm import SVC\n",
    "\n",
    "from sklearn.metrics import classification_report, confusion_matrix, roc_curve, roc_auc_score, accuracy_score\n",
    "\n",
    "from sklearn.ensemble import RandomForestClassifier\n",
    "from sklearn.ensemble import AdaBoostClassifier\n",
    "from sklearn.ensemble import GradientBoostingClassifier"
   ]
  },
  {
   "cell_type": "markdown",
   "id": "7c69d81d",
   "metadata": {},
   "source": [
    "### 1. Logistic Regression"
   ]
  },
  {
   "cell_type": "code",
   "execution_count": 84,
   "id": "a49fbc74",
   "metadata": {},
   "outputs": [
    {
     "name": "stdout",
     "output_type": "stream",
     "text": [
      "Accuracy: 0.775\n",
      "Confusion Matrix:\n",
      " [[43 31]\n",
      " [ 5 81]]\n",
      "Classification Report:\n",
      "               precision    recall  f1-score   support\n",
      "\n",
      "           0       0.90      0.58      0.70        74\n",
      "           1       0.72      0.94      0.82        86\n",
      "\n",
      "    accuracy                           0.78       160\n",
      "   macro avg       0.81      0.76      0.76       160\n",
      "weighted avg       0.80      0.78      0.77       160\n",
      "\n"
     ]
    }
   ],
   "source": [
    "lg=LogisticRegression()\n",
    "lg.fit(x_train,y_train)\n",
    "predlg=lg.predict(x_test)\n",
    "print(\"Accuracy:\",accuracy_score(y_test,predlg))\n",
    "print(\"Confusion Matrix:\\n\",confusion_matrix(y_test,predlg))\n",
    "print(\"Classification Report:\\n\",classification_report(y_test,predlg))"
   ]
  },
  {
   "cell_type": "markdown",
   "id": "260d6b35",
   "metadata": {},
   "source": [
    "Obs- The Logistic Regression has provided the accuracy_score:0.0.775 and f1-score:0.70"
   ]
  },
  {
   "cell_type": "markdown",
   "id": "900c02e1",
   "metadata": {},
   "source": [
    "### 2. GaussianNB"
   ]
  },
  {
   "cell_type": "code",
   "execution_count": 85,
   "id": "af2d4598",
   "metadata": {},
   "outputs": [
    {
     "name": "stdout",
     "output_type": "stream",
     "text": [
      "Accuracy: 0.75\n",
      "Confusion Matrix:\n",
      " [[43 31]\n",
      " [ 9 77]]\n",
      "Classification Report:\n",
      "               precision    recall  f1-score   support\n",
      "\n",
      "           0       0.83      0.58      0.68        74\n",
      "           1       0.71      0.90      0.79        86\n",
      "\n",
      "    accuracy                           0.75       160\n",
      "   macro avg       0.77      0.74      0.74       160\n",
      "weighted avg       0.77      0.75      0.74       160\n",
      "\n"
     ]
    }
   ],
   "source": [
    "gnb=GaussianNB()\n",
    "gnb.fit(x_train,y_train)\n",
    "predgnb=gnb.predict(x_test)\n",
    "print(\"Accuracy:\",accuracy_score(y_test,predgnb))\n",
    "print(\"Confusion Matrix:\\n\",confusion_matrix(y_test,predgnb))\n",
    "print(\"Classification Report:\\n\",classification_report(y_test,predgnb))"
   ]
  },
  {
   "cell_type": "markdown",
   "id": "c5f723de",
   "metadata": {},
   "source": [
    "Obs- The GaussianNB has provided the accuracy_score:0.75 and f1-score:0.68"
   ]
  },
  {
   "cell_type": "markdown",
   "id": "17d88fc8",
   "metadata": {},
   "source": [
    "### 3.Decision Tree Classifier"
   ]
  },
  {
   "cell_type": "code",
   "execution_count": 86,
   "id": "8cabfc6f",
   "metadata": {},
   "outputs": [
    {
     "name": "stdout",
     "output_type": "stream",
     "text": [
      "Accuracy: 0.8375\n",
      "Confusion Matrix:\n",
      " [[65  9]\n",
      " [17 69]]\n",
      "Classification Report:\n",
      "               precision    recall  f1-score   support\n",
      "\n",
      "           0       0.79      0.88      0.83        74\n",
      "           1       0.88      0.80      0.84        86\n",
      "\n",
      "    accuracy                           0.84       160\n",
      "   macro avg       0.84      0.84      0.84       160\n",
      "weighted avg       0.84      0.84      0.84       160\n",
      "\n"
     ]
    }
   ],
   "source": [
    "dtc=DecisionTreeClassifier()\n",
    "dtc.fit(x_train,y_train)\n",
    "preddtc=dtc.predict(x_test)\n",
    "print(\"Accuracy:\",accuracy_score(y_test,preddtc))\n",
    "print(\"Confusion Matrix:\\n\",confusion_matrix(y_test,preddtc))\n",
    "print(\"Classification Report:\\n\",classification_report(y_test,preddtc))"
   ]
  },
  {
   "cell_type": "markdown",
   "id": "d34720ac",
   "metadata": {},
   "source": [
    "Obs- The Decision Tree Classifier has provided the accuracy-score:0.8375 and f1-score:0.83"
   ]
  },
  {
   "cell_type": "markdown",
   "id": "27cbb097",
   "metadata": {},
   "source": [
    "### 4.K Nearest Neighbor Classifier"
   ]
  },
  {
   "cell_type": "code",
   "execution_count": 87,
   "id": "70495007",
   "metadata": {},
   "outputs": [
    {
     "name": "stdout",
     "output_type": "stream",
     "text": [
      "Accuracy: 0.75\n",
      "Confusion Matrix:\n",
      " [[59 15]\n",
      " [25 61]]\n",
      "Classification Report:\n",
      "               precision    recall  f1-score   support\n",
      "\n",
      "           0       0.70      0.80      0.75        74\n",
      "           1       0.80      0.71      0.75        86\n",
      "\n",
      "    accuracy                           0.75       160\n",
      "   macro avg       0.75      0.75      0.75       160\n",
      "weighted avg       0.76      0.75      0.75       160\n",
      "\n"
     ]
    }
   ],
   "source": [
    "knn=KNeighborsClassifier()\n",
    "knn.fit(x_train,y_train)\n",
    "predknn=knn.predict(x_test)\n",
    "print(\"Accuracy:\",accuracy_score(y_test,predknn))\n",
    "print(\"Confusion Matrix:\\n\",confusion_matrix(y_test,predknn))\n",
    "print(\"Classification Report:\\n\",classification_report(y_test,predknn))"
   ]
  },
  {
   "cell_type": "markdown",
   "id": "cb1d90ae",
   "metadata": {},
   "source": [
    "Obs- The K Nearest Neighbor Classifier has provided the accuracy-score:0.75 and f1-score:0.75"
   ]
  },
  {
   "cell_type": "markdown",
   "id": "6cec4685",
   "metadata": {},
   "source": [
    "### 5.Support Vector Machine Classifier"
   ]
  },
  {
   "cell_type": "code",
   "execution_count": 88,
   "id": "86740c4e",
   "metadata": {},
   "outputs": [
    {
     "name": "stdout",
     "output_type": "stream",
     "text": [
      "Accuracy: 0.75\n",
      "Confusion Matrix:\n",
      " [[48 26]\n",
      " [14 72]]\n",
      "Classification Report:\n",
      "               precision    recall  f1-score   support\n",
      "\n",
      "           0       0.77      0.65      0.71        74\n",
      "           1       0.73      0.84      0.78        86\n",
      "\n",
      "    accuracy                           0.75       160\n",
      "   macro avg       0.75      0.74      0.74       160\n",
      "weighted avg       0.75      0.75      0.75       160\n",
      "\n"
     ]
    }
   ],
   "source": [
    "svc=SVC()\n",
    "svc.fit(x_train,y_train)\n",
    "predsvc=svc.predict(x_test)\n",
    "print(\"Accuracy:\",accuracy_score(y_test,predsvc))\n",
    "print(\"Confusion Matrix:\\n\",confusion_matrix(y_test,predsvc))\n",
    "print(\"Classification Report:\\n\",classification_report(y_test,predsvc))"
   ]
  },
  {
   "cell_type": "markdown",
   "id": "d6342309",
   "metadata": {},
   "source": [
    "Obs- The Support Vector Machine Classifier has provided the accuracy-score:0.75 and f1-score:0.71"
   ]
  },
  {
   "cell_type": "markdown",
   "id": "612f7b3e",
   "metadata": {},
   "source": [
    "### 6. Ensemble Methods\n",
    "#### 6.1 Random Forest Classifier"
   ]
  },
  {
   "cell_type": "code",
   "execution_count": 89,
   "id": "13033664",
   "metadata": {},
   "outputs": [
    {
     "name": "stdout",
     "output_type": "stream",
     "text": [
      "Accuracy: 0.89375\n",
      "Confusion Matrix:\n",
      " [[65  9]\n",
      " [ 8 78]]\n",
      "Classification Report:\n",
      "               precision    recall  f1-score   support\n",
      "\n",
      "           0       0.89      0.88      0.88        74\n",
      "           1       0.90      0.91      0.90        86\n",
      "\n",
      "    accuracy                           0.89       160\n",
      "   macro avg       0.89      0.89      0.89       160\n",
      "weighted avg       0.89      0.89      0.89       160\n",
      "\n"
     ]
    }
   ],
   "source": [
    "rf=RandomForestClassifier(n_estimators=100)\n",
    "rf.fit(x_train,y_train)\n",
    "predrf=rf.predict(x_test)\n",
    "print(\"Accuracy:\",accuracy_score(y_test,predrf))\n",
    "print(\"Confusion Matrix:\\n\",confusion_matrix(y_test,predrf))\n",
    "print(\"Classification Report:\\n\",classification_report(y_test,predrf))"
   ]
  },
  {
   "cell_type": "markdown",
   "id": "86cfe757",
   "metadata": {},
   "source": [
    "Obs- The Random Forest Classifier has provided the accuracy-score:0.89375 and f1-score:0.88"
   ]
  },
  {
   "cell_type": "markdown",
   "id": "ad638977",
   "metadata": {},
   "source": [
    "#### 6.2 Ada Boost Classifier"
   ]
  },
  {
   "cell_type": "code",
   "execution_count": 90,
   "id": "fbdbd41b",
   "metadata": {},
   "outputs": [
    {
     "name": "stdout",
     "output_type": "stream",
     "text": [
      "Accuracy: 0.78125\n",
      "Confusion Matrix:\n",
      " [[59 15]\n",
      " [20 66]]\n",
      "Classification Report:\n",
      "               precision    recall  f1-score   support\n",
      "\n",
      "           0       0.75      0.80      0.77        74\n",
      "           1       0.81      0.77      0.79        86\n",
      "\n",
      "    accuracy                           0.78       160\n",
      "   macro avg       0.78      0.78      0.78       160\n",
      "weighted avg       0.78      0.78      0.78       160\n",
      "\n"
     ]
    }
   ],
   "source": [
    "ad=AdaBoostClassifier(n_estimators=50,learning_rate=1.0)\n",
    "ad.fit(x_train,y_train)\n",
    "predad=ad.predict(x_test)\n",
    "print(\"Accuracy:\",accuracy_score(y_test,predad))\n",
    "print(\"Confusion Matrix:\\n\",confusion_matrix(y_test,predad))\n",
    "print(\"Classification Report:\\n\",classification_report(y_test,predad))"
   ]
  },
  {
   "cell_type": "markdown",
   "id": "5f78932b",
   "metadata": {},
   "source": [
    "Obs- The Ada Boost Classifier has provided the accuracy-score:0.78125 and f1-score:0.85"
   ]
  },
  {
   "cell_type": "markdown",
   "id": "bd27e913",
   "metadata": {},
   "source": [
    "#### 6.3 Gradient Boosting Classifier"
   ]
  },
  {
   "cell_type": "code",
   "execution_count": 92,
   "id": "2459d48c",
   "metadata": {},
   "outputs": [
    {
     "name": "stdout",
     "output_type": "stream",
     "text": [
      "Accuracy: 0.825\n",
      "Confusion Matrix:\n",
      " [[59 15]\n",
      " [13 73]]\n",
      "Classification Report:\n",
      "               precision    recall  f1-score   support\n",
      "\n",
      "           0       0.82      0.80      0.81        74\n",
      "           1       0.83      0.85      0.84        86\n",
      "\n",
      "    accuracy                           0.82       160\n",
      "   macro avg       0.82      0.82      0.82       160\n",
      "weighted avg       0.82      0.82      0.82       160\n",
      "\n"
     ]
    }
   ],
   "source": [
    "gb=GradientBoostingClassifier()\n",
    "gb.fit(x_train,y_train)\n",
    "predgb=gb.predict(x_test)\n",
    "print(\"Accuracy:\",accuracy_score(y_test,predgb))\n",
    "print(\"Confusion Matrix:\\n\",confusion_matrix(y_test,predgb))\n",
    "print(\"Classification Report:\\n\",classification_report(y_test,predgb))"
   ]
  },
  {
   "cell_type": "markdown",
   "id": "e9fca12c",
   "metadata": {},
   "source": [
    "Obs- The Gradient Boosting Classifier has provided the accuracy-score:0.825 and f1-score:0.81"
   ]
  },
  {
   "cell_type": "markdown",
   "id": "8c19666d",
   "metadata": {},
   "source": [
    "### Cross Validation"
   ]
  },
  {
   "cell_type": "code",
   "execution_count": 94,
   "id": "405d1784",
   "metadata": {},
   "outputs": [],
   "source": [
    "from sklearn.model_selection import cross_val_score"
   ]
  },
  {
   "cell_type": "code",
   "execution_count": 96,
   "id": "c6106373",
   "metadata": {},
   "outputs": [
    {
     "name": "stdout",
     "output_type": "stream",
     "text": [
      "CV score  for Logistic Regression: 0.7097955974842767\n",
      "And Difference between CV and accuracy_score= 0.06520440251572335\n"
     ]
    }
   ],
   "source": [
    "# cv score for Logistic Regression \n",
    "cvlg=cross_val_score(lg,x,y,cv=5).mean()\n",
    "print('CV score  for Logistic Regression:',cvlg)\n",
    "print(\"And Difference between CV and accuracy_score=\", accuracy_score(y_test,predlg)-cvlg)"
   ]
  },
  {
   "cell_type": "code",
   "execution_count": 97,
   "id": "6cabd392",
   "metadata": {},
   "outputs": [
    {
     "name": "stdout",
     "output_type": "stream",
     "text": [
      "CV score  for Gaussian NB: 0.7098270440251572\n",
      "And Difference between CV and accuracy_score= 0.04017295597484283\n"
     ]
    }
   ],
   "source": [
    "# cv score for GaussianNB \n",
    "cvgnb=cross_val_score(gnb,x,y,cv=5).mean()\n",
    "print('CV score  for Gaussian NB:',cvgnb)\n",
    "print(\"And Difference between CV and accuracy_score=\", accuracy_score(y_test,predgnb)-cvgnb)"
   ]
  },
  {
   "cell_type": "code",
   "execution_count": 98,
   "id": "6c186745",
   "metadata": {},
   "outputs": [
    {
     "name": "stdout",
     "output_type": "stream",
     "text": [
      "CV score  for Decision Tree Classifier: 0.7864779874213836\n",
      "And Difference between CV and accuracy_score= 0.05102201257861638\n"
     ]
    }
   ],
   "source": [
    "# cv score for Decision Tree Classifier \n",
    "cvdtc=cross_val_score(dtc,x,y,cv=5).mean()\n",
    "print('CV score  for Decision Tree Classifier:',cvdtc)\n",
    "print(\"And Difference between CV and accuracy_score=\", accuracy_score(y_test,preddtc)-cvdtc)"
   ]
  },
  {
   "cell_type": "code",
   "execution_count": 99,
   "id": "f25ef6be",
   "metadata": {},
   "outputs": [
    {
     "name": "stdout",
     "output_type": "stream",
     "text": [
      "CV score  for K Neighbors Clssifier: 0.7675786163522014\n",
      "And Difference between CV and accuracy_score= -0.01757861635220137\n"
     ]
    }
   ],
   "source": [
    "# cv score for K Neighbors Classifier \n",
    "cvknn=cross_val_score(knn,x,y,cv=5).mean()\n",
    "print('CV score  for K Neighbors Clssifier:',cvknn)\n",
    "print(\"And Difference between CV and accuracy_score=\", accuracy_score(y_test,predknn)-cvknn)"
   ]
  },
  {
   "cell_type": "code",
   "execution_count": 100,
   "id": "348addea",
   "metadata": {},
   "outputs": [
    {
     "name": "stdout",
     "output_type": "stream",
     "text": [
      "CV score  for Support Vector Classifier: 0.7299056603773584\n",
      "And Difference between CV and accuracy_score= 0.02009433962264162\n"
     ]
    }
   ],
   "source": [
    "# cv score for Support Vector Machine Classifier \n",
    "cvsvc=cross_val_score(svc,x,y,cv=5).mean()\n",
    "print('CV score  for Support Vector Classifier:',cvsvc)\n",
    "print(\"And Difference between CV and accuracy_score=\", accuracy_score(y_test,predsvc)-cvsvc)"
   ]
  },
  {
   "cell_type": "code",
   "execution_count": 101,
   "id": "5696cb62",
   "metadata": {},
   "outputs": [
    {
     "name": "stdout",
     "output_type": "stream",
     "text": [
      "CV score  for RandomForestClassifier: 0.8555738993710692\n",
      "And Difference between CV and accuracy_score= 0.03817610062893084\n"
     ]
    }
   ],
   "source": [
    "# cv score for Random Forest Classifier\n",
    "cvrf=cross_val_score(rf,x,y,cv=5).mean()\n",
    "print('CV score  for RandomForestClassifier:',cvrf)\n",
    "print(\"And Difference between CV and accuracy_score=\", accuracy_score(y_test,predrf)-cvrf)"
   ]
  },
  {
   "cell_type": "code",
   "execution_count": 102,
   "id": "53b583a6",
   "metadata": {},
   "outputs": [
    {
     "name": "stdout",
     "output_type": "stream",
     "text": [
      "CV score  for Ada Boost Classifier: 0.724937106918239\n",
      "And Difference between CV and accuracy_score= 0.05631289308176102\n"
     ]
    }
   ],
   "source": [
    "# cv score for Ada Boost Classifier\n",
    "cvad=cross_val_score(ad,x,y,cv=5).mean()\n",
    "print('CV score  for Ada Boost Classifier:',cvad)\n",
    "print(\"And Difference between CV and accuracy_score=\", accuracy_score(y_test,predad)-cvad)"
   ]
  },
  {
   "cell_type": "code",
   "execution_count": 103,
   "id": "e0f666bb",
   "metadata": {},
   "outputs": [
    {
     "name": "stdout",
     "output_type": "stream",
     "text": [
      "CV score  for Gradienty Boosting Classifier: 0.7638861304203907\n",
      "And Difference between CV and accuracy_score= 0.06111386957960929\n"
     ]
    }
   ],
   "source": [
    "# cv score for GradientBoostingClassifier\n",
    "cvgb=cross_val_score(gb,x,y,cv=3).mean()\n",
    "print('CV score  for Gradienty Boosting Classifier:',cvgb)\n",
    "print(\"And Difference between CV and accuracy_score=\", accuracy_score(y_test,predgb)-cvgb)"
   ]
  },
  {
   "cell_type": "markdown",
   "id": "9566fb16",
   "metadata": {},
   "source": [
    "Obs- \n",
    "* We can observe the difference between CV score and r2_score is least in the K Nearest Neighbor Classifier Model.\n",
    "* Finding best parameters to pass in KNN below using hyper parameter tuning"
   ]
  },
  {
   "cell_type": "markdown",
   "id": "75bc8983",
   "metadata": {},
   "source": [
    "## Hyper Parameter Tuning"
   ]
  },
  {
   "cell_type": "code",
   "execution_count": 104,
   "id": "fb66fc13",
   "metadata": {},
   "outputs": [
    {
     "data": {
      "text/plain": [
       "{'algorithm': 'auto',\n",
       " 'leaf_size': 30,\n",
       " 'metric': 'minkowski',\n",
       " 'metric_params': None,\n",
       " 'n_jobs': None,\n",
       " 'n_neighbors': 5,\n",
       " 'p': 2,\n",
       " 'weights': 'uniform'}"
      ]
     },
     "execution_count": 104,
     "metadata": {},
     "output_type": "execute_result"
    }
   ],
   "source": [
    "knn.get_params()"
   ]
  },
  {
   "cell_type": "code",
   "execution_count": 105,
   "id": "2549cba9",
   "metadata": {},
   "outputs": [],
   "source": [
    "#Selecting few parameter list to pass in Random Forest Classifier\n",
    "from sklearn.model_selection import GridSearchCV\n",
    "# defining parameter range:\n",
    "\n",
    "parameter = {'algorithm':['auto', 'ball_tree', 'kd_tree', 'brute'],\n",
    "            'n_neighbors':[3,4,5,6,7],\n",
    "             'weights':['uniform', 'distance'],\n",
    "             'p':[1,2]}"
   ]
  },
  {
   "cell_type": "code",
   "execution_count": 107,
   "id": "30db9ee5",
   "metadata": {},
   "outputs": [
    {
     "name": "stdout",
     "output_type": "stream",
     "text": [
      "{'algorithm': 'auto', 'n_neighbors': 6, 'p': 1, 'weights': 'distance'}\n"
     ]
    },
    {
     "data": {
      "text/plain": [
       "0.76875"
      ]
     },
     "execution_count": 107,
     "metadata": {},
     "output_type": "execute_result"
    }
   ],
   "source": [
    "# Passing this parameters to GridSearchCV\n",
    "GCV = GridSearchCV(knn,parameter,cv=5,scoring='accuracy')\n",
    "\n",
    "GCV.fit(x_train,y_train)  \n",
    "print(GCV.best_params_)         #printing the best parameter found by Gridsearchcv\n",
    "GCV_pred = GCV.best_estimator_.predict(x_test)    #predicting accuracy with obtained best parameter \n",
    "accuracy_score(y_test, GCV_pred)                  #Printing accuracy"
   ]
  },
  {
   "cell_type": "code",
   "execution_count": 108,
   "id": "2d85f381",
   "metadata": {},
   "outputs": [
    {
     "name": "stdout",
     "output_type": "stream",
     "text": [
      "Accuracy: 0.76875\n",
      "Confusion Matrix:\n",
      " [[60 14]\n",
      " [23 63]]\n",
      "Classification Report:\n",
      "               precision    recall  f1-score   support\n",
      "\n",
      "           0       0.72      0.81      0.76        74\n",
      "           1       0.82      0.73      0.77        86\n",
      "\n",
      "    accuracy                           0.77       160\n",
      "   macro avg       0.77      0.77      0.77       160\n",
      "weighted avg       0.77      0.77      0.77       160\n",
      "\n"
     ]
    }
   ],
   "source": [
    "#Applying best parameter values on KNN Classifier Algorithm \n",
    "loan_best=KNeighborsClassifier(algorithm= 'auto', n_neighbors= 6, p= 1, weights= 'distance')\n",
    "loan_best.fit(x_train,y_train)\n",
    "predknn1=loan_best.predict(x_test)\n",
    "print(\"Accuracy:\",accuracy_score(y_test,predknn1))\n",
    "print(\"Confusion Matrix:\\n\",confusion_matrix(y_test,predknn1))\n",
    "print(\"Classification Report:\\n\",classification_report(y_test,predknn1))"
   ]
  },
  {
   "cell_type": "markdown",
   "id": "5f3c40c5",
   "metadata": {},
   "source": [
    "Our best model with best parameters has given  accuracy of  0.76875 and f1_score of 0.76"
   ]
  },
  {
   "cell_type": "markdown",
   "id": "fef16473",
   "metadata": {},
   "source": [
    "### Plotting ROC-AUC curve for best model"
   ]
  },
  {
   "cell_type": "code",
   "execution_count": 109,
   "id": "42a476b4",
   "metadata": {},
   "outputs": [],
   "source": [
    "from sklearn.metrics import roc_curve\n",
    "from sklearn.metrics import roc_auc_score"
   ]
  },
  {
   "cell_type": "code",
   "execution_count": 110,
   "id": "17ad7242",
   "metadata": {},
   "outputs": [
    {
     "data": {
      "image/png": "[encoded data removed]",
      "text/plain": [
       "<Figure size 432x288 with 1 Axes>"
      ]
     },
     "metadata": {
      "needs_background": "light"
     },
     "output_type": "display_data"
    }
   ],
   "source": [
    "fpr,tpr,threshholds=roc_curve(y_test,predknn1)\n",
    "auc = roc_auc_score(y_test,predknn1)\n",
    "plt.plot([0,1],[0,1],'k--')\n",
    "plt.plot(fpr,tpr,label='CensusIncome_best')\n",
    "plt.xlabel('False Positive Rate')\n",
    "plt.ylabel('True Positive Rate')\n",
    "plt.legend()\n",
    "plt.show()"
   ]
  },
  {
   "cell_type": "markdown",
   "id": "f0c7d575",
   "metadata": {},
   "source": [
    "Obs- The best model ie. K Nearest Neighbor Classifier has AUC(area under curve)=  0.77%"
   ]
  },
  {
   "cell_type": "markdown",
   "id": "4cc8233f",
   "metadata": {},
   "source": [
    "## Saving the best model"
   ]
  },
  {
   "cell_type": "code",
   "execution_count": 112,
   "id": "e95746cb",
   "metadata": {},
   "outputs": [
    {
     "data": {
      "text/plain": [
       "['loan.obj']"
      ]
     },
     "execution_count": 112,
     "metadata": {},
     "output_type": "execute_result"
    }
   ],
   "source": [
    "import joblib\n",
    "\n",
    "joblib.dump(loan_best,'loan.obj')"
   ]
  },
  {
   "cell_type": "code",
   "execution_count": 113,
   "id": "778d45c8",
   "metadata": {},
   "outputs": [],
   "source": [
    "loan_model=joblib.load('loan.obj')"
   ]
  },
  {
   "cell_type": "code",
   "execution_count": 114,
   "id": "64c290a5",
   "metadata": {},
   "outputs": [
    {
     "data": {
      "text/plain": [
       "KNeighborsClassifier(n_neighbors=6, p=1, weights='distance')"
      ]
     },
     "execution_count": 114,
     "metadata": {},
     "output_type": "execute_result"
    }
   ],
   "source": [
    "loan_model"
   ]
  },
  {
   "cell_type": "markdown",
   "id": "82a55eac",
   "metadata": {},
   "source": [
    "## Predicting the Output"
   ]
  },
  {
   "cell_type": "code",
   "execution_count": 115,
   "id": "4145c75e",
   "metadata": {},
   "outputs": [
    {
     "data": {
      "text/html": [
       "<div>\n",
       "<style scoped>\n",
       "    .dataframe tbody tr th:only-of-type {\n",
       "        vertical-align: middle;\n",
       "    }\n",
       "\n",
       "    .dataframe tbody tr th {\n",
       "        vertical-align: top;\n",
       "    }\n",
       "\n",
       "    .dataframe thead th {\n",
       "        text-align: right;\n",
       "    }\n",
       "</style>\n",
       "<table border=\"1\" class=\"dataframe\">\n",
       "  <thead>\n",
       "    <tr style=\"text-align: right;\">\n",
       "      <th></th>\n",
       "      <th>Original</th>\n",
       "      <th>Predicted</th>\n",
       "    </tr>\n",
       "  </thead>\n",
       "  <tbody>\n",
       "    <tr>\n",
       "      <th>0</th>\n",
       "      <td>1</td>\n",
       "      <td>1</td>\n",
       "    </tr>\n",
       "    <tr>\n",
       "      <th>1</th>\n",
       "      <td>0</td>\n",
       "      <td>1</td>\n",
       "    </tr>\n",
       "    <tr>\n",
       "      <th>2</th>\n",
       "      <td>1</td>\n",
       "      <td>0</td>\n",
       "    </tr>\n",
       "    <tr>\n",
       "      <th>3</th>\n",
       "      <td>0</td>\n",
       "      <td>0</td>\n",
       "    </tr>\n",
       "    <tr>\n",
       "      <th>4</th>\n",
       "      <td>1</td>\n",
       "      <td>1</td>\n",
       "    </tr>\n",
       "    <tr>\n",
       "      <th>...</th>\n",
       "      <td>...</td>\n",
       "      <td>...</td>\n",
       "    </tr>\n",
       "    <tr>\n",
       "      <th>155</th>\n",
       "      <td>1</td>\n",
       "      <td>1</td>\n",
       "    </tr>\n",
       "    <tr>\n",
       "      <th>156</th>\n",
       "      <td>1</td>\n",
       "      <td>1</td>\n",
       "    </tr>\n",
       "    <tr>\n",
       "      <th>157</th>\n",
       "      <td>1</td>\n",
       "      <td>1</td>\n",
       "    </tr>\n",
       "    <tr>\n",
       "      <th>158</th>\n",
       "      <td>1</td>\n",
       "      <td>1</td>\n",
       "    </tr>\n",
       "    <tr>\n",
       "      <th>159</th>\n",
       "      <td>0</td>\n",
       "      <td>0</td>\n",
       "    </tr>\n",
       "  </tbody>\n",
       "</table>\n",
       "<p>160 rows × 2 columns</p>\n",
       "</div>"
      ],
      "text/plain": [
       "     Original  Predicted\n",
       "0           1          1\n",
       "1           0          1\n",
       "2           1          0\n",
       "3           0          0\n",
       "4           1          1\n",
       "..        ...        ...\n",
       "155         1          1\n",
       "156         1          1\n",
       "157         1          1\n",
       "158         1          1\n",
       "159         0          0\n",
       "\n",
       "[160 rows x 2 columns]"
      ]
     },
     "execution_count": 115,
     "metadata": {},
     "output_type": "execute_result"
    }
   ],
   "source": [
    "ori = np.array(y_test)\n",
    "predicted = np.array(loan_model.predict(x_test))\n",
    "df_new = pd.DataFrame({\"Original\":ori,\"Predicted\":predicted},index= range(len(ori)))\n",
    "df_new"
   ]
  },
  {
   "cell_type": "markdown",
   "id": "b4a63032",
   "metadata": {},
   "source": [
    "Obs- We can see our best model has given same results as original for majority of inputs"
   ]
  },
  {
   "cell_type": "code",
   "execution_count": 117,
   "id": "6848e6d8",
   "metadata": {},
   "outputs": [
    {
     "data": {
      "text/plain": [
       "Text(0.5, 1.0, 'Original vs predicted  graph')"
      ]
     },
     "execution_count": 117,
     "metadata": {},
     "output_type": "execute_result"
    },
    {
     "data": {
      "image/png": "[encoded data removed]",
      "text/plain": [
       "<Figure size 864x504 with 1 Axes>"
      ]
     },
     "metadata": {
      "needs_background": "light"
     },
     "output_type": "display_data"
    }
   ],
   "source": [
    "# Viewing the difference of prediction using Visualization \n",
    "plt.figure(figsize=(12,7))\n",
    "sns.kdeplot(data=df_new, palette='autumn',gridsize=900, shade=True)\n",
    "plt.title('Original vs predicted  graph')"
   ]
  },
  {
   "cell_type": "markdown",
   "id": "f975ddb9",
   "metadata": {},
   "source": [
    "Obs- We can observe from the graph,  predicted plot follows almost identical as the original one"
   ]
  },
  {
   "cell_type": "markdown",
   "id": "d838ee71",
   "metadata": {},
   "source": [
    "## Concluding Remarks"
   ]
  },
  {
   "cell_type": "markdown",
   "id": "cf2474f5",
   "metadata": {},
   "source": [
    "* We have predicted the Loan_Status applied by various people having different Education, Occupation, Credit_History and Income.\n",
    "* We classified the output using classification model. The prediction accuracies of these models were then checked.\n",
    "* Also cross-validation was performed to avoid overfitting of models.\n",
    "* The prediction results indicated that K nearest Neighbor Classifier model achieved a very good  prediction accuracy."
   ]
  },
  {
   "cell_type": "code",
   "execution_count": null,
   "id": "db2467fd",
   "metadata": {},
   "outputs": [],
   "source": []
  }
 ],
 "metadata": {
  "kernelspec": {
   "display_name": "Python 3 (ipykernel)",
   "language": "python",
   "name": "python3"
  },
  "language_info": {
   "codemirror_mode": {
    "name": "ipython",
    "version": 3
   },
   "file_extension": ".py",
   "mimetype": "text/x-python",
   "name": "python",
   "nbconvert_exporter": "python",
   "pygments_lexer": "ipython3",
   "version": "3.9.12"
  }
 },
 "nbformat": 4,
 "nbformat_minor": 5
}
