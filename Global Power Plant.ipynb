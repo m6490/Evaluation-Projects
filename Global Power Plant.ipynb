{
 "cells": [
  {
   "cell_type": "markdown",
   "id": "3bcc8705",
   "metadata": {},
   "source": [
    "# Global Power Plant Database"
   ]
  },
  {
   "cell_type": "markdown",
   "id": "c9fd8c80",
   "metadata": {},
   "source": [
    "## Project Description\n",
    "The Global Power Plant Database is a comprehensive, open source database of power plants around the world. It centralizes power plant data to make it easier to navigate, compare and draw insights for one’s own analysis. The database covers approximately 35,000 power plants from 167 countries and includes thermal plants (e.g. coal, gas, oil, nuclear, biomass, waste, geothermal) and renewables (e.g. hydro, wind, solar). Each power plant is geolocated and entries contain information on plant capacity, generation, ownership, and fuel type. It will be continuously updated as data becomes available.\n"
   ]
  },
  {
   "cell_type": "markdown",
   "id": "bd5175c1",
   "metadata": {},
   "source": [
    "## Key attributes of the database\n",
    "The database includes the following indicators:\n",
    "\n",
    "•\t`country` (text): 3 character country code corresponding to the ISO 3166-1 alpha-3 specification \n",
    "\n",
    "•\t`country_long` (text): longer form of the country designation\n",
    "\n",
    "•\t`name` (text): name or title of the power plant, generally in Romanized form\n",
    "\n",
    "•\t`gppd_idnr` (text): 10 or 12 character identifier for the power plant\n",
    "\n",
    "•\t`capacity_mw` (number): electrical generating capacity in megawatts\n",
    "\n",
    "•\t`latitude` (number): geolocation in decimal degrees; WGS84 (EPSG:4326)\n",
    "\n",
    "•\t`longitude` (number): geolocation in decimal degrees; WGS84 (EPSG:4326)\n",
    "\n",
    "•\t`primary_fuel` (text): energy source used in primary electricity generation or export\n",
    "\n",
    "•\t`other_fuel1` (text): energy source used in electricity generation or export\n",
    "\n",
    "•\t`other_fuel2` (text): energy source used in electricity generation or export\n",
    "\n",
    "•\t`other_fuel3` (text): energy source used in electricity generation or export\n",
    "\n",
    "•\t `commissioning_year` (number): year of plant operation, weighted by unit-capacity when data is available\n",
    "\n",
    "•\t`owner` (text): majority shareholder of the power plant, generally in Romanized form\n",
    "\n",
    "•\t`source` (text): entity reporting the data; could be an organization, report, or document, generally in Romanized form\n",
    "\n",
    "•\t`url` (text): web document corresponding to the `source` field\n",
    "\n",
    "•\t`geolocation_source` (text): attribution for geolocation information\n",
    "\n",
    "•\t`wepp_id` (text): a reference to a unique plant identifier in the widely-used PLATTS-WEPP database.\n",
    "\n",
    "•\t`year_of_capacity_data` (number): year the capacity information was reported\n",
    "\n",
    "•\t`generation_gwh_2013` (number): electricity generation in gigawatt-hours reported for the year 2013\n",
    "\n",
    "•\t`generation_gwh_2014` (number): electricity generation in gigawatt-hours reported for the year 2014\n",
    "\n",
    "•\t`generation_gwh_2015` (number): electricity generation in gigawatt-hours reported for the year 2015\n",
    "\n",
    "•\t`generation_gwh_2016` (number): electricity generation in gigawatt-hours reported for the year 2016\n",
    "\n",
    "•\t`generation_gwh_2017` (number): electricity generation in gigawatt-hours reported for the year 2017\n",
    "\n",
    "•\t`generation_gwh_2018` (number): electricity generation in gigawatt-hours reported for the year 2018\n",
    "\n",
    "•\t`generation_gwh_2019` (number): electricity generation in gigawatt-hours reported for the year 2019\n",
    "\n",
    "•\t`generation_data_source` (text): attribution for the reported generation information\n",
    "\n",
    "•\t`estimated_generation_gwh_2013` (number): estimated electricity generation in gigawatt-hours for the year 2013\n",
    "\n",
    "•\t`estimated_generation_gwh_2014` (number): estimated electricity generation in gigawatt-hours for the year 2014 \n",
    "\n",
    "•\t`estimated_generation_gwh_2015` (number): estimated electricity generation in gigawatt-hours for the year 2015\n",
    "\n",
    "•\t`estimated_generation_gwh_2016` (number): estimated electricity generation in gigawatt-hours for the year 2016\n",
    "\n",
    "•\t`estimated_generation_gwh_2017` (number): estimated electricity generation in gigawatt-hours for the year 2017 \n",
    "\n",
    "•\t'estimated_generation_note_2013` (text): label of the model/method used to estimate generation for the year 2013\n",
    "\n",
    "•\t`estimated_generation_note_2014` (text): label of the model/method used to estimate generation for the year 2014\n",
    "\n",
    "•\t`estimated_generation_note_2015` (text): label of the model/method used to estimate generation for the year 2015\n",
    "\n",
    "•\t`estimated_generation_note_2016` (text): label of the model/method used to estimate generation for the year 2016\n",
    "\n",
    "•\t`estimated_generation_note_2017` (text): label of the model/method used to estimate generation for the year 2017 \n"
   ]
  },
  {
   "cell_type": "markdown",
   "id": "c75599b7",
   "metadata": {},
   "source": [
    "## Problem Definition\n",
    "\n",
    "We define the \"Fuel Type\" attribute of our database based on common fuel categories. i.e. Fuel Type Aggregation\n",
    "And have to Build 2 Models based on:\n",
    "\n",
    "Make two prediction  1) Primary Fuel    2) capacity_mw \n"
   ]
  },
  {
   "cell_type": "code",
   "execution_count": null,
   "id": "960b641c",
   "metadata": {},
   "outputs": [],
   "source": []
  },
  {
   "cell_type": "code",
   "execution_count": 1,
   "id": "db296794",
   "metadata": {},
   "outputs": [],
   "source": [
    "# importing the necessary libraries\n",
    "import numpy as np\n",
    "import pandas as pd\n",
    "import matplotlib.pyplot as plt\n",
    "import seaborn as sns\n",
    "import sklearn\n",
    "import warnings\n",
    "warnings.filterwarnings(\"ignore\")"
   ]
  },
  {
   "cell_type": "code",
   "execution_count": 2,
   "id": "e6e910f6",
   "metadata": {},
   "outputs": [
    {
     "data": {
      "text/html": [
       "<div>\n",
       "<style scoped>\n",
       "    .dataframe tbody tr th:only-of-type {\n",
       "        vertical-align: middle;\n",
       "    }\n",
       "\n",
       "    .dataframe tbody tr th {\n",
       "        vertical-align: top;\n",
       "    }\n",
       "\n",
       "    .dataframe thead th {\n",
       "        text-align: right;\n",
       "    }\n",
       "</style>\n",
       "<table border=\"1\" class=\"dataframe\">\n",
       "  <thead>\n",
       "    <tr style=\"text-align: right;\">\n",
       "      <th></th>\n",
       "      <th>country</th>\n",
       "      <th>country_long</th>\n",
       "      <th>name</th>\n",
       "      <th>gppd_idnr</th>\n",
       "      <th>capacity_mw</th>\n",
       "      <th>latitude</th>\n",
       "      <th>longitude</th>\n",
       "      <th>primary_fuel</th>\n",
       "      <th>other_fuel1</th>\n",
       "      <th>other_fuel2</th>\n",
       "      <th>...</th>\n",
       "      <th>year_of_capacity_data</th>\n",
       "      <th>generation_gwh_2013</th>\n",
       "      <th>generation_gwh_2014</th>\n",
       "      <th>generation_gwh_2015</th>\n",
       "      <th>generation_gwh_2016</th>\n",
       "      <th>generation_gwh_2017</th>\n",
       "      <th>generation_gwh_2018</th>\n",
       "      <th>generation_gwh_2019</th>\n",
       "      <th>generation_data_source</th>\n",
       "      <th>estimated_generation_gwh</th>\n",
       "    </tr>\n",
       "  </thead>\n",
       "  <tbody>\n",
       "    <tr>\n",
       "      <th>0</th>\n",
       "      <td>IND</td>\n",
       "      <td>India</td>\n",
       "      <td>ACME Solar Tower</td>\n",
       "      <td>WRI1020239</td>\n",
       "      <td>2.5</td>\n",
       "      <td>28.1839</td>\n",
       "      <td>73.2407</td>\n",
       "      <td>Solar</td>\n",
       "      <td>NaN</td>\n",
       "      <td>NaN</td>\n",
       "      <td>...</td>\n",
       "      <td>NaN</td>\n",
       "      <td>NaN</td>\n",
       "      <td>NaN</td>\n",
       "      <td>NaN</td>\n",
       "      <td>NaN</td>\n",
       "      <td>NaN</td>\n",
       "      <td>NaN</td>\n",
       "      <td>NaN</td>\n",
       "      <td>NaN</td>\n",
       "      <td>NaN</td>\n",
       "    </tr>\n",
       "    <tr>\n",
       "      <th>1</th>\n",
       "      <td>IND</td>\n",
       "      <td>India</td>\n",
       "      <td>ADITYA CEMENT WORKS</td>\n",
       "      <td>WRI1019881</td>\n",
       "      <td>98.0</td>\n",
       "      <td>24.7663</td>\n",
       "      <td>74.6090</td>\n",
       "      <td>Coal</td>\n",
       "      <td>NaN</td>\n",
       "      <td>NaN</td>\n",
       "      <td>...</td>\n",
       "      <td>NaN</td>\n",
       "      <td>NaN</td>\n",
       "      <td>NaN</td>\n",
       "      <td>NaN</td>\n",
       "      <td>NaN</td>\n",
       "      <td>NaN</td>\n",
       "      <td>NaN</td>\n",
       "      <td>NaN</td>\n",
       "      <td>NaN</td>\n",
       "      <td>NaN</td>\n",
       "    </tr>\n",
       "    <tr>\n",
       "      <th>2</th>\n",
       "      <td>IND</td>\n",
       "      <td>India</td>\n",
       "      <td>AES Saurashtra Windfarms</td>\n",
       "      <td>WRI1026669</td>\n",
       "      <td>39.2</td>\n",
       "      <td>21.9038</td>\n",
       "      <td>69.3732</td>\n",
       "      <td>Wind</td>\n",
       "      <td>NaN</td>\n",
       "      <td>NaN</td>\n",
       "      <td>...</td>\n",
       "      <td>NaN</td>\n",
       "      <td>NaN</td>\n",
       "      <td>NaN</td>\n",
       "      <td>NaN</td>\n",
       "      <td>NaN</td>\n",
       "      <td>NaN</td>\n",
       "      <td>NaN</td>\n",
       "      <td>NaN</td>\n",
       "      <td>NaN</td>\n",
       "      <td>NaN</td>\n",
       "    </tr>\n",
       "    <tr>\n",
       "      <th>3</th>\n",
       "      <td>IND</td>\n",
       "      <td>India</td>\n",
       "      <td>AGARTALA GT</td>\n",
       "      <td>IND0000001</td>\n",
       "      <td>135.0</td>\n",
       "      <td>23.8712</td>\n",
       "      <td>91.3602</td>\n",
       "      <td>Gas</td>\n",
       "      <td>NaN</td>\n",
       "      <td>NaN</td>\n",
       "      <td>...</td>\n",
       "      <td>2019.0</td>\n",
       "      <td>NaN</td>\n",
       "      <td>617.789264</td>\n",
       "      <td>843.747</td>\n",
       "      <td>886.004428</td>\n",
       "      <td>663.774500</td>\n",
       "      <td>626.239128</td>\n",
       "      <td>NaN</td>\n",
       "      <td>Central Electricity Authority</td>\n",
       "      <td>NaN</td>\n",
       "    </tr>\n",
       "    <tr>\n",
       "      <th>4</th>\n",
       "      <td>IND</td>\n",
       "      <td>India</td>\n",
       "      <td>AKALTARA TPP</td>\n",
       "      <td>IND0000002</td>\n",
       "      <td>1800.0</td>\n",
       "      <td>21.9603</td>\n",
       "      <td>82.4091</td>\n",
       "      <td>Coal</td>\n",
       "      <td>Oil</td>\n",
       "      <td>NaN</td>\n",
       "      <td>...</td>\n",
       "      <td>2019.0</td>\n",
       "      <td>NaN</td>\n",
       "      <td>3035.550000</td>\n",
       "      <td>5916.370</td>\n",
       "      <td>6243.000000</td>\n",
       "      <td>5385.579736</td>\n",
       "      <td>7279.000000</td>\n",
       "      <td>NaN</td>\n",
       "      <td>Central Electricity Authority</td>\n",
       "      <td>NaN</td>\n",
       "    </tr>\n",
       "  </tbody>\n",
       "</table>\n",
       "<p>5 rows × 27 columns</p>\n",
       "</div>"
      ],
      "text/plain": [
       "  country country_long                      name   gppd_idnr  capacity_mw  \\\n",
       "0     IND        India          ACME Solar Tower  WRI1020239          2.5   \n",
       "1     IND        India       ADITYA CEMENT WORKS  WRI1019881         98.0   \n",
       "2     IND        India  AES Saurashtra Windfarms  WRI1026669         39.2   \n",
       "3     IND        India               AGARTALA GT  IND0000001        135.0   \n",
       "4     IND        India              AKALTARA TPP  IND0000002       1800.0   \n",
       "\n",
       "   latitude  longitude primary_fuel other_fuel1 other_fuel2  ...  \\\n",
       "0   28.1839    73.2407        Solar         NaN         NaN  ...   \n",
       "1   24.7663    74.6090         Coal         NaN         NaN  ...   \n",
       "2   21.9038    69.3732         Wind         NaN         NaN  ...   \n",
       "3   23.8712    91.3602          Gas         NaN         NaN  ...   \n",
       "4   21.9603    82.4091         Coal         Oil         NaN  ...   \n",
       "\n",
       "   year_of_capacity_data  generation_gwh_2013 generation_gwh_2014  \\\n",
       "0                    NaN                  NaN                 NaN   \n",
       "1                    NaN                  NaN                 NaN   \n",
       "2                    NaN                  NaN                 NaN   \n",
       "3                 2019.0                  NaN          617.789264   \n",
       "4                 2019.0                  NaN         3035.550000   \n",
       "\n",
       "  generation_gwh_2015 generation_gwh_2016 generation_gwh_2017  \\\n",
       "0                 NaN                 NaN                 NaN   \n",
       "1                 NaN                 NaN                 NaN   \n",
       "2                 NaN                 NaN                 NaN   \n",
       "3             843.747          886.004428          663.774500   \n",
       "4            5916.370         6243.000000         5385.579736   \n",
       "\n",
       "   generation_gwh_2018  generation_gwh_2019         generation_data_source  \\\n",
       "0                  NaN                  NaN                            NaN   \n",
       "1                  NaN                  NaN                            NaN   \n",
       "2                  NaN                  NaN                            NaN   \n",
       "3           626.239128                  NaN  Central Electricity Authority   \n",
       "4          7279.000000                  NaN  Central Electricity Authority   \n",
       "\n",
       "   estimated_generation_gwh  \n",
       "0                       NaN  \n",
       "1                       NaN  \n",
       "2                       NaN  \n",
       "3                       NaN  \n",
       "4                       NaN  \n",
       "\n",
       "[5 rows x 27 columns]"
      ]
     },
     "execution_count": 2,
     "metadata": {},
     "output_type": "execute_result"
    }
   ],
   "source": [
    "#Loading the dataset\n",
    "df_pp=pd.read_csv(\"power_plant.csv\")\n",
    "df_pp.head()"
   ]
  },
  {
   "cell_type": "markdown",
   "id": "64c31655",
   "metadata": {},
   "source": [
    "## Starting the EDA"
   ]
  },
  {
   "cell_type": "code",
   "execution_count": 3,
   "id": "8765e0e9",
   "metadata": {},
   "outputs": [
    {
     "data": {
      "text/plain": [
       "(907, 27)"
      ]
     },
     "execution_count": 3,
     "metadata": {},
     "output_type": "execute_result"
    }
   ],
   "source": [
    "# Checking Configuration of Dataset\n",
    "df_pp.shape"
   ]
  },
  {
   "cell_type": "markdown",
   "id": "e2ec5ec1",
   "metadata": {},
   "source": [
    "Obs-\n",
    "* We can see the dataset contains 907 entries of India Country only\n",
    "* There are 27 columns of which 26 are input, and the output will be either Primary_Fuel(For Classification Model), and Capacity_mw(For Regression Model)"
   ]
  },
  {
   "cell_type": "code",
   "execution_count": 4,
   "id": "28ea7ccf",
   "metadata": {},
   "outputs": [
    {
     "data": {
      "text/plain": [
       "country                      object\n",
       "country_long                 object\n",
       "name                         object\n",
       "gppd_idnr                    object\n",
       "capacity_mw                 float64\n",
       "latitude                    float64\n",
       "longitude                   float64\n",
       "primary_fuel                 object\n",
       "other_fuel1                  object\n",
       "other_fuel2                  object\n",
       "other_fuel3                 float64\n",
       "commissioning_year          float64\n",
       "owner                        object\n",
       "source                       object\n",
       "url                          object\n",
       "geolocation_source           object\n",
       "wepp_id                     float64\n",
       "year_of_capacity_data       float64\n",
       "generation_gwh_2013         float64\n",
       "generation_gwh_2014         float64\n",
       "generation_gwh_2015         float64\n",
       "generation_gwh_2016         float64\n",
       "generation_gwh_2017         float64\n",
       "generation_gwh_2018         float64\n",
       "generation_gwh_2019         float64\n",
       "generation_data_source       object\n",
       "estimated_generation_gwh    float64\n",
       "dtype: object"
      ]
     },
     "execution_count": 4,
     "metadata": {},
     "output_type": "execute_result"
    }
   ],
   "source": [
    "# Checking data types of attributes\n",
    "df_pp.dtypes"
   ]
  },
  {
   "cell_type": "markdown",
   "id": "40b042fe",
   "metadata": {},
   "source": [
    "Obs- We can see there are both continuous and categorical columns in the dataset, the target field 1)primary_fuel is categorical type and 2) capacity_mw is continuous type.\n",
    "\n",
    "* will encode the categorical column later"
   ]
  },
  {
   "cell_type": "code",
   "execution_count": 5,
   "id": "5d40b749",
   "metadata": {},
   "outputs": [
    {
     "data": {
      "text/plain": [
       "country                       0\n",
       "country_long                  0\n",
       "name                          0\n",
       "gppd_idnr                     0\n",
       "capacity_mw                   0\n",
       "latitude                     46\n",
       "longitude                    46\n",
       "primary_fuel                  0\n",
       "other_fuel1                 709\n",
       "other_fuel2                 906\n",
       "other_fuel3                 907\n",
       "commissioning_year          380\n",
       "owner                       565\n",
       "source                        0\n",
       "url                           0\n",
       "geolocation_source           19\n",
       "wepp_id                     907\n",
       "year_of_capacity_data       388\n",
       "generation_gwh_2013         907\n",
       "generation_gwh_2014         509\n",
       "generation_gwh_2015         485\n",
       "generation_gwh_2016         473\n",
       "generation_gwh_2017         467\n",
       "generation_gwh_2018         459\n",
       "generation_gwh_2019         907\n",
       "generation_data_source      458\n",
       "estimated_generation_gwh    907\n",
       "dtype: int64"
      ]
     },
     "execution_count": 5,
     "metadata": {},
     "output_type": "execute_result"
    }
   ],
   "source": [
    "# Checking for null values if any\n",
    "df_pp.isnull().sum()"
   ]
  },
  {
   "cell_type": "code",
   "execution_count": 6,
   "id": "27ea8af2",
   "metadata": {},
   "outputs": [
    {
     "data": {
      "image/png": "[encoded data removed]",
      "text/plain": [
       "<Figure size 720x576 with 2 Axes>"
      ]
     },
     "metadata": {
      "needs_background": "light"
     },
     "output_type": "display_data"
    }
   ],
   "source": [
    "# Visualization of null values\n",
    "plt.figure(figsize=[10,8])\n",
    "sns.heatmap(df_pp.isnull())\n",
    "plt.title(\"NULL VALUES\")\n",
    "plt.show()"
   ]
  },
  {
   "cell_type": "markdown",
   "id": "16963cb1",
   "metadata": {},
   "source": [
    "Obs- We can see the columns contain large number of null values.\n",
    "\n",
    "* Will be deleting the columns: 'other_fuel2','other_fuel3','wepp_id','generation_gwh_2013','generation_gwh_2019','estimated_generation_gwh' as  all of these columns have no data in them(except for 'other_fuel2' that has just 1 entry)\n",
    "\n",
    "* We will also delete the columns: 'other_fuel1','owner','url' as either they have insufficient data or are not useful for Model Prediction at all"
   ]
  },
  {
   "cell_type": "code",
   "execution_count": 7,
   "id": "a380190b",
   "metadata": {},
   "outputs": [
    {
     "data": {
      "text/html": [
       "<div>\n",
       "<style scoped>\n",
       "    .dataframe tbody tr th:only-of-type {\n",
       "        vertical-align: middle;\n",
       "    }\n",
       "\n",
       "    .dataframe tbody tr th {\n",
       "        vertical-align: top;\n",
       "    }\n",
       "\n",
       "    .dataframe thead th {\n",
       "        text-align: right;\n",
       "    }\n",
       "</style>\n",
       "<table border=\"1\" class=\"dataframe\">\n",
       "  <thead>\n",
       "    <tr style=\"text-align: right;\">\n",
       "      <th></th>\n",
       "      <th>country</th>\n",
       "      <th>country_long</th>\n",
       "      <th>name</th>\n",
       "      <th>gppd_idnr</th>\n",
       "      <th>capacity_mw</th>\n",
       "      <th>latitude</th>\n",
       "      <th>longitude</th>\n",
       "      <th>primary_fuel</th>\n",
       "      <th>other_fuel1</th>\n",
       "      <th>other_fuel2</th>\n",
       "      <th>...</th>\n",
       "      <th>year_of_capacity_data</th>\n",
       "      <th>generation_gwh_2013</th>\n",
       "      <th>generation_gwh_2014</th>\n",
       "      <th>generation_gwh_2015</th>\n",
       "      <th>generation_gwh_2016</th>\n",
       "      <th>generation_gwh_2017</th>\n",
       "      <th>generation_gwh_2018</th>\n",
       "      <th>generation_gwh_2019</th>\n",
       "      <th>generation_data_source</th>\n",
       "      <th>estimated_generation_gwh</th>\n",
       "    </tr>\n",
       "  </thead>\n",
       "  <tbody>\n",
       "    <tr>\n",
       "      <th>0</th>\n",
       "      <td>False</td>\n",
       "      <td>False</td>\n",
       "      <td>False</td>\n",
       "      <td>False</td>\n",
       "      <td>False</td>\n",
       "      <td>False</td>\n",
       "      <td>False</td>\n",
       "      <td>False</td>\n",
       "      <td>False</td>\n",
       "      <td>False</td>\n",
       "      <td>...</td>\n",
       "      <td>False</td>\n",
       "      <td>False</td>\n",
       "      <td>False</td>\n",
       "      <td>False</td>\n",
       "      <td>False</td>\n",
       "      <td>False</td>\n",
       "      <td>False</td>\n",
       "      <td>False</td>\n",
       "      <td>False</td>\n",
       "      <td>False</td>\n",
       "    </tr>\n",
       "    <tr>\n",
       "      <th>1</th>\n",
       "      <td>False</td>\n",
       "      <td>False</td>\n",
       "      <td>False</td>\n",
       "      <td>False</td>\n",
       "      <td>False</td>\n",
       "      <td>False</td>\n",
       "      <td>False</td>\n",
       "      <td>False</td>\n",
       "      <td>False</td>\n",
       "      <td>False</td>\n",
       "      <td>...</td>\n",
       "      <td>False</td>\n",
       "      <td>False</td>\n",
       "      <td>False</td>\n",
       "      <td>False</td>\n",
       "      <td>False</td>\n",
       "      <td>False</td>\n",
       "      <td>False</td>\n",
       "      <td>False</td>\n",
       "      <td>False</td>\n",
       "      <td>False</td>\n",
       "    </tr>\n",
       "    <tr>\n",
       "      <th>2</th>\n",
       "      <td>False</td>\n",
       "      <td>False</td>\n",
       "      <td>False</td>\n",
       "      <td>False</td>\n",
       "      <td>False</td>\n",
       "      <td>False</td>\n",
       "      <td>False</td>\n",
       "      <td>False</td>\n",
       "      <td>False</td>\n",
       "      <td>False</td>\n",
       "      <td>...</td>\n",
       "      <td>False</td>\n",
       "      <td>False</td>\n",
       "      <td>False</td>\n",
       "      <td>False</td>\n",
       "      <td>False</td>\n",
       "      <td>False</td>\n",
       "      <td>False</td>\n",
       "      <td>False</td>\n",
       "      <td>False</td>\n",
       "      <td>False</td>\n",
       "    </tr>\n",
       "    <tr>\n",
       "      <th>3</th>\n",
       "      <td>False</td>\n",
       "      <td>False</td>\n",
       "      <td>False</td>\n",
       "      <td>False</td>\n",
       "      <td>False</td>\n",
       "      <td>False</td>\n",
       "      <td>False</td>\n",
       "      <td>False</td>\n",
       "      <td>False</td>\n",
       "      <td>False</td>\n",
       "      <td>...</td>\n",
       "      <td>False</td>\n",
       "      <td>False</td>\n",
       "      <td>False</td>\n",
       "      <td>False</td>\n",
       "      <td>False</td>\n",
       "      <td>False</td>\n",
       "      <td>False</td>\n",
       "      <td>False</td>\n",
       "      <td>False</td>\n",
       "      <td>False</td>\n",
       "    </tr>\n",
       "    <tr>\n",
       "      <th>4</th>\n",
       "      <td>False</td>\n",
       "      <td>False</td>\n",
       "      <td>False</td>\n",
       "      <td>False</td>\n",
       "      <td>False</td>\n",
       "      <td>False</td>\n",
       "      <td>False</td>\n",
       "      <td>False</td>\n",
       "      <td>False</td>\n",
       "      <td>False</td>\n",
       "      <td>...</td>\n",
       "      <td>False</td>\n",
       "      <td>False</td>\n",
       "      <td>False</td>\n",
       "      <td>False</td>\n",
       "      <td>False</td>\n",
       "      <td>False</td>\n",
       "      <td>False</td>\n",
       "      <td>False</td>\n",
       "      <td>False</td>\n",
       "      <td>False</td>\n",
       "    </tr>\n",
       "    <tr>\n",
       "      <th>...</th>\n",
       "      <td>...</td>\n",
       "      <td>...</td>\n",
       "      <td>...</td>\n",
       "      <td>...</td>\n",
       "      <td>...</td>\n",
       "      <td>...</td>\n",
       "      <td>...</td>\n",
       "      <td>...</td>\n",
       "      <td>...</td>\n",
       "      <td>...</td>\n",
       "      <td>...</td>\n",
       "      <td>...</td>\n",
       "      <td>...</td>\n",
       "      <td>...</td>\n",
       "      <td>...</td>\n",
       "      <td>...</td>\n",
       "      <td>...</td>\n",
       "      <td>...</td>\n",
       "      <td>...</td>\n",
       "      <td>...</td>\n",
       "      <td>...</td>\n",
       "    </tr>\n",
       "    <tr>\n",
       "      <th>902</th>\n",
       "      <td>False</td>\n",
       "      <td>False</td>\n",
       "      <td>False</td>\n",
       "      <td>False</td>\n",
       "      <td>False</td>\n",
       "      <td>False</td>\n",
       "      <td>False</td>\n",
       "      <td>False</td>\n",
       "      <td>False</td>\n",
       "      <td>False</td>\n",
       "      <td>...</td>\n",
       "      <td>False</td>\n",
       "      <td>False</td>\n",
       "      <td>False</td>\n",
       "      <td>False</td>\n",
       "      <td>False</td>\n",
       "      <td>False</td>\n",
       "      <td>False</td>\n",
       "      <td>False</td>\n",
       "      <td>False</td>\n",
       "      <td>False</td>\n",
       "    </tr>\n",
       "    <tr>\n",
       "      <th>903</th>\n",
       "      <td>False</td>\n",
       "      <td>False</td>\n",
       "      <td>False</td>\n",
       "      <td>False</td>\n",
       "      <td>False</td>\n",
       "      <td>False</td>\n",
       "      <td>False</td>\n",
       "      <td>False</td>\n",
       "      <td>False</td>\n",
       "      <td>False</td>\n",
       "      <td>...</td>\n",
       "      <td>False</td>\n",
       "      <td>False</td>\n",
       "      <td>False</td>\n",
       "      <td>False</td>\n",
       "      <td>False</td>\n",
       "      <td>False</td>\n",
       "      <td>False</td>\n",
       "      <td>False</td>\n",
       "      <td>False</td>\n",
       "      <td>False</td>\n",
       "    </tr>\n",
       "    <tr>\n",
       "      <th>904</th>\n",
       "      <td>False</td>\n",
       "      <td>False</td>\n",
       "      <td>False</td>\n",
       "      <td>False</td>\n",
       "      <td>False</td>\n",
       "      <td>False</td>\n",
       "      <td>False</td>\n",
       "      <td>False</td>\n",
       "      <td>False</td>\n",
       "      <td>False</td>\n",
       "      <td>...</td>\n",
       "      <td>False</td>\n",
       "      <td>False</td>\n",
       "      <td>False</td>\n",
       "      <td>False</td>\n",
       "      <td>False</td>\n",
       "      <td>False</td>\n",
       "      <td>False</td>\n",
       "      <td>False</td>\n",
       "      <td>False</td>\n",
       "      <td>False</td>\n",
       "    </tr>\n",
       "    <tr>\n",
       "      <th>905</th>\n",
       "      <td>False</td>\n",
       "      <td>False</td>\n",
       "      <td>False</td>\n",
       "      <td>False</td>\n",
       "      <td>False</td>\n",
       "      <td>False</td>\n",
       "      <td>False</td>\n",
       "      <td>False</td>\n",
       "      <td>False</td>\n",
       "      <td>False</td>\n",
       "      <td>...</td>\n",
       "      <td>False</td>\n",
       "      <td>False</td>\n",
       "      <td>False</td>\n",
       "      <td>False</td>\n",
       "      <td>False</td>\n",
       "      <td>False</td>\n",
       "      <td>False</td>\n",
       "      <td>False</td>\n",
       "      <td>False</td>\n",
       "      <td>False</td>\n",
       "    </tr>\n",
       "    <tr>\n",
       "      <th>906</th>\n",
       "      <td>False</td>\n",
       "      <td>False</td>\n",
       "      <td>False</td>\n",
       "      <td>False</td>\n",
       "      <td>False</td>\n",
       "      <td>False</td>\n",
       "      <td>False</td>\n",
       "      <td>False</td>\n",
       "      <td>False</td>\n",
       "      <td>False</td>\n",
       "      <td>...</td>\n",
       "      <td>False</td>\n",
       "      <td>False</td>\n",
       "      <td>False</td>\n",
       "      <td>False</td>\n",
       "      <td>False</td>\n",
       "      <td>False</td>\n",
       "      <td>False</td>\n",
       "      <td>False</td>\n",
       "      <td>False</td>\n",
       "      <td>False</td>\n",
       "    </tr>\n",
       "  </tbody>\n",
       "</table>\n",
       "<p>907 rows × 27 columns</p>\n",
       "</div>"
      ],
      "text/plain": [
       "     country  country_long   name  gppd_idnr  capacity_mw  latitude  \\\n",
       "0      False         False  False      False        False     False   \n",
       "1      False         False  False      False        False     False   \n",
       "2      False         False  False      False        False     False   \n",
       "3      False         False  False      False        False     False   \n",
       "4      False         False  False      False        False     False   \n",
       "..       ...           ...    ...        ...          ...       ...   \n",
       "902    False         False  False      False        False     False   \n",
       "903    False         False  False      False        False     False   \n",
       "904    False         False  False      False        False     False   \n",
       "905    False         False  False      False        False     False   \n",
       "906    False         False  False      False        False     False   \n",
       "\n",
       "     longitude  primary_fuel  other_fuel1  other_fuel2  ...  \\\n",
       "0        False         False        False        False  ...   \n",
       "1        False         False        False        False  ...   \n",
       "2        False         False        False        False  ...   \n",
       "3        False         False        False        False  ...   \n",
       "4        False         False        False        False  ...   \n",
       "..         ...           ...          ...          ...  ...   \n",
       "902      False         False        False        False  ...   \n",
       "903      False         False        False        False  ...   \n",
       "904      False         False        False        False  ...   \n",
       "905      False         False        False        False  ...   \n",
       "906      False         False        False        False  ...   \n",
       "\n",
       "     year_of_capacity_data  generation_gwh_2013  generation_gwh_2014  \\\n",
       "0                    False                False                False   \n",
       "1                    False                False                False   \n",
       "2                    False                False                False   \n",
       "3                    False                False                False   \n",
       "4                    False                False                False   \n",
       "..                     ...                  ...                  ...   \n",
       "902                  False                False                False   \n",
       "903                  False                False                False   \n",
       "904                  False                False                False   \n",
       "905                  False                False                False   \n",
       "906                  False                False                False   \n",
       "\n",
       "     generation_gwh_2015  generation_gwh_2016  generation_gwh_2017  \\\n",
       "0                  False                False                False   \n",
       "1                  False                False                False   \n",
       "2                  False                False                False   \n",
       "3                  False                False                False   \n",
       "4                  False                False                False   \n",
       "..                   ...                  ...                  ...   \n",
       "902                False                False                False   \n",
       "903                False                False                False   \n",
       "904                False                False                False   \n",
       "905                False                False                False   \n",
       "906                False                False                False   \n",
       "\n",
       "     generation_gwh_2018  generation_gwh_2019  generation_data_source  \\\n",
       "0                  False                False                   False   \n",
       "1                  False                False                   False   \n",
       "2                  False                False                   False   \n",
       "3                  False                False                   False   \n",
       "4                  False                False                   False   \n",
       "..                   ...                  ...                     ...   \n",
       "902                False                False                   False   \n",
       "903                False                False                   False   \n",
       "904                False                False                   False   \n",
       "905                False                False                   False   \n",
       "906                False                False                   False   \n",
       "\n",
       "     estimated_generation_gwh  \n",
       "0                       False  \n",
       "1                       False  \n",
       "2                       False  \n",
       "3                       False  \n",
       "4                       False  \n",
       "..                        ...  \n",
       "902                     False  \n",
       "903                     False  \n",
       "904                     False  \n",
       "905                     False  \n",
       "906                     False  \n",
       "\n",
       "[907 rows x 27 columns]"
      ]
     },
     "execution_count": 7,
     "metadata": {},
     "output_type": "execute_result"
    }
   ],
   "source": [
    "# Checking for white spaces\n",
    "df_pp.loc[0:]==\" \""
   ]
  },
  {
   "cell_type": "markdown",
   "id": "ecee3d6a",
   "metadata": {},
   "source": [
    "Obs- There is no white space in the data"
   ]
  },
  {
   "cell_type": "code",
   "execution_count": 8,
   "id": "11131821",
   "metadata": {},
   "outputs": [
    {
     "data": {
      "text/plain": [
       "0"
      ]
     },
     "execution_count": 8,
     "metadata": {},
     "output_type": "execute_result"
    }
   ],
   "source": [
    "#Check for duplicate data\n",
    "df_pp.duplicated().sum()"
   ]
  },
  {
   "cell_type": "markdown",
   "id": "173995cb",
   "metadata": {},
   "source": [
    "Obs- There is no duplicate data in the dataset"
   ]
  },
  {
   "cell_type": "code",
   "execution_count": 9,
   "id": "90a1e8ac",
   "metadata": {},
   "outputs": [
    {
     "data": {
      "text/plain": [
       "country                       1\n",
       "country_long                  1\n",
       "name                        907\n",
       "gppd_idnr                   907\n",
       "capacity_mw                 361\n",
       "latitude                    836\n",
       "longitude                   827\n",
       "primary_fuel                  8\n",
       "other_fuel1                   3\n",
       "other_fuel2                   1\n",
       "other_fuel3                   0\n",
       "commissioning_year           73\n",
       "owner                       280\n",
       "source                      191\n",
       "url                         304\n",
       "geolocation_source            3\n",
       "wepp_id                       0\n",
       "year_of_capacity_data         1\n",
       "generation_gwh_2013           0\n",
       "generation_gwh_2014         371\n",
       "generation_gwh_2015         396\n",
       "generation_gwh_2016         403\n",
       "generation_gwh_2017         408\n",
       "generation_gwh_2018         410\n",
       "generation_gwh_2019           0\n",
       "generation_data_source        1\n",
       "estimated_generation_gwh      0\n",
       "dtype: int64"
      ]
     },
     "execution_count": 9,
     "metadata": {},
     "output_type": "execute_result"
    }
   ],
   "source": [
    "df_pp.nunique()"
   ]
  },
  {
   "cell_type": "markdown",
   "id": "b4938730",
   "metadata": {},
   "source": [
    "Obs- \n",
    "* We can see columns:'country','country_long','year_of_capacity_data','generation_data_source' contains only a single entity for all rows, so we will be deleting these columns too.\n",
    "* Also we can see columns: 'name','gppd_idnr' contains all distinct values and doesnot comply in predicting target , so will be deleting these two columns as well."
   ]
  },
  {
   "cell_type": "markdown",
   "id": "e3f58692",
   "metadata": {},
   "source": [
    "## Feature Engineering"
   ]
  },
  {
   "cell_type": "markdown",
   "id": "cc1d2174",
   "metadata": {},
   "source": [
    "### Deleting the Unwanted Columns"
   ]
  },
  {
   "cell_type": "markdown",
   "id": "c2477e56",
   "metadata": {},
   "source": [
    "### a. Deleting all blank entry columns"
   ]
  },
  {
   "cell_type": "code",
   "execution_count": 10,
   "id": "ba17a9b0",
   "metadata": {},
   "outputs": [],
   "source": [
    "df_pp.drop(columns=['other_fuel2','other_fuel3','wepp_id','generation_gwh_2013','generation_gwh_2019','estimated_generation_gwh'],axis=1,inplace=True)"
   ]
  },
  {
   "cell_type": "code",
   "execution_count": 11,
   "id": "6200ffeb",
   "metadata": {},
   "outputs": [
    {
     "data": {
      "text/plain": [
       "(907, 21)"
      ]
     },
     "execution_count": 11,
     "metadata": {},
     "output_type": "execute_result"
    }
   ],
   "source": [
    "df_pp.shape"
   ]
  },
  {
   "cell_type": "markdown",
   "id": "f207273d",
   "metadata": {},
   "source": [
    "### b. Deleting Unwanted/ Insufficient-Data columns"
   ]
  },
  {
   "cell_type": "code",
   "execution_count": 12,
   "id": "74b41440",
   "metadata": {},
   "outputs": [],
   "source": [
    "df_pp.drop(columns=['other_fuel1','owner','url'],axis=1,inplace=True)"
   ]
  },
  {
   "cell_type": "code",
   "execution_count": 13,
   "id": "25ee0800",
   "metadata": {},
   "outputs": [
    {
     "data": {
      "text/plain": [
       "(907, 18)"
      ]
     },
     "execution_count": 13,
     "metadata": {},
     "output_type": "execute_result"
    }
   ],
   "source": [
    "df_pp.shape"
   ]
  },
  {
   "cell_type": "markdown",
   "id": "49a1fd1b",
   "metadata": {},
   "source": [
    "### c. Deleting Single Entry Columns "
   ]
  },
  {
   "cell_type": "code",
   "execution_count": 14,
   "id": "b913005e",
   "metadata": {},
   "outputs": [],
   "source": [
    "df_pp.drop(columns=['country','country_long','year_of_capacity_data','generation_data_source'],axis=1,inplace=True)"
   ]
  },
  {
   "cell_type": "code",
   "execution_count": 15,
   "id": "e534ba5d",
   "metadata": {},
   "outputs": [
    {
     "data": {
      "text/plain": [
       "(907, 14)"
      ]
     },
     "execution_count": 15,
     "metadata": {},
     "output_type": "execute_result"
    }
   ],
   "source": [
    "df_pp.shape"
   ]
  },
  {
   "cell_type": "markdown",
   "id": "637d3564",
   "metadata": {},
   "source": [
    "### d. Deleting all Distinct value Columns"
   ]
  },
  {
   "cell_type": "code",
   "execution_count": 16,
   "id": "647ef181",
   "metadata": {},
   "outputs": [],
   "source": [
    "df_pp.drop(columns=['name','gppd_idnr'],axis=1,inplace=True)"
   ]
  },
  {
   "cell_type": "code",
   "execution_count": 17,
   "id": "f286e43a",
   "metadata": {},
   "outputs": [
    {
     "data": {
      "text/plain": [
       "(907, 12)"
      ]
     },
     "execution_count": 17,
     "metadata": {},
     "output_type": "execute_result"
    }
   ],
   "source": [
    "df_pp.shape"
   ]
  },
  {
   "cell_type": "markdown",
   "id": "9fa4c3b5",
   "metadata": {},
   "source": [
    "### Conc- We have now obtained a almost(as it stiill have NaN values) clean dataset on which we can continue our EDA"
   ]
  },
  {
   "cell_type": "code",
   "execution_count": 18,
   "id": "868f603d",
   "metadata": {},
   "outputs": [
    {
     "data": {
      "text/html": [
       "<div>\n",
       "<style scoped>\n",
       "    .dataframe tbody tr th:only-of-type {\n",
       "        vertical-align: middle;\n",
       "    }\n",
       "\n",
       "    .dataframe tbody tr th {\n",
       "        vertical-align: top;\n",
       "    }\n",
       "\n",
       "    .dataframe thead th {\n",
       "        text-align: right;\n",
       "    }\n",
       "</style>\n",
       "<table border=\"1\" class=\"dataframe\">\n",
       "  <thead>\n",
       "    <tr style=\"text-align: right;\">\n",
       "      <th></th>\n",
       "      <th>capacity_mw</th>\n",
       "      <th>latitude</th>\n",
       "      <th>longitude</th>\n",
       "      <th>primary_fuel</th>\n",
       "      <th>commissioning_year</th>\n",
       "      <th>source</th>\n",
       "      <th>geolocation_source</th>\n",
       "      <th>generation_gwh_2014</th>\n",
       "      <th>generation_gwh_2015</th>\n",
       "      <th>generation_gwh_2016</th>\n",
       "      <th>generation_gwh_2017</th>\n",
       "      <th>generation_gwh_2018</th>\n",
       "    </tr>\n",
       "  </thead>\n",
       "  <tbody>\n",
       "    <tr>\n",
       "      <th>0</th>\n",
       "      <td>2.5</td>\n",
       "      <td>28.1839</td>\n",
       "      <td>73.2407</td>\n",
       "      <td>Solar</td>\n",
       "      <td>2011.0</td>\n",
       "      <td>National Renewable Energy Laboratory</td>\n",
       "      <td>National Renewable Energy Laboratory</td>\n",
       "      <td>NaN</td>\n",
       "      <td>NaN</td>\n",
       "      <td>NaN</td>\n",
       "      <td>NaN</td>\n",
       "      <td>NaN</td>\n",
       "    </tr>\n",
       "    <tr>\n",
       "      <th>1</th>\n",
       "      <td>98.0</td>\n",
       "      <td>24.7663</td>\n",
       "      <td>74.6090</td>\n",
       "      <td>Coal</td>\n",
       "      <td>NaN</td>\n",
       "      <td>Ultratech Cement ltd</td>\n",
       "      <td>WRI</td>\n",
       "      <td>NaN</td>\n",
       "      <td>NaN</td>\n",
       "      <td>NaN</td>\n",
       "      <td>NaN</td>\n",
       "      <td>NaN</td>\n",
       "    </tr>\n",
       "    <tr>\n",
       "      <th>2</th>\n",
       "      <td>39.2</td>\n",
       "      <td>21.9038</td>\n",
       "      <td>69.3732</td>\n",
       "      <td>Wind</td>\n",
       "      <td>NaN</td>\n",
       "      <td>CDM</td>\n",
       "      <td>WRI</td>\n",
       "      <td>NaN</td>\n",
       "      <td>NaN</td>\n",
       "      <td>NaN</td>\n",
       "      <td>NaN</td>\n",
       "      <td>NaN</td>\n",
       "    </tr>\n",
       "    <tr>\n",
       "      <th>3</th>\n",
       "      <td>135.0</td>\n",
       "      <td>23.8712</td>\n",
       "      <td>91.3602</td>\n",
       "      <td>Gas</td>\n",
       "      <td>2004.0</td>\n",
       "      <td>Central Electricity Authority</td>\n",
       "      <td>WRI</td>\n",
       "      <td>617.789264</td>\n",
       "      <td>843.747000</td>\n",
       "      <td>886.004428</td>\n",
       "      <td>663.774500</td>\n",
       "      <td>626.239128</td>\n",
       "    </tr>\n",
       "    <tr>\n",
       "      <th>4</th>\n",
       "      <td>1800.0</td>\n",
       "      <td>21.9603</td>\n",
       "      <td>82.4091</td>\n",
       "      <td>Coal</td>\n",
       "      <td>2015.0</td>\n",
       "      <td>Central Electricity Authority</td>\n",
       "      <td>WRI</td>\n",
       "      <td>3035.550000</td>\n",
       "      <td>5916.370000</td>\n",
       "      <td>6243.000000</td>\n",
       "      <td>5385.579736</td>\n",
       "      <td>7279.000000</td>\n",
       "    </tr>\n",
       "    <tr>\n",
       "      <th>...</th>\n",
       "      <td>...</td>\n",
       "      <td>...</td>\n",
       "      <td>...</td>\n",
       "      <td>...</td>\n",
       "      <td>...</td>\n",
       "      <td>...</td>\n",
       "      <td>...</td>\n",
       "      <td>...</td>\n",
       "      <td>...</td>\n",
       "      <td>...</td>\n",
       "      <td>...</td>\n",
       "      <td>...</td>\n",
       "    </tr>\n",
       "    <tr>\n",
       "      <th>902</th>\n",
       "      <td>1600.0</td>\n",
       "      <td>16.2949</td>\n",
       "      <td>77.3568</td>\n",
       "      <td>Coal</td>\n",
       "      <td>2016.0</td>\n",
       "      <td>Central Electricity Authority</td>\n",
       "      <td>WRI</td>\n",
       "      <td>NaN</td>\n",
       "      <td>0.994875</td>\n",
       "      <td>233.596650</td>\n",
       "      <td>865.400000</td>\n",
       "      <td>686.500000</td>\n",
       "    </tr>\n",
       "    <tr>\n",
       "      <th>903</th>\n",
       "      <td>3.0</td>\n",
       "      <td>12.8932</td>\n",
       "      <td>78.1654</td>\n",
       "      <td>Solar</td>\n",
       "      <td>NaN</td>\n",
       "      <td>Karnataka Power Corporation Limited</td>\n",
       "      <td>Industry About</td>\n",
       "      <td>NaN</td>\n",
       "      <td>NaN</td>\n",
       "      <td>NaN</td>\n",
       "      <td>NaN</td>\n",
       "      <td>NaN</td>\n",
       "    </tr>\n",
       "    <tr>\n",
       "      <th>904</th>\n",
       "      <td>25.5</td>\n",
       "      <td>15.2758</td>\n",
       "      <td>75.5811</td>\n",
       "      <td>Wind</td>\n",
       "      <td>NaN</td>\n",
       "      <td>CDM</td>\n",
       "      <td>WRI</td>\n",
       "      <td>NaN</td>\n",
       "      <td>NaN</td>\n",
       "      <td>NaN</td>\n",
       "      <td>NaN</td>\n",
       "      <td>NaN</td>\n",
       "    </tr>\n",
       "    <tr>\n",
       "      <th>905</th>\n",
       "      <td>80.0</td>\n",
       "      <td>24.3500</td>\n",
       "      <td>73.7477</td>\n",
       "      <td>Coal</td>\n",
       "      <td>NaN</td>\n",
       "      <td>Hindustan Zinc ltd</td>\n",
       "      <td>WRI</td>\n",
       "      <td>NaN</td>\n",
       "      <td>NaN</td>\n",
       "      <td>NaN</td>\n",
       "      <td>NaN</td>\n",
       "      <td>NaN</td>\n",
       "    </tr>\n",
       "    <tr>\n",
       "      <th>906</th>\n",
       "      <td>16.5</td>\n",
       "      <td>9.9344</td>\n",
       "      <td>77.4768</td>\n",
       "      <td>Wind</td>\n",
       "      <td>NaN</td>\n",
       "      <td>CDM</td>\n",
       "      <td>WRI</td>\n",
       "      <td>NaN</td>\n",
       "      <td>NaN</td>\n",
       "      <td>NaN</td>\n",
       "      <td>NaN</td>\n",
       "      <td>NaN</td>\n",
       "    </tr>\n",
       "  </tbody>\n",
       "</table>\n",
       "<p>907 rows × 12 columns</p>\n",
       "</div>"
      ],
      "text/plain": [
       "     capacity_mw  latitude  longitude primary_fuel  commissioning_year  \\\n",
       "0            2.5   28.1839    73.2407        Solar              2011.0   \n",
       "1           98.0   24.7663    74.6090         Coal                 NaN   \n",
       "2           39.2   21.9038    69.3732         Wind                 NaN   \n",
       "3          135.0   23.8712    91.3602          Gas              2004.0   \n",
       "4         1800.0   21.9603    82.4091         Coal              2015.0   \n",
       "..           ...       ...        ...          ...                 ...   \n",
       "902       1600.0   16.2949    77.3568         Coal              2016.0   \n",
       "903          3.0   12.8932    78.1654        Solar                 NaN   \n",
       "904         25.5   15.2758    75.5811         Wind                 NaN   \n",
       "905         80.0   24.3500    73.7477         Coal                 NaN   \n",
       "906         16.5    9.9344    77.4768         Wind                 NaN   \n",
       "\n",
       "                                   source  \\\n",
       "0    National Renewable Energy Laboratory   \n",
       "1                    Ultratech Cement ltd   \n",
       "2                                     CDM   \n",
       "3           Central Electricity Authority   \n",
       "4           Central Electricity Authority   \n",
       "..                                    ...   \n",
       "902         Central Electricity Authority   \n",
       "903   Karnataka Power Corporation Limited   \n",
       "904                                   CDM   \n",
       "905                    Hindustan Zinc ltd   \n",
       "906                                   CDM   \n",
       "\n",
       "                       geolocation_source  generation_gwh_2014  \\\n",
       "0    National Renewable Energy Laboratory                  NaN   \n",
       "1                                     WRI                  NaN   \n",
       "2                                     WRI                  NaN   \n",
       "3                                     WRI           617.789264   \n",
       "4                                     WRI          3035.550000   \n",
       "..                                    ...                  ...   \n",
       "902                                   WRI                  NaN   \n",
       "903                        Industry About                  NaN   \n",
       "904                                   WRI                  NaN   \n",
       "905                                   WRI                  NaN   \n",
       "906                                   WRI                  NaN   \n",
       "\n",
       "     generation_gwh_2015  generation_gwh_2016  generation_gwh_2017  \\\n",
       "0                    NaN                  NaN                  NaN   \n",
       "1                    NaN                  NaN                  NaN   \n",
       "2                    NaN                  NaN                  NaN   \n",
       "3             843.747000           886.004428           663.774500   \n",
       "4            5916.370000          6243.000000          5385.579736   \n",
       "..                   ...                  ...                  ...   \n",
       "902             0.994875           233.596650           865.400000   \n",
       "903                  NaN                  NaN                  NaN   \n",
       "904                  NaN                  NaN                  NaN   \n",
       "905                  NaN                  NaN                  NaN   \n",
       "906                  NaN                  NaN                  NaN   \n",
       "\n",
       "     generation_gwh_2018  \n",
       "0                    NaN  \n",
       "1                    NaN  \n",
       "2                    NaN  \n",
       "3             626.239128  \n",
       "4            7279.000000  \n",
       "..                   ...  \n",
       "902           686.500000  \n",
       "903                  NaN  \n",
       "904                  NaN  \n",
       "905                  NaN  \n",
       "906                  NaN  \n",
       "\n",
       "[907 rows x 12 columns]"
      ]
     },
     "execution_count": 18,
     "metadata": {},
     "output_type": "execute_result"
    }
   ],
   "source": [
    "# Viewing the Dataset\n",
    "df_pp"
   ]
  },
  {
   "cell_type": "code",
   "execution_count": 19,
   "id": "7d265043",
   "metadata": {},
   "outputs": [
    {
     "data": {
      "text/plain": [
       "capacity_mw              0\n",
       "latitude                46\n",
       "longitude               46\n",
       "primary_fuel             0\n",
       "commissioning_year     380\n",
       "source                   0\n",
       "geolocation_source      19\n",
       "generation_gwh_2014    509\n",
       "generation_gwh_2015    485\n",
       "generation_gwh_2016    473\n",
       "generation_gwh_2017    467\n",
       "generation_gwh_2018    459\n",
       "dtype: int64"
      ]
     },
     "execution_count": 19,
     "metadata": {},
     "output_type": "execute_result"
    }
   ],
   "source": [
    "# Checking null value once again\n",
    "df_pp.isnull().sum()"
   ]
  },
  {
   "cell_type": "markdown",
   "id": "0e5317f6",
   "metadata": {},
   "source": [
    "## Filling the Missing Values"
   ]
  },
  {
   "cell_type": "markdown",
   "id": "e1d15b88",
   "metadata": {},
   "source": [
    "## a. Filling the continous column with the mean."
   ]
  },
  {
   "cell_type": "code",
   "execution_count": 20,
   "id": "0566f70a",
   "metadata": {},
   "outputs": [],
   "source": [
    "df_pp=df_pp.fillna(df_pp.mean())"
   ]
  },
  {
   "cell_type": "code",
   "execution_count": 21,
   "id": "a8c071b8",
   "metadata": {},
   "outputs": [
    {
     "data": {
      "text/plain": [
       "capacity_mw             0\n",
       "latitude                0\n",
       "longitude               0\n",
       "primary_fuel            0\n",
       "commissioning_year      0\n",
       "source                  0\n",
       "geolocation_source     19\n",
       "generation_gwh_2014     0\n",
       "generation_gwh_2015     0\n",
       "generation_gwh_2016     0\n",
       "generation_gwh_2017     0\n",
       "generation_gwh_2018     0\n",
       "dtype: int64"
      ]
     },
     "execution_count": 21,
     "metadata": {},
     "output_type": "execute_result"
    }
   ],
   "source": [
    "# check for any null values\n",
    "df_pp.isnull().sum()"
   ]
  },
  {
   "cell_type": "markdown",
   "id": "e12ada09",
   "metadata": {},
   "source": [
    "## b. Filling the remaining Column with mode"
   ]
  },
  {
   "cell_type": "code",
   "execution_count": 22,
   "id": "ef653f45",
   "metadata": {},
   "outputs": [
    {
     "data": {
      "text/plain": [
       "WRI                                     765\n",
       "Industry About                          119\n",
       "National Renewable Energy Laboratory      4\n",
       "Name: geolocation_source, dtype: int64"
      ]
     },
     "execution_count": 22,
     "metadata": {},
     "output_type": "execute_result"
    }
   ],
   "source": [
    "# value counts of geolocation source\n",
    "df_pp['geolocation_source'].value_counts()"
   ]
  },
  {
   "cell_type": "markdown",
   "id": "7a018baa",
   "metadata": {},
   "source": [
    "Obs- We can see 'WRI' is the most frequently occuring entry in the geolocation_source column, thus filling the missing values with \"WRI\""
   ]
  },
  {
   "cell_type": "code",
   "execution_count": 23,
   "id": "7451ea75",
   "metadata": {},
   "outputs": [],
   "source": [
    "df_pp['geolocation_source']=df_pp['geolocation_source'].fillna(\"WRI\")"
   ]
  },
  {
   "cell_type": "code",
   "execution_count": 24,
   "id": "4792b38b",
   "metadata": {},
   "outputs": [
    {
     "data": {
      "text/plain": [
       "capacity_mw            0\n",
       "latitude               0\n",
       "longitude              0\n",
       "primary_fuel           0\n",
       "commissioning_year     0\n",
       "source                 0\n",
       "geolocation_source     0\n",
       "generation_gwh_2014    0\n",
       "generation_gwh_2015    0\n",
       "generation_gwh_2016    0\n",
       "generation_gwh_2017    0\n",
       "generation_gwh_2018    0\n",
       "dtype: int64"
      ]
     },
     "execution_count": 24,
     "metadata": {},
     "output_type": "execute_result"
    }
   ],
   "source": [
    "# checking for null values\n",
    "df_pp.isnull().sum()"
   ]
  },
  {
   "cell_type": "markdown",
   "id": "6134f0b2",
   "metadata": {},
   "source": [
    "Obs- The data is all clean now, as none of the columns have any missing value now"
   ]
  },
  {
   "cell_type": "code",
   "execution_count": 25,
   "id": "f58501fd",
   "metadata": {},
   "outputs": [
    {
     "data": {
      "text/html": [
       "<div>\n",
       "<style scoped>\n",
       "    .dataframe tbody tr th:only-of-type {\n",
       "        vertical-align: middle;\n",
       "    }\n",
       "\n",
       "    .dataframe tbody tr th {\n",
       "        vertical-align: top;\n",
       "    }\n",
       "\n",
       "    .dataframe thead th {\n",
       "        text-align: right;\n",
       "    }\n",
       "</style>\n",
       "<table border=\"1\" class=\"dataframe\">\n",
       "  <thead>\n",
       "    <tr style=\"text-align: right;\">\n",
       "      <th></th>\n",
       "      <th>capacity_mw</th>\n",
       "      <th>latitude</th>\n",
       "      <th>longitude</th>\n",
       "      <th>commissioning_year</th>\n",
       "      <th>generation_gwh_2014</th>\n",
       "      <th>generation_gwh_2015</th>\n",
       "      <th>generation_gwh_2016</th>\n",
       "      <th>generation_gwh_2017</th>\n",
       "      <th>generation_gwh_2018</th>\n",
       "    </tr>\n",
       "  </thead>\n",
       "  <tbody>\n",
       "    <tr>\n",
       "      <th>count</th>\n",
       "      <td>907.000000</td>\n",
       "      <td>907.000000</td>\n",
       "      <td>907.000000</td>\n",
       "      <td>907.000000</td>\n",
       "      <td>907.000000</td>\n",
       "      <td>907.000000</td>\n",
       "      <td>907.000000</td>\n",
       "      <td>907.000000</td>\n",
       "      <td>907.000000</td>\n",
       "    </tr>\n",
       "    <tr>\n",
       "      <th>mean</th>\n",
       "      <td>326.223755</td>\n",
       "      <td>21.197918</td>\n",
       "      <td>77.464907</td>\n",
       "      <td>1997.091082</td>\n",
       "      <td>2431.823590</td>\n",
       "      <td>2428.226946</td>\n",
       "      <td>2467.936859</td>\n",
       "      <td>2547.759305</td>\n",
       "      <td>2600.804099</td>\n",
       "    </tr>\n",
       "    <tr>\n",
       "      <th>std</th>\n",
       "      <td>590.085456</td>\n",
       "      <td>6.079148</td>\n",
       "      <td>4.812291</td>\n",
       "      <td>13.016360</td>\n",
       "      <td>2665.338608</td>\n",
       "      <td>2859.349132</td>\n",
       "      <td>2877.890004</td>\n",
       "      <td>2921.502193</td>\n",
       "      <td>3030.808041</td>\n",
       "    </tr>\n",
       "    <tr>\n",
       "      <th>min</th>\n",
       "      <td>0.000000</td>\n",
       "      <td>8.168900</td>\n",
       "      <td>68.644700</td>\n",
       "      <td>1927.000000</td>\n",
       "      <td>0.000000</td>\n",
       "      <td>0.000000</td>\n",
       "      <td>0.000000</td>\n",
       "      <td>0.000000</td>\n",
       "      <td>0.000000</td>\n",
       "    </tr>\n",
       "    <tr>\n",
       "      <th>25%</th>\n",
       "      <td>16.725000</td>\n",
       "      <td>17.072000</td>\n",
       "      <td>74.388900</td>\n",
       "      <td>1997.091082</td>\n",
       "      <td>1211.362750</td>\n",
       "      <td>916.000000</td>\n",
       "      <td>896.500214</td>\n",
       "      <td>882.594850</td>\n",
       "      <td>824.842340</td>\n",
       "    </tr>\n",
       "    <tr>\n",
       "      <th>50%</th>\n",
       "      <td>59.200000</td>\n",
       "      <td>21.281800</td>\n",
       "      <td>76.979200</td>\n",
       "      <td>1997.091082</td>\n",
       "      <td>2431.823590</td>\n",
       "      <td>2428.226946</td>\n",
       "      <td>2467.936859</td>\n",
       "      <td>2547.759305</td>\n",
       "      <td>2600.804099</td>\n",
       "    </tr>\n",
       "    <tr>\n",
       "      <th>75%</th>\n",
       "      <td>385.250000</td>\n",
       "      <td>25.176450</td>\n",
       "      <td>79.206100</td>\n",
       "      <td>2003.000000</td>\n",
       "      <td>2431.823590</td>\n",
       "      <td>2428.226946</td>\n",
       "      <td>2467.936859</td>\n",
       "      <td>2547.759305</td>\n",
       "      <td>2600.804099</td>\n",
       "    </tr>\n",
       "    <tr>\n",
       "      <th>max</th>\n",
       "      <td>4760.000000</td>\n",
       "      <td>34.649000</td>\n",
       "      <td>95.408000</td>\n",
       "      <td>2018.000000</td>\n",
       "      <td>28127.000000</td>\n",
       "      <td>30539.000000</td>\n",
       "      <td>30015.000000</td>\n",
       "      <td>35116.000000</td>\n",
       "      <td>35136.000000</td>\n",
       "    </tr>\n",
       "  </tbody>\n",
       "</table>\n",
       "</div>"
      ],
      "text/plain": [
       "       capacity_mw    latitude   longitude  commissioning_year  \\\n",
       "count   907.000000  907.000000  907.000000          907.000000   \n",
       "mean    326.223755   21.197918   77.464907         1997.091082   \n",
       "std     590.085456    6.079148    4.812291           13.016360   \n",
       "min       0.000000    8.168900   68.644700         1927.000000   \n",
       "25%      16.725000   17.072000   74.388900         1997.091082   \n",
       "50%      59.200000   21.281800   76.979200         1997.091082   \n",
       "75%     385.250000   25.176450   79.206100         2003.000000   \n",
       "max    4760.000000   34.649000   95.408000         2018.000000   \n",
       "\n",
       "       generation_gwh_2014  generation_gwh_2015  generation_gwh_2016  \\\n",
       "count           907.000000           907.000000           907.000000   \n",
       "mean           2431.823590          2428.226946          2467.936859   \n",
       "std            2665.338608          2859.349132          2877.890004   \n",
       "min               0.000000             0.000000             0.000000   \n",
       "25%            1211.362750           916.000000           896.500214   \n",
       "50%            2431.823590          2428.226946          2467.936859   \n",
       "75%            2431.823590          2428.226946          2467.936859   \n",
       "max           28127.000000         30539.000000         30015.000000   \n",
       "\n",
       "       generation_gwh_2017  generation_gwh_2018  \n",
       "count           907.000000           907.000000  \n",
       "mean           2547.759305          2600.804099  \n",
       "std            2921.502193          3030.808041  \n",
       "min               0.000000             0.000000  \n",
       "25%             882.594850           824.842340  \n",
       "50%            2547.759305          2600.804099  \n",
       "75%            2547.759305          2600.804099  \n",
       "max           35116.000000         35136.000000  "
      ]
     },
     "execution_count": 25,
     "metadata": {},
     "output_type": "execute_result"
    }
   ],
   "source": [
    "#Checking description of dataset\n",
    "df_pp.describe()"
   ]
  },
  {
   "cell_type": "code",
   "execution_count": 26,
   "id": "30d33bff",
   "metadata": {},
   "outputs": [
    {
     "data": {
      "text/plain": [
       "<AxesSubplot:>"
      ]
     },
     "execution_count": 26,
     "metadata": {},
     "output_type": "execute_result"
    },
    {
     "data": {
      "image/png": "[encoded data removed]",
      "text/plain": [
       "<Figure size 1080x504 with 2 Axes>"
      ]
     },
     "metadata": {
      "needs_background": "light"
     },
     "output_type": "display_data"
    }
   ],
   "source": [
    "# Visualizing the statistics of the columns using heatmap.\n",
    "plt.figure(figsize=(15,7))\n",
    "sns.heatmap(df_pp.describe(),linewidths = 0.1,fmt='0.2f',annot = True)"
   ]
  },
  {
   "cell_type": "markdown",
   "id": "d67bffb4",
   "metadata": {},
   "source": [
    "Obs- \n",
    "* The mean in columns 'capacity_mw','longitude' is greater tham median and thus we can say right skewness is present in these columns.\n",
    "* The mean in column 'latitude' is lower than median, and thus we can say left skewness is present in these columns\n",
    "* The mean and median of other columns are equal, and thus we can say they are normally distributed.\n",
    "* The max of all the columns is exceptionally high than median, and thus we can say outliers are present in all the columns\n",
    "    "
   ]
  },
  {
   "cell_type": "code",
   "execution_count": 27,
   "id": "e164f065",
   "metadata": {},
   "outputs": [],
   "source": [
    " #'capacity_mw','latitude','longitude','commisioning_year','generation_gwh_2014',"
   ]
  },
  {
   "cell_type": "markdown",
   "id": "7adafd13",
   "metadata": {},
   "source": [
    "## Visualization"
   ]
  },
  {
   "cell_type": "markdown",
   "id": "d57f40b6",
   "metadata": {},
   "source": [
    "### Univariate Analysis"
   ]
  },
  {
   "cell_type": "code",
   "execution_count": 28,
   "id": "560fe67a",
   "metadata": {},
   "outputs": [
    {
     "data": {
      "text/plain": [
       "capacity_mw            361\n",
       "latitude               837\n",
       "longitude              828\n",
       "primary_fuel             8\n",
       "commissioning_year      74\n",
       "source                 191\n",
       "geolocation_source       3\n",
       "generation_gwh_2014    372\n",
       "generation_gwh_2015    397\n",
       "generation_gwh_2016    404\n",
       "generation_gwh_2017    409\n",
       "generation_gwh_2018    411\n",
       "dtype: int64"
      ]
     },
     "execution_count": 28,
     "metadata": {},
     "output_type": "execute_result"
    }
   ],
   "source": [
    "df_pp.nunique()"
   ]
  },
  {
   "cell_type": "code",
   "execution_count": 29,
   "id": "a7b84c60",
   "metadata": {},
   "outputs": [
    {
     "data": {
      "text/plain": [
       "<AxesSubplot:xlabel='capacity_mw', ylabel='Count'>"
      ]
     },
     "execution_count": 29,
     "metadata": {},
     "output_type": "execute_result"
    },
    {
     "data": {
      "image/png": "[encoded data removed]",
      "text/plain": [
       "<Figure size 432x288 with 1 Axes>"
      ]
     },
     "metadata": {
      "needs_background": "light"
     },
     "output_type": "display_data"
    }
   ],
   "source": [
    "# Histogram to check capacities of various power plants\n",
    "sns.histplot(data=df_pp['capacity_mw'],bins=10)"
   ]
  },
  {
   "cell_type": "markdown",
   "id": "dd6ce5b0",
   "metadata": {},
   "source": [
    "Obs- We can see nearly 700 power plants generate capacity in range of 0-500 mw, a roughly 100 power plants generate capacity in range 500-100 mw and there are  very few that produce capacity greater than 2000 and as high as 4000"
   ]
  },
  {
   "cell_type": "code",
   "execution_count": 30,
   "id": "ca53ad16",
   "metadata": {},
   "outputs": [
    {
     "name": "stdout",
     "output_type": "stream",
     "text": [
      "Coal       258\n",
      "Hydro      251\n",
      "Solar      127\n",
      "Wind       123\n",
      "Gas         69\n",
      "Biomass     50\n",
      "Oil         20\n",
      "Nuclear      9\n",
      "Name: primary_fuel, dtype: int64\n"
     ]
    },
    {
     "data": {
      "text/plain": [
       "<AxesSubplot:xlabel='primary_fuel', ylabel='count'>"
      ]
     },
     "execution_count": 30,
     "metadata": {},
     "output_type": "execute_result"
    },
    {
     "data": {
      "image/png": "[encoded data removed]",
      "text/plain": [
       "<Figure size 432x288 with 1 Axes>"
      ]
     },
     "metadata": {
      "needs_background": "light"
     },
     "output_type": "display_data"
    }
   ],
   "source": [
    "# Count plot to check individual value counts of type of Primary Fuel\n",
    "print(df_pp['primary_fuel'].value_counts())\n",
    "\n",
    "sns.countplot(df_pp['primary_fuel'])"
   ]
  },
  {
   "cell_type": "markdown",
   "id": "b1f4c042",
   "metadata": {},
   "source": [
    "Obs- There are a total of 8 types of Primary_Fuel, of which Coal is used by maximum power plants for electricity generation, followed by Hydro, Solar and least used id Nuclear"
   ]
  },
  {
   "cell_type": "code",
   "execution_count": 31,
   "id": "7d008a02",
   "metadata": {},
   "outputs": [
    {
     "data": {
      "text/plain": [
       "<AxesSubplot:xlabel='commissioning_year', ylabel='Count'>"
      ]
     },
     "execution_count": 31,
     "metadata": {},
     "output_type": "execute_result"
    },
    {
     "data": {
      "image/png": "[encoded data removed]",
      "text/plain": [
       "<Figure size 432x288 with 1 Axes>"
      ]
     },
     "metadata": {
      "needs_background": "light"
     },
     "output_type": "display_data"
    }
   ],
   "source": [
    "# Histogram to check power plants commencing years count\n",
    "sns.histplot(data=df_pp['commissioning_year'],bins=10)"
   ]
  },
  {
   "cell_type": "markdown",
   "id": "990abbb3",
   "metadata": {},
   "source": [
    "Obs- We can see a huge number of Power plants were commenced in years from 1990-2000(nearly 500), the next highest was from 2010-2020 where nearly 200 power plants were installed"
   ]
  },
  {
   "cell_type": "code",
   "execution_count": 32,
   "id": "7bd27c3c",
   "metadata": {},
   "outputs": [
    {
     "name": "stdout",
     "output_type": "stream",
     "text": [
      "WRI                                     784\n",
      "Industry About                          119\n",
      "National Renewable Energy Laboratory      4\n",
      "Name: geolocation_source, dtype: int64\n"
     ]
    },
    {
     "data": {
      "image/png": "[encoded data removed]",
      "text/plain": [
       "<Figure size 432x288 with 1 Axes>"
      ]
     },
     "metadata": {
      "needs_background": "light"
     },
     "output_type": "display_data"
    }
   ],
   "source": [
    "# Count plot to check individual value counts of geolocation_source\n",
    "print(df_pp['geolocation_source'].value_counts())\n",
    "\n",
    "sns.countplot(df_pp['geolocation_source'])\n",
    "plt.xticks(rotation=45)\n",
    "plt.show()"
   ]
  },
  {
   "cell_type": "markdown",
   "id": "edf5c5a2",
   "metadata": {},
   "source": [
    "Obs- We can see the Geo-location source selected for most of the power plants is 'WRI', followed by 'Insustry About' and a very few of them have the source as 'National Renewable Energy Laboratory'"
   ]
  },
  {
   "cell_type": "code",
   "execution_count": 33,
   "id": "e04ff54c",
   "metadata": {},
   "outputs": [
    {
     "data": {
      "image/png": "[encoded data removed]",
      "text/plain": [
       "<Figure size 1008x720 with 5 Axes>"
      ]
     },
     "metadata": {},
     "output_type": "display_data"
    }
   ],
   "source": [
    "# Histogram to check electricity generation units in megawatt-hertz in years 2014-2018\n",
    "plt.figure(figsize=(14,10),facecolor='white')\n",
    "plotnum=1\n",
    "gcols=['generation_gwh_2014','generation_gwh_2015','generation_gwh_2016','generation_gwh_2017','generation_gwh_2018']\n",
    "for col in gcols:\n",
    "    if plotnum<=6:\n",
    "        plt.subplot(2,3,plotnum)\n",
    "        sns.histplot(data=df_pp[col],bins=10)\n",
    "    plotnum+=1\n",
    "plt.tight_layout()"
   ]
  },
  {
   "cell_type": "markdown",
   "id": "84e7fe35",
   "metadata": {},
   "source": [
    "Obs- \n",
    "* A similar trend of generating electricity in range of 2500 gwh is seen in all years by around 800 power plants.\n",
    "* The max units in year 2014 is nearly equal to 20000 gwh. The max units in year 2015 is nearly 30000 gwh, for year 2016 its is 30000 gwh, for year 2017 its is nearly 25000 gwh and for year 2018 it is again nearly 25000 mwh"
   ]
  },
  {
   "cell_type": "code",
   "execution_count": 34,
   "id": "4c5cf49e",
   "metadata": {},
   "outputs": [],
   "source": [
    "# Distribution plot to check skewness in the features"
   ]
  },
  {
   "cell_type": "code",
   "execution_count": 35,
   "id": "d01745e7",
   "metadata": {},
   "outputs": [
    {
     "data": {
      "image/png": "[encoded data removed]",
      "text/plain": [
       "<Figure size 1440x1440 with 9 Axes>"
      ]
     },
     "metadata": {
      "needs_background": "light"
     },
     "output_type": "display_data"
    }
   ],
   "source": [
    "plt.figure(figsize=(20,20))\n",
    "plotnumber=1\n",
    "\n",
    "col=['capacity_mw','latitude','longitude','commissioning_year','generation_gwh_2014','generation_gwh_2015','generation_gwh_2016','generation_gwh_2017','generation_gwh_2018']\n",
    "     \n",
    "for column in col:\n",
    "    if plotnumber<=9: #as there are 9 continuous columns \n",
    "        ax=plt.subplot(3,3,plotnumber)\n",
    "        sns.distplot(df_pp[column])\n",
    "        plt.xlabel(column,fontsize=25)\n",
    "    plotnumber +=1\n",
    "plt.show()"
   ]
  },
  {
   "cell_type": "markdown",
   "id": "87965345",
   "metadata": {},
   "source": [
    "Obs- We can see right skewness in columns: 'capacity_mw','longitude'. Left skewness in column 'latitude' and almost normal distribution in all other columns\n",
    "    "
   ]
  },
  {
   "cell_type": "code",
   "execution_count": 36,
   "id": "4aaae493",
   "metadata": {},
   "outputs": [],
   "source": [
    "#box plot to check outliers"
   ]
  },
  {
   "cell_type": "code",
   "execution_count": 37,
   "id": "83f740c6",
   "metadata": {},
   "outputs": [
    {
     "data": {
      "image/png": "[encoded data removed]",
      "text/plain": [
       "<Figure size 2160x2160 with 20 Axes>"
      ]
     },
     "metadata": {
      "needs_background": "light"
     },
     "output_type": "display_data"
    }
   ],
   "source": [
    "df_pp.plot(kind='box',subplots=True,layout=(5,4),figsize=(30,30))\n",
    "plt.show()"
   ]
  },
  {
   "cell_type": "markdown",
   "id": "25038e7e",
   "metadata": {},
   "source": [
    "Obs- We can see a great number of outliers are present in all columns"
   ]
  },
  {
   "cell_type": "markdown",
   "id": "80e59e4b",
   "metadata": {},
   "source": [
    "### Bivariate and Multivariate Visualization"
   ]
  },
  {
   "cell_type": "code",
   "execution_count": 38,
   "id": "5dde7369",
   "metadata": {
    "scrolled": false
   },
   "outputs": [
    {
     "data": {
      "text/plain": [
       "<AxesSubplot:xlabel='primary_fuel', ylabel='capacity_mw'>"
      ]
     },
     "execution_count": 38,
     "metadata": {},
     "output_type": "execute_result"
    },
    {
     "data": {
      "image/png": "[encoded data removed]",
      "text/plain": [
       "<Figure size 648x432 with 1 Axes>"
      ]
     },
     "metadata": {
      "needs_background": "light"
     },
     "output_type": "display_data"
    }
   ],
   "source": [
    "# Bar plot to check capacity_mw generated by different primary_fuels\n",
    "plt.figure(figsize=(9,6))\n",
    "sns.barplot(x=\"primary_fuel\", data=df_pp,y='capacity_mw')"
   ]
  },
  {
   "cell_type": "markdown",
   "id": "0f3fee80",
   "metadata": {},
   "source": [
    "Obs- We can see max capacity in mw generated by power plants that use primary_fuel as 'Nuclear', next higher capcity is generated by those that use 'coal', followed by 'Gas','Hydro','Oil','Wind','Solar' \n",
    "\n",
    "The least capacity is generated by those that use primary fuel as 'Biomass'"
   ]
  },
  {
   "cell_type": "code",
   "execution_count": 39,
   "id": "f05f9d39",
   "metadata": {},
   "outputs": [
    {
     "data": {
      "text/plain": [
       "<AxesSubplot:xlabel='geolocation_source', ylabel='capacity_mw'>"
      ]
     },
     "execution_count": 39,
     "metadata": {},
     "output_type": "execute_result"
    },
    {
     "data": {
      "image/png": "[encoded data removed]",
      "text/plain": [
       "<Figure size 648x432 with 1 Axes>"
      ]
     },
     "metadata": {
      "needs_background": "light"
     },
     "output_type": "display_data"
    }
   ],
   "source": [
    "# Bar plot to check capacity_mw generated by power plants of different geolocation_source\n",
    "plt.figure(figsize=(9,6))\n",
    "sns.barplot(x=\"geolocation_source\", data=df_pp,y='capacity_mw')"
   ]
  },
  {
   "cell_type": "markdown",
   "id": "4aa88edd",
   "metadata": {},
   "source": [
    "Obs- We can see 'WRI' geolocation_source since have high numbers, helps in generating maximum capacity_mw, i.e more than 350 mw, while power plants at 'National Renewable Energy Laboratory'  genertes around 75 mw and the least is produced by power plants at 'Industry About' which produce capacity even less than 25 mw "
   ]
  },
  {
   "cell_type": "code",
   "execution_count": 40,
   "id": "33f33161",
   "metadata": {},
   "outputs": [
    {
     "data": {
      "text/plain": [
       "<AxesSubplot:xlabel='primary_fuel', ylabel='count'>"
      ]
     },
     "execution_count": 40,
     "metadata": {},
     "output_type": "execute_result"
    },
    {
     "data": {
      "image/png": "[encoded data removed]",
      "text/plain": [
       "<Figure size 576x360 with 1 Axes>"
      ]
     },
     "metadata": {
      "needs_background": "light"
     },
     "output_type": "display_data"
    }
   ],
   "source": [
    "# Count plot to check in which geolocation source, what primary fuel is used\n",
    "plt.figure(figsize=(8,5))\n",
    "sns.countplot(x=\"primary_fuel\", data=df_pp,hue='geolocation_source')"
   ]
  },
  {
   "cell_type": "markdown",
   "id": "4beb8c0f",
   "metadata": {},
   "source": [
    "Obs- We can see that power plant that use Solar as their primary fuel have their geo-location source as 'Industry About','WRI'and 'National Renewable Energy Laboratory', while all others that use other primary_fuels have 'WRI' as their geolaocation"
   ]
  },
  {
   "cell_type": "code",
   "execution_count": 41,
   "id": "643fa637",
   "metadata": {},
   "outputs": [
    {
     "data": {
      "image/png": "[encoded data removed]",
      "text/plain": [
       "<Figure size 576x360 with 1 Axes>"
      ]
     },
     "metadata": {
      "needs_background": "light"
     },
     "output_type": "display_data"
    }
   ],
   "source": [
    "# Bar plot to check gigawatt-hertz generated by various primary fuels in year 2014\n",
    "plt.figure(figsize=(8,5))\n",
    "sns.barplot(x=\"primary_fuel\", data=df_pp,y='generation_gwh_2014')\n",
    "plt.show()"
   ]
  },
  {
   "cell_type": "markdown",
   "id": "5cb677cf",
   "metadata": {},
   "source": [
    "Obs- We can see the power plants that use primary_fuel as 'Nuclear' produce higher units of gwh. Next higher gwh is generated by those that use 'coal'. followed by 'Solar','Wind','Biomass','Hydro','Oil' and least by 'Gas '\n",
    "\n",
    "The similar pattern is observed for all the other years, so not including their charts"
   ]
  },
  {
   "cell_type": "markdown",
   "id": "fe487f27",
   "metadata": {},
   "source": [
    "## Encoding Categorical Data"
   ]
  },
  {
   "cell_type": "code",
   "execution_count": 42,
   "id": "22bcc5ca",
   "metadata": {},
   "outputs": [
    {
     "data": {
      "text/html": [
       "<div>\n",
       "<style scoped>\n",
       "    .dataframe tbody tr th:only-of-type {\n",
       "        vertical-align: middle;\n",
       "    }\n",
       "\n",
       "    .dataframe tbody tr th {\n",
       "        vertical-align: top;\n",
       "    }\n",
       "\n",
       "    .dataframe thead th {\n",
       "        text-align: right;\n",
       "    }\n",
       "</style>\n",
       "<table border=\"1\" class=\"dataframe\">\n",
       "  <thead>\n",
       "    <tr style=\"text-align: right;\">\n",
       "      <th></th>\n",
       "      <th>capacity_mw</th>\n",
       "      <th>latitude</th>\n",
       "      <th>longitude</th>\n",
       "      <th>primary_fuel</th>\n",
       "      <th>commissioning_year</th>\n",
       "      <th>source</th>\n",
       "      <th>geolocation_source</th>\n",
       "      <th>generation_gwh_2014</th>\n",
       "      <th>generation_gwh_2015</th>\n",
       "      <th>generation_gwh_2016</th>\n",
       "      <th>generation_gwh_2017</th>\n",
       "      <th>generation_gwh_2018</th>\n",
       "    </tr>\n",
       "  </thead>\n",
       "  <tbody>\n",
       "    <tr>\n",
       "      <th>0</th>\n",
       "      <td>2.5</td>\n",
       "      <td>28.1839</td>\n",
       "      <td>73.2407</td>\n",
       "      <td>6</td>\n",
       "      <td>2011.000000</td>\n",
       "      <td>109</td>\n",
       "      <td>1</td>\n",
       "      <td>2431.823590</td>\n",
       "      <td>2428.226946</td>\n",
       "      <td>2467.936859</td>\n",
       "      <td>2547.759305</td>\n",
       "      <td>2600.804099</td>\n",
       "    </tr>\n",
       "    <tr>\n",
       "      <th>1</th>\n",
       "      <td>98.0</td>\n",
       "      <td>24.7663</td>\n",
       "      <td>74.6090</td>\n",
       "      <td>1</td>\n",
       "      <td>1997.091082</td>\n",
       "      <td>174</td>\n",
       "      <td>2</td>\n",
       "      <td>2431.823590</td>\n",
       "      <td>2428.226946</td>\n",
       "      <td>2467.936859</td>\n",
       "      <td>2547.759305</td>\n",
       "      <td>2600.804099</td>\n",
       "    </tr>\n",
       "    <tr>\n",
       "      <th>2</th>\n",
       "      <td>39.2</td>\n",
       "      <td>21.9038</td>\n",
       "      <td>69.3732</td>\n",
       "      <td>7</td>\n",
       "      <td>1997.091082</td>\n",
       "      <td>21</td>\n",
       "      <td>2</td>\n",
       "      <td>2431.823590</td>\n",
       "      <td>2428.226946</td>\n",
       "      <td>2467.936859</td>\n",
       "      <td>2547.759305</td>\n",
       "      <td>2600.804099</td>\n",
       "    </tr>\n",
       "    <tr>\n",
       "      <th>3</th>\n",
       "      <td>135.0</td>\n",
       "      <td>23.8712</td>\n",
       "      <td>91.3602</td>\n",
       "      <td>2</td>\n",
       "      <td>2004.000000</td>\n",
       "      <td>22</td>\n",
       "      <td>2</td>\n",
       "      <td>617.789264</td>\n",
       "      <td>843.747000</td>\n",
       "      <td>886.004428</td>\n",
       "      <td>663.774500</td>\n",
       "      <td>626.239128</td>\n",
       "    </tr>\n",
       "    <tr>\n",
       "      <th>4</th>\n",
       "      <td>1800.0</td>\n",
       "      <td>21.9603</td>\n",
       "      <td>82.4091</td>\n",
       "      <td>1</td>\n",
       "      <td>2015.000000</td>\n",
       "      <td>22</td>\n",
       "      <td>2</td>\n",
       "      <td>3035.550000</td>\n",
       "      <td>5916.370000</td>\n",
       "      <td>6243.000000</td>\n",
       "      <td>5385.579736</td>\n",
       "      <td>7279.000000</td>\n",
       "    </tr>\n",
       "  </tbody>\n",
       "</table>\n",
       "</div>"
      ],
      "text/plain": [
       "   capacity_mw  latitude  longitude  primary_fuel  commissioning_year  source  \\\n",
       "0          2.5   28.1839    73.2407             6         2011.000000     109   \n",
       "1         98.0   24.7663    74.6090             1         1997.091082     174   \n",
       "2         39.2   21.9038    69.3732             7         1997.091082      21   \n",
       "3        135.0   23.8712    91.3602             2         2004.000000      22   \n",
       "4       1800.0   21.9603    82.4091             1         2015.000000      22   \n",
       "\n",
       "   geolocation_source  generation_gwh_2014  generation_gwh_2015  \\\n",
       "0                   1          2431.823590          2428.226946   \n",
       "1                   2          2431.823590          2428.226946   \n",
       "2                   2          2431.823590          2428.226946   \n",
       "3                   2           617.789264           843.747000   \n",
       "4                   2          3035.550000          5916.370000   \n",
       "\n",
       "   generation_gwh_2016  generation_gwh_2017  generation_gwh_2018  \n",
       "0          2467.936859          2547.759305          2600.804099  \n",
       "1          2467.936859          2547.759305          2600.804099  \n",
       "2          2467.936859          2547.759305          2600.804099  \n",
       "3           886.004428           663.774500           626.239128  \n",
       "4          6243.000000          5385.579736          7279.000000  "
      ]
     },
     "execution_count": 42,
     "metadata": {},
     "output_type": "execute_result"
    }
   ],
   "source": [
    "from sklearn.preprocessing import LabelEncoder\n",
    "\n",
    "le=LabelEncoder()\n",
    "df_pp['primary_fuel']=le.fit_transform(df_pp['primary_fuel'])\n",
    "df_pp['source']=le.fit_transform(df_pp['source'])\n",
    "df_pp['geolocation_source']=le.fit_transform(df_pp['geolocation_source'])\n",
    "df_pp.head()"
   ]
  },
  {
   "cell_type": "markdown",
   "id": "dae16616",
   "metadata": {},
   "source": [
    "Obs- We can see all the categorical columns are been encoded by integers"
   ]
  },
  {
   "cell_type": "markdown",
   "id": "ae70228f",
   "metadata": {},
   "source": [
    "## Checking Correlation"
   ]
  },
  {
   "cell_type": "code",
   "execution_count": 43,
   "id": "edf2b7e4",
   "metadata": {},
   "outputs": [
    {
     "data": {
      "text/html": [
       "<div>\n",
       "<style scoped>\n",
       "    .dataframe tbody tr th:only-of-type {\n",
       "        vertical-align: middle;\n",
       "    }\n",
       "\n",
       "    .dataframe tbody tr th {\n",
       "        vertical-align: top;\n",
       "    }\n",
       "\n",
       "    .dataframe thead th {\n",
       "        text-align: right;\n",
       "    }\n",
       "</style>\n",
       "<table border=\"1\" class=\"dataframe\">\n",
       "  <thead>\n",
       "    <tr style=\"text-align: right;\">\n",
       "      <th></th>\n",
       "      <th>capacity_mw</th>\n",
       "      <th>latitude</th>\n",
       "      <th>longitude</th>\n",
       "      <th>primary_fuel</th>\n",
       "      <th>commissioning_year</th>\n",
       "      <th>source</th>\n",
       "      <th>geolocation_source</th>\n",
       "      <th>generation_gwh_2014</th>\n",
       "      <th>generation_gwh_2015</th>\n",
       "      <th>generation_gwh_2016</th>\n",
       "      <th>generation_gwh_2017</th>\n",
       "      <th>generation_gwh_2018</th>\n",
       "    </tr>\n",
       "  </thead>\n",
       "  <tbody>\n",
       "    <tr>\n",
       "      <th>capacity_mw</th>\n",
       "      <td>1.000000</td>\n",
       "      <td>0.050984</td>\n",
       "      <td>0.195882</td>\n",
       "      <td>-0.380395</td>\n",
       "      <td>0.274292</td>\n",
       "      <td>-2.421218e-01</td>\n",
       "      <td>2.048653e-01</td>\n",
       "      <td>6.943503e-01</td>\n",
       "      <td>7.111899e-01</td>\n",
       "      <td>7.422211e-01</td>\n",
       "      <td>7.575852e-01</td>\n",
       "      <td>7.734556e-01</td>\n",
       "    </tr>\n",
       "    <tr>\n",
       "      <th>latitude</th>\n",
       "      <td>0.050984</td>\n",
       "      <td>1.000000</td>\n",
       "      <td>0.036362</td>\n",
       "      <td>-0.010204</td>\n",
       "      <td>0.102069</td>\n",
       "      <td>5.592656e-02</td>\n",
       "      <td>-1.842751e-01</td>\n",
       "      <td>4.432124e-02</td>\n",
       "      <td>3.639795e-02</td>\n",
       "      <td>3.125609e-02</td>\n",
       "      <td>3.121240e-02</td>\n",
       "      <td>3.132625e-02</td>\n",
       "    </tr>\n",
       "    <tr>\n",
       "      <th>longitude</th>\n",
       "      <td>0.195882</td>\n",
       "      <td>0.036362</td>\n",
       "      <td>1.000000</td>\n",
       "      <td>-0.347948</td>\n",
       "      <td>0.092331</td>\n",
       "      <td>-2.393334e-01</td>\n",
       "      <td>2.523426e-01</td>\n",
       "      <td>1.147221e-02</td>\n",
       "      <td>1.881819e-02</td>\n",
       "      <td>3.920892e-02</td>\n",
       "      <td>3.967547e-02</td>\n",
       "      <td>3.777965e-02</td>\n",
       "    </tr>\n",
       "    <tr>\n",
       "      <th>primary_fuel</th>\n",
       "      <td>-0.380395</td>\n",
       "      <td>-0.010204</td>\n",
       "      <td>-0.347948</td>\n",
       "      <td>1.000000</td>\n",
       "      <td>-0.126650</td>\n",
       "      <td>5.361263e-02</td>\n",
       "      <td>-4.832168e-01</td>\n",
       "      <td>-1.247688e-01</td>\n",
       "      <td>-1.248280e-01</td>\n",
       "      <td>-1.310514e-01</td>\n",
       "      <td>-1.320034e-01</td>\n",
       "      <td>-1.369831e-01</td>\n",
       "    </tr>\n",
       "    <tr>\n",
       "      <th>commissioning_year</th>\n",
       "      <td>0.274292</td>\n",
       "      <td>0.102069</td>\n",
       "      <td>0.092331</td>\n",
       "      <td>-0.126650</td>\n",
       "      <td>1.000000</td>\n",
       "      <td>2.152776e-02</td>\n",
       "      <td>-7.843657e-03</td>\n",
       "      <td>1.330505e-01</td>\n",
       "      <td>1.473376e-01</td>\n",
       "      <td>1.706440e-01</td>\n",
       "      <td>1.708631e-01</td>\n",
       "      <td>1.743766e-01</td>\n",
       "    </tr>\n",
       "    <tr>\n",
       "      <th>source</th>\n",
       "      <td>-0.242122</td>\n",
       "      <td>0.055927</td>\n",
       "      <td>-0.239333</td>\n",
       "      <td>0.053613</td>\n",
       "      <td>0.021528</td>\n",
       "      <td>1.000000e+00</td>\n",
       "      <td>-5.057202e-01</td>\n",
       "      <td>1.917854e-18</td>\n",
       "      <td>-2.160931e-17</td>\n",
       "      <td>-4.925637e-17</td>\n",
       "      <td>-1.284552e-16</td>\n",
       "      <td>1.092118e-17</td>\n",
       "    </tr>\n",
       "    <tr>\n",
       "      <th>geolocation_source</th>\n",
       "      <td>0.204865</td>\n",
       "      <td>-0.184275</td>\n",
       "      <td>0.252343</td>\n",
       "      <td>-0.483217</td>\n",
       "      <td>-0.007844</td>\n",
       "      <td>-5.057202e-01</td>\n",
       "      <td>1.000000e+00</td>\n",
       "      <td>-2.966463e-17</td>\n",
       "      <td>-6.339264e-18</td>\n",
       "      <td>2.904016e-17</td>\n",
       "      <td>8.066490e-17</td>\n",
       "      <td>-1.048582e-17</td>\n",
       "    </tr>\n",
       "    <tr>\n",
       "      <th>generation_gwh_2014</th>\n",
       "      <td>0.694350</td>\n",
       "      <td>0.044321</td>\n",
       "      <td>0.011472</td>\n",
       "      <td>-0.124769</td>\n",
       "      <td>0.133051</td>\n",
       "      <td>1.917854e-18</td>\n",
       "      <td>-2.966463e-17</td>\n",
       "      <td>1.000000e+00</td>\n",
       "      <td>9.535943e-01</td>\n",
       "      <td>9.258738e-01</td>\n",
       "      <td>8.916868e-01</td>\n",
       "      <td>8.849556e-01</td>\n",
       "    </tr>\n",
       "    <tr>\n",
       "      <th>generation_gwh_2015</th>\n",
       "      <td>0.711190</td>\n",
       "      <td>0.036398</td>\n",
       "      <td>0.018818</td>\n",
       "      <td>-0.124828</td>\n",
       "      <td>0.147338</td>\n",
       "      <td>-2.160931e-17</td>\n",
       "      <td>-6.339264e-18</td>\n",
       "      <td>9.535943e-01</td>\n",
       "      <td>1.000000e+00</td>\n",
       "      <td>9.688877e-01</td>\n",
       "      <td>9.282425e-01</td>\n",
       "      <td>9.234611e-01</td>\n",
       "    </tr>\n",
       "    <tr>\n",
       "      <th>generation_gwh_2016</th>\n",
       "      <td>0.742221</td>\n",
       "      <td>0.031256</td>\n",
       "      <td>0.039209</td>\n",
       "      <td>-0.131051</td>\n",
       "      <td>0.170644</td>\n",
       "      <td>-4.925637e-17</td>\n",
       "      <td>2.904016e-17</td>\n",
       "      <td>9.258738e-01</td>\n",
       "      <td>9.688877e-01</td>\n",
       "      <td>1.000000e+00</td>\n",
       "      <td>9.646488e-01</td>\n",
       "      <td>9.571589e-01</td>\n",
       "    </tr>\n",
       "    <tr>\n",
       "      <th>generation_gwh_2017</th>\n",
       "      <td>0.757585</td>\n",
       "      <td>0.031212</td>\n",
       "      <td>0.039675</td>\n",
       "      <td>-0.132003</td>\n",
       "      <td>0.170863</td>\n",
       "      <td>-1.284552e-16</td>\n",
       "      <td>8.066490e-17</td>\n",
       "      <td>8.916868e-01</td>\n",
       "      <td>9.282425e-01</td>\n",
       "      <td>9.646488e-01</td>\n",
       "      <td>1.000000e+00</td>\n",
       "      <td>9.826888e-01</td>\n",
       "    </tr>\n",
       "    <tr>\n",
       "      <th>generation_gwh_2018</th>\n",
       "      <td>0.773456</td>\n",
       "      <td>0.031326</td>\n",
       "      <td>0.037780</td>\n",
       "      <td>-0.136983</td>\n",
       "      <td>0.174377</td>\n",
       "      <td>1.092118e-17</td>\n",
       "      <td>-1.048582e-17</td>\n",
       "      <td>8.849556e-01</td>\n",
       "      <td>9.234611e-01</td>\n",
       "      <td>9.571589e-01</td>\n",
       "      <td>9.826888e-01</td>\n",
       "      <td>1.000000e+00</td>\n",
       "    </tr>\n",
       "  </tbody>\n",
       "</table>\n",
       "</div>"
      ],
      "text/plain": [
       "                     capacity_mw  latitude  longitude  primary_fuel  \\\n",
       "capacity_mw             1.000000  0.050984   0.195882     -0.380395   \n",
       "latitude                0.050984  1.000000   0.036362     -0.010204   \n",
       "longitude               0.195882  0.036362   1.000000     -0.347948   \n",
       "primary_fuel           -0.380395 -0.010204  -0.347948      1.000000   \n",
       "commissioning_year      0.274292  0.102069   0.092331     -0.126650   \n",
       "source                 -0.242122  0.055927  -0.239333      0.053613   \n",
       "geolocation_source      0.204865 -0.184275   0.252343     -0.483217   \n",
       "generation_gwh_2014     0.694350  0.044321   0.011472     -0.124769   \n",
       "generation_gwh_2015     0.711190  0.036398   0.018818     -0.124828   \n",
       "generation_gwh_2016     0.742221  0.031256   0.039209     -0.131051   \n",
       "generation_gwh_2017     0.757585  0.031212   0.039675     -0.132003   \n",
       "generation_gwh_2018     0.773456  0.031326   0.037780     -0.136983   \n",
       "\n",
       "                     commissioning_year        source  geolocation_source  \\\n",
       "capacity_mw                    0.274292 -2.421218e-01        2.048653e-01   \n",
       "latitude                       0.102069  5.592656e-02       -1.842751e-01   \n",
       "longitude                      0.092331 -2.393334e-01        2.523426e-01   \n",
       "primary_fuel                  -0.126650  5.361263e-02       -4.832168e-01   \n",
       "commissioning_year             1.000000  2.152776e-02       -7.843657e-03   \n",
       "source                         0.021528  1.000000e+00       -5.057202e-01   \n",
       "geolocation_source            -0.007844 -5.057202e-01        1.000000e+00   \n",
       "generation_gwh_2014            0.133051  1.917854e-18       -2.966463e-17   \n",
       "generation_gwh_2015            0.147338 -2.160931e-17       -6.339264e-18   \n",
       "generation_gwh_2016            0.170644 -4.925637e-17        2.904016e-17   \n",
       "generation_gwh_2017            0.170863 -1.284552e-16        8.066490e-17   \n",
       "generation_gwh_2018            0.174377  1.092118e-17       -1.048582e-17   \n",
       "\n",
       "                     generation_gwh_2014  generation_gwh_2015  \\\n",
       "capacity_mw                 6.943503e-01         7.111899e-01   \n",
       "latitude                    4.432124e-02         3.639795e-02   \n",
       "longitude                   1.147221e-02         1.881819e-02   \n",
       "primary_fuel               -1.247688e-01        -1.248280e-01   \n",
       "commissioning_year          1.330505e-01         1.473376e-01   \n",
       "source                      1.917854e-18        -2.160931e-17   \n",
       "geolocation_source         -2.966463e-17        -6.339264e-18   \n",
       "generation_gwh_2014         1.000000e+00         9.535943e-01   \n",
       "generation_gwh_2015         9.535943e-01         1.000000e+00   \n",
       "generation_gwh_2016         9.258738e-01         9.688877e-01   \n",
       "generation_gwh_2017         8.916868e-01         9.282425e-01   \n",
       "generation_gwh_2018         8.849556e-01         9.234611e-01   \n",
       "\n",
       "                     generation_gwh_2016  generation_gwh_2017  \\\n",
       "capacity_mw                 7.422211e-01         7.575852e-01   \n",
       "latitude                    3.125609e-02         3.121240e-02   \n",
       "longitude                   3.920892e-02         3.967547e-02   \n",
       "primary_fuel               -1.310514e-01        -1.320034e-01   \n",
       "commissioning_year          1.706440e-01         1.708631e-01   \n",
       "source                     -4.925637e-17        -1.284552e-16   \n",
       "geolocation_source          2.904016e-17         8.066490e-17   \n",
       "generation_gwh_2014         9.258738e-01         8.916868e-01   \n",
       "generation_gwh_2015         9.688877e-01         9.282425e-01   \n",
       "generation_gwh_2016         1.000000e+00         9.646488e-01   \n",
       "generation_gwh_2017         9.646488e-01         1.000000e+00   \n",
       "generation_gwh_2018         9.571589e-01         9.826888e-01   \n",
       "\n",
       "                     generation_gwh_2018  \n",
       "capacity_mw                 7.734556e-01  \n",
       "latitude                    3.132625e-02  \n",
       "longitude                   3.777965e-02  \n",
       "primary_fuel               -1.369831e-01  \n",
       "commissioning_year          1.743766e-01  \n",
       "source                      1.092118e-17  \n",
       "geolocation_source         -1.048582e-17  \n",
       "generation_gwh_2014         8.849556e-01  \n",
       "generation_gwh_2015         9.234611e-01  \n",
       "generation_gwh_2016         9.571589e-01  \n",
       "generation_gwh_2017         9.826888e-01  \n",
       "generation_gwh_2018         1.000000e+00  "
      ]
     },
     "execution_count": 43,
     "metadata": {},
     "output_type": "execute_result"
    }
   ],
   "source": [
    "df_pp.corr()"
   ]
  },
  {
   "cell_type": "code",
   "execution_count": 44,
   "id": "d57acd33",
   "metadata": {},
   "outputs": [
    {
     "data": {
      "text/plain": [
       "<AxesSubplot:>"
      ]
     },
     "execution_count": 44,
     "metadata": {},
     "output_type": "execute_result"
    },
    {
     "data": {
      "image/png": "[encoded data removed]",
      "text/plain": [
       "<Figure size 1080x1080 with 2 Axes>"
      ]
     },
     "metadata": {
      "needs_background": "light"
     },
     "output_type": "display_data"
    }
   ],
   "source": [
    "# Correlation using heatmap\n",
    "plt.figure(figsize=(15,15))\n",
    "sns.heatmap(df_pp.corr(),annot=True,fmt='0.2f')"
   ]
  },
  {
   "cell_type": "markdown",
   "id": "5958bf89",
   "metadata": {},
   "source": [
    "Obs-We can see,\n",
    "\n",
    "* highly positive correlated columns(>0.7):('capacity_mw'and 'generation_gwh_2015-2018'),('generation_gwh_2014' and all other 4 years of data)\n",
    "* positive correlated columns(>0.4):('capacity_mw'and 'generation_gwh_2014')\n",
    "* highly negative correlated columns(>-0.4):('primary_fuel' and 'geolocation_source'),('source' and 'geolocation_source')\n",
    "* negative correlated columns(>-0.2):('capacity_mw'and 'primary_fuel'),('capacity_mw'and 'source'),('longitude' and 'primary_fuel),('longitude' and 'source'),('source' and 'geolocation_source')"
   ]
  },
  {
   "cell_type": "code",
   "execution_count": 45,
   "id": "3b27aaeb",
   "metadata": {},
   "outputs": [
    {
     "data": {
      "image/png": "[encoded data removed]",
      "text/plain": [
       "<Figure size 864x648 with 1 Axes>"
      ]
     },
     "metadata": {
      "needs_background": "light"
     },
     "output_type": "display_data"
    }
   ],
   "source": [
    "# Correlation of features with Target Column 1(primary_fuel)\n",
    "plt.figure(figsize=(12,9))\n",
    "df_pp.corr()['primary_fuel'].sort_values(ascending=False).drop(['primary_fuel']).plot(kind='bar',color='r')\n",
    "plt.xlabel('Feature',fontsize=14)\n",
    "plt.ylabel('column with target names',fontsize=14)\n",
    "plt.title('correlation',fontsize=18)\n",
    "plt.show()"
   ]
  },
  {
   "cell_type": "markdown",
   "id": "51e6d17b",
   "metadata": {},
   "source": [
    "Obs- We can see that except for 'source' column, all other features are negatively correlated with 'Primary_fuel'"
   ]
  },
  {
   "cell_type": "code",
   "execution_count": 46,
   "id": "6ac27dcd",
   "metadata": {},
   "outputs": [
    {
     "data": {
      "image/png": "[encoded data removed]",
      "text/plain": [
       "<Figure size 864x648 with 1 Axes>"
      ]
     },
     "metadata": {
      "needs_background": "light"
     },
     "output_type": "display_data"
    }
   ],
   "source": [
    "# Correlation of features with Target Column 2(capacity_mw)\n",
    "plt.figure(figsize=(12,9))\n",
    "df_pp.corr()['capacity_mw'].sort_values(ascending=False).drop(['capacity_mw']).plot(kind='bar',color='c')\n",
    "plt.xlabel('Feature',fontsize=14)\n",
    "plt.ylabel('column with target names',fontsize=14)\n",
    "plt.title('correlation',fontsize=18)\n",
    "plt.show()"
   ]
  },
  {
   "cell_type": "markdown",
   "id": "c4b9bbb9",
   "metadata": {},
   "source": [
    "Obs- We can see except for 'source' and 'primary_fuel' all other columns are positively correlated with 'capacity_mw'"
   ]
  },
  {
   "cell_type": "markdown",
   "id": "e675767e",
   "metadata": {},
   "source": [
    "## Detecting Outliers and Treating them"
   ]
  },
  {
   "cell_type": "code",
   "execution_count": 47,
   "id": "d562ffcd",
   "metadata": {},
   "outputs": [
    {
     "name": "stdout",
     "output_type": "stream",
     "text": [
      "(array([ 15,  15,  15,  15,  15,  71,  80, 143, 143, 143, 143, 143, 143,\n",
      "       147, 158, 179, 183, 191, 209, 209, 209, 209, 209, 209, 222, 244,\n",
      "       299, 308, 308, 308, 308, 308, 308, 321, 323, 333, 340, 342, 345,\n",
      "       360, 363, 364, 364, 364, 364, 364, 364, 371, 375, 416, 427, 444,\n",
      "       454, 478, 482, 484, 493, 493, 493, 493, 493, 493, 494, 494, 494,\n",
      "       494, 494, 494, 499, 519, 538, 541, 546, 573, 577, 583, 592, 601,\n",
      "       621, 638, 648, 648, 648, 648, 648, 648, 657, 657, 657, 657, 657,\n",
      "       657, 661, 669, 689, 695, 695, 695, 695, 695, 695, 706, 709, 721,\n",
      "       721, 721, 721, 724, 724, 724, 724, 724, 726, 726, 726, 726, 726,\n",
      "       726, 728, 767, 786, 786, 786, 786, 786, 786, 788, 807, 808, 808,\n",
      "       808, 808, 808, 808, 818, 832, 847, 848, 870, 871, 879, 880, 880,\n",
      "       880, 880, 880, 880, 895, 900], dtype=int64), array([ 0,  8,  9, 10, 11,  5,  5,  0,  7,  8,  9, 10, 11,  0,  7,  2,  2,\n",
      "        5,  0,  7,  8,  9, 10, 11,  4,  2,  5,  0,  7,  8,  9, 10, 11,  5,\n",
      "        2,  2,  2,  4,  5,  2,  0,  0,  7,  8,  9, 10, 11,  4,  0,  2,  2,\n",
      "        4,  4,  4,  0,  4,  0,  7,  8,  9, 10, 11,  0,  7,  8,  9, 10, 11,\n",
      "        2,  2,  4,  4,  2,  4,  2,  4,  4,  4,  4,  2,  0,  7,  8,  9, 10,\n",
      "       11,  0,  7,  8,  9, 10, 11,  5,  5,  5,  0,  7,  8,  9, 10, 11,  4,\n",
      "        4,  7,  8,  9, 11,  7,  8,  9, 10, 11,  0,  7,  8,  9, 10, 11,  4,\n",
      "        0,  0,  7,  8,  9, 10, 11,  0,  4,  0,  7,  8,  9, 10, 11,  2,  5,\n",
      "        2,  4,  5,  5,  5,  0,  7,  8,  9, 10, 11,  5,  5], dtype=int64))\n"
     ]
    }
   ],
   "source": [
    "#Method 1: Z-Score\n",
    "from scipy.stats import zscore\n",
    "z=np.abs(zscore(df_pp))\n",
    "threshold=3\n",
    "print(np.where(z>3))"
   ]
  },
  {
   "cell_type": "code",
   "execution_count": 48,
   "id": "894cf19c",
   "metadata": {},
   "outputs": [],
   "source": [
    "df_pp_new=df_pp[(z<3).all(axis=1)]"
   ]
  },
  {
   "cell_type": "code",
   "execution_count": 49,
   "id": "c3427e49",
   "metadata": {},
   "outputs": [
    {
     "name": "stdout",
     "output_type": "stream",
     "text": [
      "df_pp.shape: (907, 12) \n",
      "df_pp_new.shape: (834, 12)\n"
     ]
    }
   ],
   "source": [
    "print(\"df_pp.shape:\",df_pp.shape, \"\\ndf_pp_new.shape:\",df_pp_new.shape)"
   ]
  },
  {
   "cell_type": "code",
   "execution_count": 50,
   "id": "1b0e5940",
   "metadata": {},
   "outputs": [
    {
     "data": {
      "text/plain": [
       "8.04851157662624"
      ]
     },
     "execution_count": 50,
     "metadata": {},
     "output_type": "execute_result"
    }
   ],
   "source": [
    "# Checking data loss\n",
    "data_loss=(907-834)/907*100\n",
    "data_loss"
   ]
  },
  {
   "cell_type": "code",
   "execution_count": 51,
   "id": "aa148760",
   "metadata": {},
   "outputs": [],
   "source": [
    "# Method 2: IQR(Inter Quartile) Method\n",
    "Q1=df_pp.quantile(0.25)\n",
    "Q3=df_pp.quantile(0.75)\n",
    "IQR=Q3 - Q1\n",
    "\n",
    "df_pp_new2=df_pp[~((df_pp < (Q1 - 1.5 * IQR)) |(df_pp > (Q3 + 1.5 * IQR))).any(axis=1)]"
   ]
  },
  {
   "cell_type": "code",
   "execution_count": 52,
   "id": "3b386717",
   "metadata": {},
   "outputs": [
    {
     "name": "stdout",
     "output_type": "stream",
     "text": [
      "df_pp.shape: (907, 12) \n",
      "df_pp_new2.shape: (321, 12)\n"
     ]
    }
   ],
   "source": [
    "print(\"df_pp.shape:\",df_pp.shape, \"\\ndf_pp_new2.shape:\",df_pp_new2.shape)"
   ]
  },
  {
   "cell_type": "code",
   "execution_count": 53,
   "id": "a50e8a2f",
   "metadata": {},
   "outputs": [
    {
     "data": {
      "text/plain": [
       "64.60859977949283"
      ]
     },
     "execution_count": 53,
     "metadata": {},
     "output_type": "execute_result"
    }
   ],
   "source": [
    "# Checking data loss\n",
    "data_loss2=(907-321)/907*100\n",
    "data_loss2"
   ]
  },
  {
   "cell_type": "markdown",
   "id": "968bf387",
   "metadata": {},
   "source": [
    "The data loss in IQR is huge, so will be going with z-score method"
   ]
  },
  {
   "cell_type": "code",
   "execution_count": 54,
   "id": "f414591d",
   "metadata": {},
   "outputs": [
    {
     "data": {
      "text/plain": [
       "(834, 12)"
      ]
     },
     "execution_count": 54,
     "metadata": {},
     "output_type": "execute_result"
    }
   ],
   "source": [
    "# Reassigning obtained value to original dataframe\n",
    "df_pp=df_pp_new\n",
    "df_pp.shape"
   ]
  },
  {
   "cell_type": "code",
   "execution_count": 55,
   "id": "17a62da6",
   "metadata": {},
   "outputs": [
    {
     "data": {
      "text/plain": [
       "Index(['capacity_mw', 'latitude', 'longitude', 'primary_fuel',\n",
       "       'commissioning_year', 'source', 'geolocation_source',\n",
       "       'generation_gwh_2014', 'generation_gwh_2015', 'generation_gwh_2016',\n",
       "       'generation_gwh_2017', 'generation_gwh_2018'],\n",
       "      dtype='object')"
      ]
     },
     "execution_count": 55,
     "metadata": {},
     "output_type": "execute_result"
    }
   ],
   "source": [
    "df_pp.columns"
   ]
  },
  {
   "cell_type": "code",
   "execution_count": null,
   "id": "322d09d4",
   "metadata": {},
   "outputs": [],
   "source": []
  },
  {
   "cell_type": "markdown",
   "id": "0cbfe75d",
   "metadata": {},
   "source": [
    "## (Approach 1: 'Classification Model to find \"fuel_type\")"
   ]
  },
  {
   "cell_type": "markdown",
   "id": "a8d14025",
   "metadata": {},
   "source": [
    "## Data Preprocessing\n",
    "\n",
    "## Seperating Input and Target variables"
   ]
  },
  {
   "cell_type": "code",
   "execution_count": 56,
   "id": "c65fa358",
   "metadata": {},
   "outputs": [],
   "source": [
    "x=df_pp.drop(columns='primary_fuel')\n",
    "y=df_pp['primary_fuel']"
   ]
  },
  {
   "cell_type": "code",
   "execution_count": 57,
   "id": "3cef76fa",
   "metadata": {},
   "outputs": [
    {
     "data": {
      "text/plain": [
       "(834, 11)"
      ]
     },
     "execution_count": 57,
     "metadata": {},
     "output_type": "execute_result"
    }
   ],
   "source": [
    "x.shape"
   ]
  },
  {
   "cell_type": "code",
   "execution_count": 58,
   "id": "b42cac0b",
   "metadata": {},
   "outputs": [
    {
     "data": {
      "text/plain": [
       "(834,)"
      ]
     },
     "execution_count": 58,
     "metadata": {},
     "output_type": "execute_result"
    }
   ],
   "source": [
    "y.shape"
   ]
  },
  {
   "cell_type": "markdown",
   "id": "58cefb90",
   "metadata": {},
   "source": [
    "## Data Transformation to treat Skewness"
   ]
  },
  {
   "cell_type": "markdown",
   "id": "5cba2fa4",
   "metadata": {},
   "source": [
    "### Checking Skewness"
   ]
  },
  {
   "cell_type": "code",
   "execution_count": 59,
   "id": "a945718a",
   "metadata": {},
   "outputs": [
    {
     "data": {
      "text/plain": [
       "capacity_mw            1.952694\n",
       "latitude              -0.111185\n",
       "longitude              0.911122\n",
       "commissioning_year    -0.842130\n",
       "source                 1.784584\n",
       "geolocation_source    -2.104209\n",
       "generation_gwh_2014    1.523244\n",
       "generation_gwh_2015    1.388578\n",
       "generation_gwh_2016    1.411295\n",
       "generation_gwh_2017    1.278075\n",
       "generation_gwh_2018    1.315105\n",
       "dtype: float64"
      ]
     },
     "execution_count": 59,
     "metadata": {},
     "output_type": "execute_result"
    }
   ],
   "source": [
    "x.skew()"
   ]
  },
  {
   "cell_type": "markdown",
   "id": "b933d3d7",
   "metadata": {},
   "source": [
    "Obs- We can see except for column 'latitude', skewness is present in all the columns.\n",
    "\n",
    "Applying transformation method to treat skewness"
   ]
  },
  {
   "cell_type": "markdown",
   "id": "125e2777",
   "metadata": {},
   "source": [
    "### Applying Transformation Method"
   ]
  },
  {
   "cell_type": "code",
   "execution_count": 60,
   "id": "6e382919",
   "metadata": {},
   "outputs": [],
   "source": [
    "x=pd.DataFrame(x)\n",
    "from sklearn.preprocessing import PowerTransformer\n",
    "pt = PowerTransformer() \n",
    "skew_col = ['capacity_mw', 'longitude', 'commissioning_year', 'source', 'geolocation_source','generation_gwh_2014', 'generation_gwh_2015', 'generation_gwh_2016','generation_gwh_2017', 'generation_gwh_2018']\n",
    "x[skew_col]= pt.fit_transform(x[skew_col].values)"
   ]
  },
  {
   "cell_type": "code",
   "execution_count": 61,
   "id": "3e1368db",
   "metadata": {},
   "outputs": [
    {
     "data": {
      "text/plain": [
       "capacity_mw            0.011603\n",
       "latitude              -0.111185\n",
       "longitude             -0.000409\n",
       "commissioning_year     0.027512\n",
       "source                -0.179189\n",
       "geolocation_source    -2.076068\n",
       "generation_gwh_2014   -0.249970\n",
       "generation_gwh_2015   -0.313081\n",
       "generation_gwh_2016   -0.312658\n",
       "generation_gwh_2017   -0.343453\n",
       "generation_gwh_2018   -0.356856\n",
       "dtype: float64"
      ]
     },
     "execution_count": 61,
     "metadata": {},
     "output_type": "execute_result"
    }
   ],
   "source": [
    "x.skew()"
   ]
  },
  {
   "cell_type": "markdown",
   "id": "750a437a",
   "metadata": {},
   "source": [
    "Obs-\n",
    "* We can see skewness is removed from all, except 'geolocation_source' column.\n",
    "* We tried applying other transformation techniques- \n",
    "\n",
    "    1.BoxCox(Which didn't work as the transformed data has negatives),                                                    \n",
    " 2. Sqrt Transformation(It yielded in creating NaN values im the data), \n",
    "* and therefore continuing with the current obtained results only"
   ]
  },
  {
   "cell_type": "markdown",
   "id": "c4b838ba",
   "metadata": {},
   "source": [
    "## Data Scaling"
   ]
  },
  {
   "cell_type": "code",
   "execution_count": 62,
   "id": "5c80e706",
   "metadata": {},
   "outputs": [],
   "source": [
    "from sklearn.preprocessing import StandardScaler\n",
    "st=StandardScaler()\n",
    "x_scale=st.fit_transform(x)\n",
    "x_scale=pd.DataFrame(x_scale)"
   ]
  },
  {
   "cell_type": "code",
   "execution_count": 63,
   "id": "1f4c859d",
   "metadata": {},
   "outputs": [],
   "source": [
    "x=pd.DataFrame(data=x_scale)"
   ]
  },
  {
   "cell_type": "markdown",
   "id": "8b2d101e",
   "metadata": {},
   "source": [
    "## Checking Multi-Collinearity"
   ]
  },
  {
   "cell_type": "code",
   "execution_count": 64,
   "id": "1a3c260f",
   "metadata": {},
   "outputs": [],
   "source": [
    "from statsmodels.stats.outliers_influence import variance_inflation_factor"
   ]
  },
  {
   "cell_type": "code",
   "execution_count": 65,
   "id": "d8d0aad4",
   "metadata": {},
   "outputs": [
    {
     "name": "stdout",
     "output_type": "stream",
     "text": [
      "    VIF Factor  Features\n",
      "0     1.588529         0\n",
      "1     1.085040         1\n",
      "2     1.220877         2\n",
      "3     1.177224         3\n",
      "4     1.246220         4\n",
      "5     1.573940         5\n",
      "6     4.174521         6\n",
      "7     7.984716         7\n",
      "8    11.847992         8\n",
      "9    11.525459         9\n",
      "10   12.269961        10\n"
     ]
    }
   ],
   "source": [
    "def vif_cal():\n",
    "    vif=pd.DataFrame()\n",
    "    vif['VIF Factor']=[variance_inflation_factor(x.values,i)for i in range(x.shape[1])]\n",
    "    vif['Features']=x.columns\n",
    "    print(vif)\n",
    "\n",
    "vif_cal()"
   ]
  },
  {
   "cell_type": "markdown",
   "id": "a953495c",
   "metadata": {},
   "source": [
    "Obs- \n",
    "* (Feature Denoted as: 0: 'capacity_mw' 1:'latitude', 2:'longitude', 3:'commissioning_year' , 4:'source', 5:'geolocation_source', 6:'generation_gwh_2014', 7:'generation_gwh_2015', 8: 'generation_gwh_2016',9:'generation_gwh_2017',10: 'generation_gwh_2018')\n",
    "\n",
    "* Keeping the acceptable range as below or equal 10, we observe the VIF of 'generation_gwh_2016','generation_gwh_2017','generation_gwh_2018' is high (we did see there correlation was also high)\n",
    "* Deleting the column 'generation_gwh_2018' as it has max VIF"
   ]
  },
  {
   "cell_type": "code",
   "execution_count": 66,
   "id": "8a014dd1",
   "metadata": {},
   "outputs": [],
   "source": [
    "x.drop(10, axis =1, inplace=True) # Dropping 'generation_gwh_2018' column"
   ]
  },
  {
   "cell_type": "code",
   "execution_count": 67,
   "id": "7a63cd29",
   "metadata": {},
   "outputs": [
    {
     "data": {
      "text/plain": [
       "(834, 10)"
      ]
     },
     "execution_count": 67,
     "metadata": {},
     "output_type": "execute_result"
    }
   ],
   "source": [
    "x.shape"
   ]
  },
  {
   "cell_type": "code",
   "execution_count": 68,
   "id": "5ab3b7a5",
   "metadata": {},
   "outputs": [
    {
     "name": "stdout",
     "output_type": "stream",
     "text": [
      "   VIF Factor  Features\n",
      "0    1.587235         0\n",
      "1    1.085002         1\n",
      "2    1.220162         2\n",
      "3    1.176472         3\n",
      "4    1.245848         4\n",
      "5    1.573758         5\n",
      "6    4.138558         6\n",
      "7    7.967734         7\n",
      "8   10.959415         8\n",
      "9    5.556513         9\n"
     ]
    }
   ],
   "source": [
    "# Rechecking the VIF\n",
    "vif_cal()"
   ]
  },
  {
   "cell_type": "markdown",
   "id": "619fe3f3",
   "metadata": {},
   "source": [
    "Obs- Again we can see VIF of column 8: 'generation_gwh_2016' is high, so dropping this column as well"
   ]
  },
  {
   "cell_type": "code",
   "execution_count": 69,
   "id": "69584709",
   "metadata": {},
   "outputs": [],
   "source": [
    "x.drop(8, axis =1, inplace=True) # Dropping 'generation_gwh_2016' column"
   ]
  },
  {
   "cell_type": "code",
   "execution_count": 70,
   "id": "c9cf8317",
   "metadata": {},
   "outputs": [
    {
     "data": {
      "text/plain": [
       "(834, 9)"
      ]
     },
     "execution_count": 70,
     "metadata": {},
     "output_type": "execute_result"
    }
   ],
   "source": [
    "x.shape"
   ]
  },
  {
   "cell_type": "markdown",
   "id": "3ff1d100",
   "metadata": {},
   "source": [
    "## Data Modelling(Classification Model)"
   ]
  },
  {
   "cell_type": "code",
   "execution_count": null,
   "id": "2dd4a15a",
   "metadata": {},
   "outputs": [],
   "source": [
    "#Finding Best Random State"
   ]
  },
  {
   "cell_type": "code",
   "execution_count": 87,
   "id": "e346948d",
   "metadata": {},
   "outputs": [
    {
     "name": "stdout",
     "output_type": "stream",
     "text": [
      "Best accuracy is  0.8708133971291866  on Random_state  48\n"
     ]
    }
   ],
   "source": [
    "from sklearn.tree import DecisionTreeClassifier\n",
    "from sklearn.model_selection import train_test_split\n",
    "from sklearn.metrics import accuracy_score,confusion_matrix,classification_report\n",
    "maxAccu=0\n",
    "maxRS=0\n",
    "for i in range(1,200):\n",
    "    x_train,x_test,y_train,y_test = train_test_split(x,y,test_size=.25, random_state =i)\n",
    "    dtc = DecisionTreeClassifier()\n",
    "    dtc.fit(x_train, y_train)\n",
    "    predc = dtc.predict(x_test)\n",
    "    acc=accuracy_score(y_test, predc)\n",
    "    if acc>maxAccu:\n",
    "        maxAccu=acc\n",
    "        maxRS=i\n",
    "print(\"Best accuracy is \",maxAccu,\" on Random_state \",maxRS)"
   ]
  },
  {
   "cell_type": "markdown",
   "id": "6c5a2991",
   "metadata": {},
   "source": [
    "## Splitting data into Train-Test"
   ]
  },
  {
   "cell_type": "code",
   "execution_count": 88,
   "id": "d9017f12",
   "metadata": {},
   "outputs": [],
   "source": [
    "x_train,x_test,y_train,y_test=train_test_split(x,y,test_size=0.25,random_state=48)"
   ]
  },
  {
   "cell_type": "code",
   "execution_count": 89,
   "id": "5d4eb88f",
   "metadata": {},
   "outputs": [
    {
     "data": {
      "text/plain": [
       "(625, 9)"
      ]
     },
     "execution_count": 89,
     "metadata": {},
     "output_type": "execute_result"
    }
   ],
   "source": [
    "x_train.shape"
   ]
  },
  {
   "cell_type": "code",
   "execution_count": 90,
   "id": "6ae9d46f",
   "metadata": {},
   "outputs": [
    {
     "data": {
      "text/plain": [
       "(625,)"
      ]
     },
     "execution_count": 90,
     "metadata": {},
     "output_type": "execute_result"
    }
   ],
   "source": [
    "y_train.shape"
   ]
  },
  {
   "cell_type": "code",
   "execution_count": 91,
   "id": "f6bedd8e",
   "metadata": {},
   "outputs": [
    {
     "data": {
      "text/plain": [
       "(209, 9)"
      ]
     },
     "execution_count": 91,
     "metadata": {},
     "output_type": "execute_result"
    }
   ],
   "source": [
    "x_test.shape"
   ]
  },
  {
   "cell_type": "code",
   "execution_count": 92,
   "id": "73d80808",
   "metadata": {},
   "outputs": [
    {
     "data": {
      "text/plain": [
       "(209,)"
      ]
     },
     "execution_count": 92,
     "metadata": {},
     "output_type": "execute_result"
    }
   ],
   "source": [
    "y_test.shape"
   ]
  },
  {
   "cell_type": "markdown",
   "id": "b1349b68",
   "metadata": {},
   "source": [
    "## Using various Machine Learning Algorithms"
   ]
  },
  {
   "cell_type": "code",
   "execution_count": 93,
   "id": "eb8d78de",
   "metadata": {},
   "outputs": [],
   "source": [
    "#importing necessary libraries\n",
    "from sklearn.naive_bayes import MultinomialNB\n",
    "from sklearn.tree import DecisionTreeClassifier\n",
    "from sklearn.neighbors import KNeighborsClassifier\n",
    "from sklearn.svm import SVC\n",
    "\n",
    "from sklearn.metrics import classification_report, confusion_matrix, roc_curve, roc_auc_score, accuracy_score\n",
    "\n",
    "from sklearn.ensemble import RandomForestClassifier\n",
    "from sklearn.ensemble import AdaBoostClassifier\n",
    "from sklearn.ensemble import GradientBoostingClassifier"
   ]
  },
  {
   "cell_type": "markdown",
   "id": "41d8baec",
   "metadata": {},
   "source": [
    "### 1. MultinomialNB\n",
    "(Didn't work on it as scaled values were having some negative values)"
   ]
  },
  {
   "cell_type": "markdown",
   "id": "c628d7a3",
   "metadata": {},
   "source": [
    "### 2.Decision Tree Classifier"
   ]
  },
  {
   "cell_type": "code",
   "execution_count": 96,
   "id": "d73f2eca",
   "metadata": {},
   "outputs": [
    {
     "name": "stdout",
     "output_type": "stream",
     "text": [
      "Accuracy: 0.8660287081339713\n",
      "Confusion Matrix:\n",
      " [[ 7  2  0  0  0  1  0  0]\n",
      " [ 0 44  5  2  0  1  0  0]\n",
      " [ 0  3  6  2  1  1  0  0]\n",
      " [ 0  3  1 57  0  1  0  0]\n",
      " [ 0  1  0  1  1  0  0  0]\n",
      " [ 0  1  2  0  0  2  0  0]\n",
      " [ 0  0  0  0  0  0 32  0]\n",
      " [ 0  0  0  0  0  0  0 32]]\n",
      "Classification Report:\n",
      "               precision    recall  f1-score   support\n",
      "\n",
      "           0       1.00      0.70      0.82        10\n",
      "           1       0.81      0.85      0.83        52\n",
      "           2       0.43      0.46      0.44        13\n",
      "           3       0.92      0.92      0.92        62\n",
      "           4       0.50      0.33      0.40         3\n",
      "           5       0.33      0.40      0.36         5\n",
      "           6       1.00      1.00      1.00        32\n",
      "           7       1.00      1.00      1.00        32\n",
      "\n",
      "    accuracy                           0.87       209\n",
      "   macro avg       0.75      0.71      0.72       209\n",
      "weighted avg       0.87      0.87      0.87       209\n",
      "\n"
     ]
    }
   ],
   "source": [
    "dtc=DecisionTreeClassifier()\n",
    "dtc.fit(x_train,y_train)\n",
    "preddtc=dtc.predict(x_test)\n",
    "print(\"Accuracy:\",accuracy_score(y_test,preddtc))\n",
    "print(\"Confusion Matrix:\\n\",confusion_matrix(y_test,preddtc))\n",
    "print(\"Classification Report:\\n\",classification_report(y_test,preddtc))"
   ]
  },
  {
   "cell_type": "markdown",
   "id": "6978c7ae",
   "metadata": {},
   "source": [
    "Obs- The Decision Tree Classifier has provided the accuracy-score: 0.8660287081339713"
   ]
  },
  {
   "cell_type": "markdown",
   "id": "a4b6381b",
   "metadata": {},
   "source": [
    "### 3.K Nearest Neighbor Classifier"
   ]
  },
  {
   "cell_type": "code",
   "execution_count": 97,
   "id": "1d348cc5",
   "metadata": {},
   "outputs": [
    {
     "name": "stdout",
     "output_type": "stream",
     "text": [
      "Accuracy: 0.7607655502392344\n",
      "Confusion Matrix:\n",
      " [[ 8  2  0  0  0  0  0  0]\n",
      " [ 1 46  4  1  0  0  0  0]\n",
      " [ 0  3  3  5  0  0  0  2]\n",
      " [ 0 10  4 40  0  0  0  8]\n",
      " [ 0  2  0  0  0  0  0  1]\n",
      " [ 0  0  2  3  0  0  0  0]\n",
      " [ 0  1  0  0  0  0 31  0]\n",
      " [ 0  0  0  1  0  0  0 31]]\n",
      "Classification Report:\n",
      "               precision    recall  f1-score   support\n",
      "\n",
      "           0       0.89      0.80      0.84        10\n",
      "           1       0.72      0.88      0.79        52\n",
      "           2       0.23      0.23      0.23        13\n",
      "           3       0.80      0.65      0.71        62\n",
      "           4       0.00      0.00      0.00         3\n",
      "           5       0.00      0.00      0.00         5\n",
      "           6       1.00      0.97      0.98        32\n",
      "           7       0.74      0.97      0.84        32\n",
      "\n",
      "    accuracy                           0.76       209\n",
      "   macro avg       0.55      0.56      0.55       209\n",
      "weighted avg       0.74      0.76      0.74       209\n",
      "\n"
     ]
    }
   ],
   "source": [
    "knn=KNeighborsClassifier()\n",
    "knn.fit(x_train,y_train)\n",
    "predknn=knn.predict(x_test)\n",
    "print(\"Accuracy:\",accuracy_score(y_test,predknn))\n",
    "print(\"Confusion Matrix:\\n\",confusion_matrix(y_test,predknn))\n",
    "print(\"Classification Report:\\n\",classification_report(y_test,predknn))"
   ]
  },
  {
   "cell_type": "markdown",
   "id": "bed3dea2",
   "metadata": {},
   "source": [
    "Obs- The K Nearest Neighbor Classifier has provided the accuracy-score:  0.7607655502392344"
   ]
  },
  {
   "cell_type": "markdown",
   "id": "7b2693ce",
   "metadata": {},
   "source": [
    "### 5.Support Vector Machine Classifier"
   ]
  },
  {
   "cell_type": "code",
   "execution_count": 98,
   "id": "cf8cb42e",
   "metadata": {},
   "outputs": [
    {
     "name": "stdout",
     "output_type": "stream",
     "text": [
      "Accuracy: 0.7559808612440191\n",
      "Confusion Matrix:\n",
      " [[ 5  3  0  0  0  0  0  2]\n",
      " [ 1 47  2  2  0  0  0  0]\n",
      " [ 1  3  3  4  0  0  0  2]\n",
      " [ 0 11  1 41  0  0  0  9]\n",
      " [ 0  3  0  0  0  0  0  0]\n",
      " [ 2  0  0  3  0  0  0  0]\n",
      " [ 0  2  0  0  0  0 30  0]\n",
      " [ 0  0  0  0  0  0  0 32]]\n",
      "Classification Report:\n",
      "               precision    recall  f1-score   support\n",
      "\n",
      "           0       0.56      0.50      0.53        10\n",
      "           1       0.68      0.90      0.78        52\n",
      "           2       0.50      0.23      0.32        13\n",
      "           3       0.82      0.66      0.73        62\n",
      "           4       0.00      0.00      0.00         3\n",
      "           5       0.00      0.00      0.00         5\n",
      "           6       1.00      0.94      0.97        32\n",
      "           7       0.71      1.00      0.83        32\n",
      "\n",
      "    accuracy                           0.76       209\n",
      "   macro avg       0.53      0.53      0.52       209\n",
      "weighted avg       0.73      0.76      0.73       209\n",
      "\n"
     ]
    }
   ],
   "source": [
    "svc=SVC()\n",
    "svc.fit(x_train,y_train)\n",
    "predsvc=svc.predict(x_test)\n",
    "print(\"Accuracy:\",accuracy_score(y_test,predsvc))\n",
    "print(\"Confusion Matrix:\\n\",confusion_matrix(y_test,predsvc))\n",
    "print(\"Classification Report:\\n\",classification_report(y_test,predsvc))"
   ]
  },
  {
   "cell_type": "markdown",
   "id": "f0ac01bd",
   "metadata": {},
   "source": [
    "Obs- The Support Vector Machine Classifier has provided the accuracy-score:0.7559808612440191"
   ]
  },
  {
   "cell_type": "markdown",
   "id": "30c41007",
   "metadata": {},
   "source": [
    "### 5. Ensemble Methods"
   ]
  },
  {
   "cell_type": "markdown",
   "id": "9ba43c61",
   "metadata": {},
   "source": [
    "#### 5.1 Random Forest Classifier"
   ]
  },
  {
   "cell_type": "code",
   "execution_count": 99,
   "id": "a19bdfae",
   "metadata": {},
   "outputs": [
    {
     "name": "stdout",
     "output_type": "stream",
     "text": [
      "Accuracy: 0.8516746411483254\n",
      "Confusion Matrix:\n",
      " [[ 7  3  0  0  0  0  0  0]\n",
      " [ 0 48  3  1  0  0  0  0]\n",
      " [ 0  4  5  4  0  0  0  0]\n",
      " [ 0  8  2 52  0  0  0  0]\n",
      " [ 0  3  0  0  0  0  0  0]\n",
      " [ 0  0  3  0  0  2  0  0]\n",
      " [ 0  0  0  0  0  0 32  0]\n",
      " [ 0  0  0  0  0  0  0 32]]\n",
      "Classification Report:\n",
      "               precision    recall  f1-score   support\n",
      "\n",
      "           0       1.00      0.70      0.82        10\n",
      "           1       0.73      0.92      0.81        52\n",
      "           2       0.38      0.38      0.38        13\n",
      "           3       0.91      0.84      0.87        62\n",
      "           4       0.00      0.00      0.00         3\n",
      "           5       1.00      0.40      0.57         5\n",
      "           6       1.00      1.00      1.00        32\n",
      "           7       1.00      1.00      1.00        32\n",
      "\n",
      "    accuracy                           0.85       209\n",
      "   macro avg       0.75      0.66      0.68       209\n",
      "weighted avg       0.85      0.85      0.84       209\n",
      "\n"
     ]
    }
   ],
   "source": [
    "rf=RandomForestClassifier(n_estimators=100)\n",
    "rf.fit(x_train,y_train)\n",
    "predrf=rf.predict(x_test)\n",
    "print(\"Accuracy:\",accuracy_score(y_test,predrf))\n",
    "print(\"Confusion Matrix:\\n\",confusion_matrix(y_test,predrf))\n",
    "print(\"Classification Report:\\n\",classification_report(y_test,predrf))"
   ]
  },
  {
   "cell_type": "markdown",
   "id": "764dc1cb",
   "metadata": {},
   "source": [
    "Obs- The Random Forest Classifier has provided the accuracy-score:0.8516746411483254"
   ]
  },
  {
   "cell_type": "markdown",
   "id": "5eaba32d",
   "metadata": {},
   "source": [
    "#### 5.2 Ada Boost Classifier"
   ]
  },
  {
   "cell_type": "code",
   "execution_count": 100,
   "id": "1b586d48",
   "metadata": {},
   "outputs": [
    {
     "name": "stdout",
     "output_type": "stream",
     "text": [
      "Accuracy: 0.6602870813397129\n",
      "Confusion Matrix:\n",
      " [[ 0 10  0  0  0  0  0  0]\n",
      " [ 0 14  0 37  0  0  0  1]\n",
      " [ 0  1  0 11  0  0  0  1]\n",
      " [ 0  0  0 62  0  0  0  0]\n",
      " [ 0  1  0  2  0  0  0  0]\n",
      " [ 0  2  0  3  0  0  0  0]\n",
      " [ 0  2  0  0  0  0 30  0]\n",
      " [ 0  0  0  0  0  0  0 32]]\n",
      "Classification Report:\n",
      "               precision    recall  f1-score   support\n",
      "\n",
      "           0       0.00      0.00      0.00        10\n",
      "           1       0.47      0.27      0.34        52\n",
      "           2       0.00      0.00      0.00        13\n",
      "           3       0.54      1.00      0.70        62\n",
      "           4       0.00      0.00      0.00         3\n",
      "           5       0.00      0.00      0.00         5\n",
      "           6       1.00      0.94      0.97        32\n",
      "           7       0.94      1.00      0.97        32\n",
      "\n",
      "    accuracy                           0.66       209\n",
      "   macro avg       0.37      0.40      0.37       209\n",
      "weighted avg       0.57      0.66      0.59       209\n",
      "\n"
     ]
    }
   ],
   "source": [
    "ad=AdaBoostClassifier(n_estimators=50,learning_rate=1.0)\n",
    "ad.fit(x_train,y_train)\n",
    "predad=ad.predict(x_test)\n",
    "print(\"Accuracy:\",accuracy_score(y_test,predad))\n",
    "print(\"Confusion Matrix:\\n\",confusion_matrix(y_test,predad))\n",
    "print(\"Classification Report:\\n\",classification_report(y_test,predad))"
   ]
  },
  {
   "cell_type": "markdown",
   "id": "fc18107a",
   "metadata": {},
   "source": [
    "Obs- The Ada Boost Classifier has provided the accuracy-score: 0.6602870813397129"
   ]
  },
  {
   "cell_type": "markdown",
   "id": "ae7f2931",
   "metadata": {},
   "source": [
    "#### 5.3 Gradient Boosting Classifier"
   ]
  },
  {
   "cell_type": "code",
   "execution_count": 101,
   "id": "095c8541",
   "metadata": {},
   "outputs": [
    {
     "name": "stdout",
     "output_type": "stream",
     "text": [
      "Accuracy: 0.8564593301435407\n",
      "Confusion Matrix:\n",
      " [[ 7  3  0  0  0  0  0  0]\n",
      " [ 0 44  5  1  2  0  0  0]\n",
      " [ 0  3  7  2  0  1  0  0]\n",
      " [ 0  6  2 54  0  0  0  0]\n",
      " [ 0  2  0  0  1  0  0  0]\n",
      " [ 0  1  2  0  0  2  0  0]\n",
      " [ 0  0  0  0  0  0 32  0]\n",
      " [ 0  0  0  0  0  0  0 32]]\n",
      "Classification Report:\n",
      "               precision    recall  f1-score   support\n",
      "\n",
      "           0       1.00      0.70      0.82        10\n",
      "           1       0.75      0.85      0.79        52\n",
      "           2       0.44      0.54      0.48        13\n",
      "           3       0.95      0.87      0.91        62\n",
      "           4       0.33      0.33      0.33         3\n",
      "           5       0.67      0.40      0.50         5\n",
      "           6       1.00      1.00      1.00        32\n",
      "           7       1.00      1.00      1.00        32\n",
      "\n",
      "    accuracy                           0.86       209\n",
      "   macro avg       0.77      0.71      0.73       209\n",
      "weighted avg       0.87      0.86      0.86       209\n",
      "\n"
     ]
    }
   ],
   "source": [
    "gb=GradientBoostingClassifier()\n",
    "gb.fit(x_train,y_train)\n",
    "predgb=gb.predict(x_test)\n",
    "print(\"Accuracy:\",accuracy_score(y_test,predgb))\n",
    "print(\"Confusion Matrix:\\n\",confusion_matrix(y_test,predgb))\n",
    "print(\"Classification Report:\\n\",classification_report(y_test,predgb))"
   ]
  },
  {
   "cell_type": "markdown",
   "id": "3f8579ba",
   "metadata": {},
   "source": [
    "Obs- The Gradient Boosting Classifier has provided the accuracy-score:0.8564593301435407"
   ]
  },
  {
   "cell_type": "markdown",
   "id": "34da1f68",
   "metadata": {},
   "source": [
    "## Cross Validation"
   ]
  },
  {
   "cell_type": "code",
   "execution_count": 106,
   "id": "042daf1b",
   "metadata": {},
   "outputs": [
    {
     "name": "stdout",
     "output_type": "stream",
     "text": [
      "At cv: 4\n",
      "Cross_Validation_score is: 81.05562200956938\n",
      "Accuracy is : 86.60287081339713\n",
      "\n",
      "\n",
      "At cv: 5\n",
      "Cross_Validation_score is: 79.25474352499819\n",
      "Accuracy is : 86.60287081339713\n",
      "\n",
      "\n",
      "At cv: 6\n",
      "Cross_Validation_score is: 80.93525179856117\n",
      "Accuracy is : 86.60287081339713\n",
      "\n",
      "\n",
      "At cv: 7\n",
      "Cross_Validation_score is: 80.45618247298918\n",
      "Accuracy is : 86.60287081339713\n",
      "\n",
      "\n",
      "At cv: 8\n",
      "Cross_Validation_score is: 80.4544413919414\n",
      "Accuracy is : 86.60287081339713\n",
      "\n",
      "\n",
      "At cv: 9\n",
      "Cross_Validation_score is: 81.88925250636329\n",
      "Accuracy is : 86.60287081339713\n",
      "\n",
      "\n",
      "At cv: 10\n",
      "Cross_Validation_score is: 81.41422834193918\n",
      "Accuracy is : 86.60287081339713\n",
      "\n",
      "\n"
     ]
    }
   ],
   "source": [
    "# Using of K-Fold cross-validation technique\n",
    "\n",
    "preddtc= dtc.predict(x_test)\n",
    "\n",
    "from sklearn.model_selection import cross_val_score\n",
    "\n",
    "test_accuracy= accuracy_score(y_test,preddtc)\n",
    "\n",
    "for j in range(4,11):\n",
    "    cv_score=cross_val_score(dtc,x,y,cv=j)\n",
    "    cv_mean= cv_score.mean()\n",
    "    print('At cv:',j)\n",
    "    print('Cross_Validation_score is:',cv_mean*100)\n",
    "    print('Accuracy is :',test_accuracy*100)\n",
    "    print(\"\\n\")"
   ]
  },
  {
   "cell_type": "markdown",
   "id": "24d24179",
   "metadata": {},
   "source": [
    "Obs- Selecting the fold value as 4"
   ]
  },
  {
   "cell_type": "code",
   "execution_count": 107,
   "id": "e044482b",
   "metadata": {},
   "outputs": [
    {
     "name": "stdout",
     "output_type": "stream",
     "text": [
      "CV score  for Decision Tree Classifier: 0.810538967611336\n",
      "And Difference between CV and accuracy_score= 0.05548974052263522\n"
     ]
    }
   ],
   "source": [
    "# cv score for Decision Tree Classifier \n",
    "cvdtc=cross_val_score(dtc,x,y,cv=4).mean()\n",
    "print('CV score  for Decision Tree Classifier:',cvdtc)\n",
    "print(\"And Difference between CV and accuracy_score=\", accuracy_score(y_test,preddtc)-cvdtc)"
   ]
  },
  {
   "cell_type": "code",
   "execution_count": 108,
   "id": "e784cef4",
   "metadata": {},
   "outputs": [
    {
     "name": "stdout",
     "output_type": "stream",
     "text": [
      "CV score  for K Neighbors Clssifier: 0.7817445712182555\n",
      "And Difference between CV and accuracy_score= -0.020979020979021046\n"
     ]
    }
   ],
   "source": [
    "# cv score for K Neighbors Classifier \n",
    "cvknn=cross_val_score(knn,x,y,cv=4).mean()\n",
    "print('CV score  for K Neighbors Clssifier:',cvknn)\n",
    "print(\"And Difference between CV and accuracy_score=\", accuracy_score(y_test,predknn)-cvknn)"
   ]
  },
  {
   "cell_type": "code",
   "execution_count": 109,
   "id": "d9b1e581",
   "metadata": {},
   "outputs": [
    {
     "name": "stdout",
     "output_type": "stream",
     "text": [
      "CV score  for Support Vector Classifier: 0.7577923721015827\n",
      "And Difference between CV and accuracy_score= -0.0018115108575635919\n"
     ]
    }
   ],
   "source": [
    "# cv score for Support Vector Machine Classifier \n",
    "cvsvc=cross_val_score(svc,x,y,cv=4).mean()\n",
    "print('CV score  for Support Vector Classifier:',cvsvc)\n",
    "print(\"And Difference between CV and accuracy_score=\", accuracy_score(y_test,predsvc)-cvsvc)"
   ]
  },
  {
   "cell_type": "code",
   "execution_count": 110,
   "id": "d60de90d",
   "metadata": {},
   "outputs": [
    {
     "name": "stdout",
     "output_type": "stream",
     "text": [
      "CV score  for RandomForestClassifier: 0.8597142988590357\n",
      "And Difference between CV and accuracy_score= -0.008039657710710357\n"
     ]
    }
   ],
   "source": [
    "# cv score for Random Forest Classifier\n",
    "cvrf=cross_val_score(rf,x,y,cv=4).mean()\n",
    "print('CV score  for RandomForestClassifier:',cvrf)\n",
    "print(\"And Difference between CV and accuracy_score=\", accuracy_score(y_test,predrf)-cvrf)"
   ]
  },
  {
   "cell_type": "code",
   "execution_count": 111,
   "id": "897be8d7",
   "metadata": {},
   "outputs": [
    {
     "name": "stdout",
     "output_type": "stream",
     "text": [
      "CV score  for Ada Boost Classifier: 0.4891136823702613\n",
      "And Difference between CV and accuracy_score= 0.1711733989694516\n"
     ]
    }
   ],
   "source": [
    "# cv score for Ada Boost Classifier\n",
    "cvad=cross_val_score(ad,x,y,cv=4).mean()\n",
    "print('CV score  for Ada Boost Classifier:',cvad)\n",
    "print(\"And Difference between CV and accuracy_score=\", accuracy_score(y_test,predad)-cvad)"
   ]
  },
  {
   "cell_type": "markdown",
   "id": "acf54d0c",
   "metadata": {},
   "source": [
    "Obs-\n",
    "* From the observation of accuracy and cross validation score and their difference we can predict that Support Vector Classifier is  the best model from Model1"
   ]
  },
  {
   "cell_type": "markdown",
   "id": "6aca3d4d",
   "metadata": {},
   "source": [
    "## Hyper Parameter Tuning"
   ]
  },
  {
   "cell_type": "code",
   "execution_count": 112,
   "id": "c468b82b",
   "metadata": {},
   "outputs": [
    {
     "data": {
      "text/plain": [
       "{'C': 1.0,\n",
       " 'break_ties': False,\n",
       " 'cache_size': 200,\n",
       " 'class_weight': None,\n",
       " 'coef0': 0.0,\n",
       " 'decision_function_shape': 'ovr',\n",
       " 'degree': 3,\n",
       " 'gamma': 'scale',\n",
       " 'kernel': 'rbf',\n",
       " 'max_iter': -1,\n",
       " 'probability': False,\n",
       " 'random_state': None,\n",
       " 'shrinking': True,\n",
       " 'tol': 0.001,\n",
       " 'verbose': False}"
      ]
     },
     "execution_count": 112,
     "metadata": {},
     "output_type": "execute_result"
    }
   ],
   "source": [
    "svc.get_params()"
   ]
  },
  {
   "cell_type": "code",
   "execution_count": 113,
   "id": "366d657d",
   "metadata": {},
   "outputs": [],
   "source": [
    "#Selecting few parameter list to pass in Support Vector Classifier\n",
    "from sklearn.model_selection import GridSearchCV\n",
    "# defining parameter range\n",
    "parameter = {'C': [1.0, 2.0, 3.0],\n",
    "             'gamma': ['scale', 'auto'],\n",
    "             'kernel':['linear', 'poly', 'rbf', 'sigmoid'],\n",
    "             'random_state':[0,15,42,55,73]}"
   ]
  },
  {
   "cell_type": "code",
   "execution_count": 115,
   "id": "36a69bfe",
   "metadata": {},
   "outputs": [
    {
     "name": "stdout",
     "output_type": "stream",
     "text": [
      "{'C': 3.0, 'gamma': 'scale', 'kernel': 'rbf', 'random_state': 0}\n"
     ]
    }
   ],
   "source": [
    "# Start Tuning \n",
    "svc1=SVC()\n",
    "GCV = GridSearchCV(svc1,parameter,cv=4)\n",
    "\n",
    "GCV.fit(x_train,y_train)  \n",
    "print(GCV.best_params_)         #printing the best parameter found by Gridsearchcv"
   ]
  },
  {
   "cell_type": "code",
   "execution_count": 118,
   "id": "ef5f8879",
   "metadata": {},
   "outputs": [
    {
     "name": "stdout",
     "output_type": "stream",
     "text": [
      "Accuracy: 0.784688995215311\n",
      "Confusion Matrix:\n",
      " [[ 6  3  0  0  0  0  0  1]\n",
      " [ 1 48  2  1  0  0  0  0]\n",
      " [ 1  3  5  2  0  0  0  2]\n",
      " [ 0 11  3 41  0  0  0  7]\n",
      " [ 0  3  0  0  0  0  0  0]\n",
      " [ 2  0  0  3  0  0  0  0]\n",
      " [ 0  0  0  0  0  0 32  0]\n",
      " [ 0  0  0  0  0  0  0 32]]\n",
      "Classification Report:\n",
      "               precision    recall  f1-score   support\n",
      "\n",
      "           0       0.60      0.60      0.60        10\n",
      "           1       0.71      0.92      0.80        52\n",
      "           2       0.50      0.38      0.43        13\n",
      "           3       0.87      0.66      0.75        62\n",
      "           4       0.00      0.00      0.00         3\n",
      "           5       0.00      0.00      0.00         5\n",
      "           6       1.00      1.00      1.00        32\n",
      "           7       0.76      1.00      0.86        32\n",
      "\n",
      "    accuracy                           0.78       209\n",
      "   macro avg       0.56      0.57      0.56       209\n",
      "weighted avg       0.76      0.78      0.76       209\n",
      "\n"
     ]
    }
   ],
   "source": [
    "#Applying best parameter values on Support Vector Classifier Algorithm \n",
    "fuel_best=SVC(C= 3.0, gamma= 'scale', kernel= 'rbf', random_state=0)\n",
    "fuel_best.fit(x_train,y_train)\n",
    "predsvc1=fuel_best.predict(x_test)\n",
    "print(\"Accuracy:\",accuracy_score(y_test,predsvc1))\n",
    "print(\"Confusion Matrix:\\n\",confusion_matrix(y_test,predsvc1))\n",
    "print(\"Classification Report:\\n\",classification_report(y_test,predsvc1))"
   ]
  },
  {
   "cell_type": "markdown",
   "id": "3ba882ab",
   "metadata": {},
   "source": [
    "Obs- Our best model for fuel_type has given accuracy_score:0.784688995215311"
   ]
  },
  {
   "cell_type": "markdown",
   "id": "5867934f",
   "metadata": {},
   "source": [
    "## Saving the best model"
   ]
  },
  {
   "cell_type": "code",
   "execution_count": 119,
   "id": "b00ddd62",
   "metadata": {},
   "outputs": [
    {
     "data": {
      "text/plain": [
       "['fuel.obj']"
      ]
     },
     "execution_count": 119,
     "metadata": {},
     "output_type": "execute_result"
    }
   ],
   "source": [
    "import joblib\n",
    "\n",
    "joblib.dump(fuel_best,'fuel.obj')"
   ]
  },
  {
   "cell_type": "code",
   "execution_count": 120,
   "id": "c0a5c376",
   "metadata": {},
   "outputs": [],
   "source": [
    "fuel_model=joblib.load('fuel.obj')"
   ]
  },
  {
   "cell_type": "code",
   "execution_count": 121,
   "id": "0dc88e62",
   "metadata": {},
   "outputs": [
    {
     "data": {
      "text/plain": [
       "SVC(C=3.0, random_state=0)"
      ]
     },
     "execution_count": 121,
     "metadata": {},
     "output_type": "execute_result"
    }
   ],
   "source": [
    "# Viewing Attributes of the best model\n",
    "fuel_model"
   ]
  },
  {
   "cell_type": "markdown",
   "id": "9e552afb",
   "metadata": {},
   "source": [
    "## Prediction"
   ]
  },
  {
   "cell_type": "code",
   "execution_count": 122,
   "id": "f2879b09",
   "metadata": {},
   "outputs": [
    {
     "data": {
      "text/html": [
       "<div>\n",
       "<style scoped>\n",
       "    .dataframe tbody tr th:only-of-type {\n",
       "        vertical-align: middle;\n",
       "    }\n",
       "\n",
       "    .dataframe tbody tr th {\n",
       "        vertical-align: top;\n",
       "    }\n",
       "\n",
       "    .dataframe thead th {\n",
       "        text-align: right;\n",
       "    }\n",
       "</style>\n",
       "<table border=\"1\" class=\"dataframe\">\n",
       "  <thead>\n",
       "    <tr style=\"text-align: right;\">\n",
       "      <th></th>\n",
       "      <th>Original</th>\n",
       "      <th>Predicted</th>\n",
       "    </tr>\n",
       "  </thead>\n",
       "  <tbody>\n",
       "    <tr>\n",
       "      <th>0</th>\n",
       "      <td>3</td>\n",
       "      <td>7</td>\n",
       "    </tr>\n",
       "    <tr>\n",
       "      <th>1</th>\n",
       "      <td>1</td>\n",
       "      <td>1</td>\n",
       "    </tr>\n",
       "    <tr>\n",
       "      <th>2</th>\n",
       "      <td>7</td>\n",
       "      <td>7</td>\n",
       "    </tr>\n",
       "    <tr>\n",
       "      <th>3</th>\n",
       "      <td>1</td>\n",
       "      <td>1</td>\n",
       "    </tr>\n",
       "    <tr>\n",
       "      <th>4</th>\n",
       "      <td>6</td>\n",
       "      <td>6</td>\n",
       "    </tr>\n",
       "    <tr>\n",
       "      <th>...</th>\n",
       "      <td>...</td>\n",
       "      <td>...</td>\n",
       "    </tr>\n",
       "    <tr>\n",
       "      <th>204</th>\n",
       "      <td>3</td>\n",
       "      <td>2</td>\n",
       "    </tr>\n",
       "    <tr>\n",
       "      <th>205</th>\n",
       "      <td>6</td>\n",
       "      <td>6</td>\n",
       "    </tr>\n",
       "    <tr>\n",
       "      <th>206</th>\n",
       "      <td>1</td>\n",
       "      <td>1</td>\n",
       "    </tr>\n",
       "    <tr>\n",
       "      <th>207</th>\n",
       "      <td>3</td>\n",
       "      <td>7</td>\n",
       "    </tr>\n",
       "    <tr>\n",
       "      <th>208</th>\n",
       "      <td>1</td>\n",
       "      <td>1</td>\n",
       "    </tr>\n",
       "  </tbody>\n",
       "</table>\n",
       "<p>209 rows × 2 columns</p>\n",
       "</div>"
      ],
      "text/plain": [
       "     Original  Predicted\n",
       "0           3          7\n",
       "1           1          1\n",
       "2           7          7\n",
       "3           1          1\n",
       "4           6          6\n",
       "..        ...        ...\n",
       "204         3          2\n",
       "205         6          6\n",
       "206         1          1\n",
       "207         3          7\n",
       "208         1          1\n",
       "\n",
       "[209 rows x 2 columns]"
      ]
     },
     "execution_count": 122,
     "metadata": {},
     "output_type": "execute_result"
    }
   ],
   "source": [
    "ori = np.array(y_test)\n",
    "predicted = np.array(fuel_model.predict(x_test))\n",
    "df_new = pd.DataFrame({\"Original\":ori,\"Predicted\":predicted},index= range(len(ori)))\n",
    "df_new"
   ]
  },
  {
   "cell_type": "markdown",
   "id": "813f0702",
   "metadata": {},
   "source": [
    "Obs- We can see our best model has classified same results for most inputs."
   ]
  },
  {
   "cell_type": "code",
   "execution_count": 123,
   "id": "c74de2ac",
   "metadata": {},
   "outputs": [
    {
     "data": {
      "text/plain": [
       "Text(0.5, 1.0, 'Original vs predicted  graph')"
      ]
     },
     "execution_count": 123,
     "metadata": {},
     "output_type": "execute_result"
    },
    {
     "data": {
      "image/png": "[encoded data removed]",
      "text/plain": [
       "<Figure size 864x504 with 1 Axes>"
      ]
     },
     "metadata": {
      "needs_background": "light"
     },
     "output_type": "display_data"
    }
   ],
   "source": [
    "# Viewing the difference of prediction using Visualization \n",
    "plt.figure(figsize=(12,7))\n",
    "sns.kdeplot(data=df_new, palette='gist_rainbow_r',gridsize=900, shade=True)\n",
    "plt.title('Original vs predicted  graph')"
   ]
  },
  {
   "cell_type": "markdown",
   "id": "190ebbfc",
   "metadata": {},
   "source": [
    "## Concluding Remarks for Classification Model(Primary Fuel Prediction)"
   ]
  },
  {
   "cell_type": "markdown",
   "id": "971a587d",
   "metadata": {},
   "source": [
    "* We predicted the Primary_Fuel outcomes of power plants by collecting the data of 907 power plants installed over different geographic location and sources over a span of 5 years.\n",
    "* The prediction accuracies of these models were then checked.\n",
    "* Also cross-validation was performed to avoid overfitting of models.\n",
    "* By hyper parameter tuning, best parameters were applied on the best model and we could attain accuracy of 78.46% \n",
    "* The prediction results indicated that the best model achieved good prediction accuracy and has given quite accurate results"
   ]
  },
  {
   "cell_type": "code",
   "execution_count": null,
   "id": "9bbe3ee6",
   "metadata": {},
   "outputs": [],
   "source": []
  },
  {
   "cell_type": "markdown",
   "id": "819a6112",
   "metadata": {},
   "source": [
    "## (Approach 2: 'Regression Model to find \"Capacity_mw\")"
   ]
  },
  {
   "cell_type": "markdown",
   "id": "14dda3f1",
   "metadata": {},
   "source": [
    "## Data Preprocessing\n",
    "\n",
    "## Seperating Input and Target variables"
   ]
  },
  {
   "cell_type": "code",
   "execution_count": 71,
   "id": "b86a1b65",
   "metadata": {},
   "outputs": [],
   "source": [
    "x1=df_pp.drop(columns='capacity_mw')\n",
    "y1=df_pp['capacity_mw']"
   ]
  },
  {
   "cell_type": "code",
   "execution_count": 72,
   "id": "3c3c17c5",
   "metadata": {},
   "outputs": [
    {
     "data": {
      "text/plain": [
       "(834, 11)"
      ]
     },
     "execution_count": 72,
     "metadata": {},
     "output_type": "execute_result"
    }
   ],
   "source": [
    "x1.shape"
   ]
  },
  {
   "cell_type": "code",
   "execution_count": 73,
   "id": "ec696c66",
   "metadata": {},
   "outputs": [
    {
     "data": {
      "text/plain": [
       "(834,)"
      ]
     },
     "execution_count": 73,
     "metadata": {},
     "output_type": "execute_result"
    }
   ],
   "source": [
    "y1.shape"
   ]
  },
  {
   "cell_type": "markdown",
   "id": "208534d6",
   "metadata": {},
   "source": [
    "## Data Transformation to treat Skewness"
   ]
  },
  {
   "cell_type": "markdown",
   "id": "e46de5bb",
   "metadata": {},
   "source": [
    "### Checking Skewness"
   ]
  },
  {
   "cell_type": "code",
   "execution_count": 74,
   "id": "68d72621",
   "metadata": {},
   "outputs": [
    {
     "data": {
      "text/plain": [
       "latitude              -0.111185\n",
       "longitude              0.911122\n",
       "primary_fuel           0.412133\n",
       "commissioning_year    -0.842130\n",
       "source                 1.784584\n",
       "geolocation_source    -2.104209\n",
       "generation_gwh_2014    1.523244\n",
       "generation_gwh_2015    1.388578\n",
       "generation_gwh_2016    1.411295\n",
       "generation_gwh_2017    1.278075\n",
       "generation_gwh_2018    1.315105\n",
       "dtype: float64"
      ]
     },
     "execution_count": 74,
     "metadata": {},
     "output_type": "execute_result"
    }
   ],
   "source": [
    "x1.skew()"
   ]
  },
  {
   "cell_type": "markdown",
   "id": "0782a4d9",
   "metadata": {},
   "source": [
    "Obs- We can see except for column 'latitude', and 'primary_fuel' skewness is present in all the columns.\n",
    "\n",
    "Applying transformation method to treat skewness"
   ]
  },
  {
   "cell_type": "markdown",
   "id": "e554f4d5",
   "metadata": {},
   "source": [
    "### Applying Transformation Method"
   ]
  },
  {
   "cell_type": "code",
   "execution_count": 75,
   "id": "8e72aabf",
   "metadata": {},
   "outputs": [],
   "source": [
    "x1=pd.DataFrame(x1)\n",
    "from sklearn.preprocessing import PowerTransformer\n",
    "pt = PowerTransformer() \n",
    "skew_col = ['longitude', 'commissioning_year', 'source', 'geolocation_source','generation_gwh_2014', 'generation_gwh_2015', 'generation_gwh_2016','generation_gwh_2017', 'generation_gwh_2018']\n",
    "x1[skew_col]= pt.fit_transform(x1[skew_col].values)"
   ]
  },
  {
   "cell_type": "code",
   "execution_count": 76,
   "id": "2dc0c194",
   "metadata": {},
   "outputs": [
    {
     "data": {
      "text/plain": [
       "latitude              -0.111185\n",
       "longitude             -0.000409\n",
       "primary_fuel           0.412133\n",
       "commissioning_year     0.027512\n",
       "source                -0.179189\n",
       "geolocation_source    -2.076068\n",
       "generation_gwh_2014   -0.249970\n",
       "generation_gwh_2015   -0.313081\n",
       "generation_gwh_2016   -0.312658\n",
       "generation_gwh_2017   -0.343453\n",
       "generation_gwh_2018   -0.356856\n",
       "dtype: float64"
      ]
     },
     "execution_count": 76,
     "metadata": {},
     "output_type": "execute_result"
    }
   ],
   "source": [
    "x1.skew()"
   ]
  },
  {
   "cell_type": "markdown",
   "id": "c785c431",
   "metadata": {},
   "source": [
    "Obs-\n",
    "* We can see skewness is removed from all, except 'geolocation_source' column.\n",
    "\n",
    "* And as explained previously because of the problems after re-transformation, will be continuing with the current obtained results only"
   ]
  },
  {
   "cell_type": "markdown",
   "id": "7960307b",
   "metadata": {},
   "source": [
    "## Data Scaling"
   ]
  },
  {
   "cell_type": "code",
   "execution_count": 77,
   "id": "76301948",
   "metadata": {},
   "outputs": [],
   "source": [
    "from sklearn.preprocessing import StandardScaler\n",
    "st=StandardScaler()\n",
    "x1_scale=st.fit_transform(x1)\n",
    "x1_scale=pd.DataFrame(x1_scale)"
   ]
  },
  {
   "cell_type": "code",
   "execution_count": 78,
   "id": "7847c860",
   "metadata": {},
   "outputs": [],
   "source": [
    "x1=pd.DataFrame(data=x1_scale)"
   ]
  },
  {
   "cell_type": "markdown",
   "id": "b878820e",
   "metadata": {},
   "source": [
    "## Checking Multi-Collinearity"
   ]
  },
  {
   "cell_type": "code",
   "execution_count": 79,
   "id": "e85cfdb9",
   "metadata": {},
   "outputs": [
    {
     "name": "stdout",
     "output_type": "stream",
     "text": [
      "    VIF Factor  Features\n",
      "0     1.079126         0\n",
      "1     1.320133         1\n",
      "2     1.599302         2\n",
      "3     1.109742         3\n",
      "4     1.303098         4\n",
      "5     1.714687         5\n",
      "6     4.163131         6\n",
      "7     7.983319         7\n",
      "8    11.848242         8\n",
      "9    11.491325         9\n",
      "10   12.261168        10\n"
     ]
    }
   ],
   "source": [
    "def vif_cal():\n",
    "    vif=pd.DataFrame()\n",
    "    vif['VIF Factor']=[variance_inflation_factor(x1.values,i)for i in range(x1.shape[1])]\n",
    "    vif['Features']=x1.columns\n",
    "    print(vif)\n",
    "\n",
    "vif_cal()"
   ]
  },
  {
   "cell_type": "markdown",
   "id": "172b367a",
   "metadata": {},
   "source": [
    "Obs- \n",
    "* (Feature Denoted as: 0: 'latitude', 1:'longitude', 2:'primary_fuel', 3: 'commissioning_year' , 4:'source', 5:'geolocation_source', 6:'generation_gwh_2014', 7:'generation_gwh_2015', 8: 'generation_gwh_2016',9:'generation_gwh_2017',10: 'generation_gwh_2018')\n",
    "\n",
    "* Keeping the acceptable range as below or equal 10, we observe the VIF of 'generation_gwh_2016','generation_gwh_2017','generation_gwh_2018' is high (we did see there correlation was also high)\n",
    "* Deleting the column 'generation_gwh_2018' as it has max VIF"
   ]
  },
  {
   "cell_type": "code",
   "execution_count": 81,
   "id": "b48be216",
   "metadata": {},
   "outputs": [],
   "source": [
    "x1.drop(10, axis =1, inplace=True) # Dropping 'generation_gwh_2018' column"
   ]
  },
  {
   "cell_type": "code",
   "execution_count": 82,
   "id": "cc326b2a",
   "metadata": {},
   "outputs": [
    {
     "data": {
      "text/plain": [
       "(834, 10)"
      ]
     },
     "execution_count": 82,
     "metadata": {},
     "output_type": "execute_result"
    }
   ],
   "source": [
    "x1.shape"
   ]
  },
  {
   "cell_type": "code",
   "execution_count": 83,
   "id": "8d8fa799",
   "metadata": {},
   "outputs": [
    {
     "name": "stdout",
     "output_type": "stream",
     "text": [
      "   VIF Factor  Features\n",
      "0    1.079116         0\n",
      "1    1.319532         1\n",
      "2    1.599145         2\n",
      "3    1.108551         3\n",
      "4    1.302353         4\n",
      "5    1.714231         5\n",
      "6    4.128235         6\n",
      "7    7.966816         7\n",
      "8   10.957949         8\n",
      "9    5.542972         9\n"
     ]
    }
   ],
   "source": [
    "# Rechecking the VIF\n",
    "vif_cal()"
   ]
  },
  {
   "cell_type": "markdown",
   "id": "42ee2d2d",
   "metadata": {},
   "source": [
    "Obs- Again we can see VIF of column 8: 'generation_gwh_2016' is high, so dropping this column as well"
   ]
  },
  {
   "cell_type": "code",
   "execution_count": 84,
   "id": "17727441",
   "metadata": {},
   "outputs": [],
   "source": [
    "x1.drop(8, axis =1, inplace=True) # Dropping 'generation_gwh_2016' column"
   ]
  },
  {
   "cell_type": "code",
   "execution_count": 85,
   "id": "06f2296c",
   "metadata": {},
   "outputs": [
    {
     "data": {
      "text/plain": [
       "(834, 9)"
      ]
     },
     "execution_count": 85,
     "metadata": {},
     "output_type": "execute_result"
    }
   ],
   "source": [
    "x1.shape"
   ]
  },
  {
   "cell_type": "markdown",
   "id": "a5048051",
   "metadata": {},
   "source": [
    "## Data Modelling(Regression Model)"
   ]
  },
  {
   "cell_type": "code",
   "execution_count": null,
   "id": "bed9b7b0",
   "metadata": {},
   "outputs": [],
   "source": [
    "#Finding Best Random State"
   ]
  },
  {
   "cell_type": "code",
   "execution_count": 125,
   "id": "1ad506e9",
   "metadata": {},
   "outputs": [],
   "source": [
    "#importing necessary libraries\n",
    "from sklearn.linear_model import LinearRegression\n",
    "from sklearn.model_selection import train_test_split\n",
    "from sklearn.metrics import mean_squared_error,mean_absolute_error, r2_score\n",
    "\n",
    "from sklearn.svm import SVR\n",
    "from sklearn.tree import DecisionTreeRegressor\n",
    "from sklearn.neighbors import KNeighborsRegressor\n",
    "\n",
    "from sklearn.ensemble import RandomForestRegressor\n",
    "from sklearn.ensemble import AdaBoostRegressor\n",
    "from sklearn.ensemble import GradientBoostingRegressor"
   ]
  },
  {
   "cell_type": "code",
   "execution_count": 126,
   "id": "ff93cc75",
   "metadata": {},
   "outputs": [
    {
     "name": "stdout",
     "output_type": "stream",
     "text": [
      "Best accuracy is  0.7573018880935075  on Random_state  67\n"
     ]
    }
   ],
   "source": [
    "maxAccu=0\n",
    "maxRS=0\n",
    "for i in range(1,200):\n",
    "    x1_train,x1_test,y1_train,y1_test = train_test_split(x1,y1,test_size=.25, random_state =i)\n",
    "    dtr = DecisionTreeRegressor()\n",
    "    dtr.fit(x1_train, y1_train)\n",
    "    pred1 = dtr.predict(x1_test)\n",
    "    acc=r2_score(y1_test, pred1)\n",
    "    if acc>maxAccu:\n",
    "        maxAccu=acc\n",
    "        maxRS=i\n",
    "print(\"Best accuracy is \",maxAccu,\" on Random_state \",maxRS)"
   ]
  },
  {
   "cell_type": "markdown",
   "id": "655693f0",
   "metadata": {},
   "source": [
    "## Splitting data into Train-Test"
   ]
  },
  {
   "cell_type": "code",
   "execution_count": 127,
   "id": "0b54acc5",
   "metadata": {},
   "outputs": [],
   "source": [
    "x1_train,x1_test,y1_train,y1_test=train_test_split(x1,y1,test_size=0.25,random_state=67)"
   ]
  },
  {
   "cell_type": "code",
   "execution_count": 128,
   "id": "aa27b82d",
   "metadata": {},
   "outputs": [
    {
     "data": {
      "text/plain": [
       "(625, 9)"
      ]
     },
     "execution_count": 128,
     "metadata": {},
     "output_type": "execute_result"
    }
   ],
   "source": [
    "x1_train.shape"
   ]
  },
  {
   "cell_type": "code",
   "execution_count": 129,
   "id": "f8695228",
   "metadata": {},
   "outputs": [
    {
     "data": {
      "text/plain": [
       "(625,)"
      ]
     },
     "execution_count": 129,
     "metadata": {},
     "output_type": "execute_result"
    }
   ],
   "source": [
    "y1_train.shape"
   ]
  },
  {
   "cell_type": "code",
   "execution_count": 130,
   "id": "38ba3ebb",
   "metadata": {},
   "outputs": [
    {
     "data": {
      "text/plain": [
       "(209, 9)"
      ]
     },
     "execution_count": 130,
     "metadata": {},
     "output_type": "execute_result"
    }
   ],
   "source": [
    "x1_test.shape"
   ]
  },
  {
   "cell_type": "code",
   "execution_count": 131,
   "id": "44cf324c",
   "metadata": {},
   "outputs": [
    {
     "data": {
      "text/plain": [
       "(209,)"
      ]
     },
     "execution_count": 131,
     "metadata": {},
     "output_type": "execute_result"
    }
   ],
   "source": [
    "y1_test.shape"
   ]
  },
  {
   "cell_type": "markdown",
   "id": "36596002",
   "metadata": {},
   "source": [
    "## Using various Machine Learning Algorithms"
   ]
  },
  {
   "cell_type": "markdown",
   "id": "f333485b",
   "metadata": {},
   "source": [
    "### 1. Linear Regression"
   ]
  },
  {
   "cell_type": "code",
   "execution_count": 132,
   "id": "b26cbe57",
   "metadata": {},
   "outputs": [
    {
     "data": {
      "text/plain": [
       "0.42142134854645996"
      ]
     },
     "execution_count": 132,
     "metadata": {},
     "output_type": "execute_result"
    }
   ],
   "source": [
    "lr=LinearRegression()\n",
    "lr.fit(x1_train,y1_train)\n",
    "lr.score(x1_train,y1_train)"
   ]
  },
  {
   "cell_type": "code",
   "execution_count": 133,
   "id": "768e79f2",
   "metadata": {},
   "outputs": [
    {
     "name": "stdout",
     "output_type": "stream",
     "text": [
      "The performance metrix of Linear Regression is as below \n",
      "\n",
      "r2_score= 0.5005525331190885 \n",
      "\n",
      "Mean Absolute Error: 231.8433105661788\n",
      "Mean Squared Error: 102315.8109143008\n",
      "Root Meand Squared Error: 319.86842750465513\n"
     ]
    }
   ],
   "source": [
    "predlr=lr.predict(x1_test)\n",
    "print(\"The performance metrix of Linear Regression is as below \\n\")\n",
    "print(\"r2_score=\",r2_score(y1_test,predlr),\"\\n\")\n",
    "\n",
    "print(\"Mean Absolute Error:\",mean_absolute_error(y1_test,predlr))\n",
    "print(\"Mean Squared Error:\",mean_squared_error(y1_test,predlr))\n",
    "print(\"Root Meand Squared Error:\",np.sqrt(mean_squared_error(y1_test,predlr)))"
   ]
  },
  {
   "cell_type": "markdown",
   "id": "d9b0cba0",
   "metadata": {},
   "source": [
    "### 2. Support Vector Regressor"
   ]
  },
  {
   "cell_type": "code",
   "execution_count": 134,
   "id": "d4419113",
   "metadata": {},
   "outputs": [
    {
     "data": {
      "text/plain": [
       "-0.20087056702041228"
      ]
     },
     "execution_count": 134,
     "metadata": {},
     "output_type": "execute_result"
    }
   ],
   "source": [
    "svr=SVR()\n",
    "svr.fit(x1_train,y1_train)\n",
    "svr.score(x1_train,y1_train)"
   ]
  },
  {
   "cell_type": "code",
   "execution_count": 135,
   "id": "12416595",
   "metadata": {},
   "outputs": [
    {
     "name": "stdout",
     "output_type": "stream",
     "text": [
      "The performance metrix of Support Vector Regressor is as below \n",
      "\n",
      "r2_score= -0.18274426029950086 \n",
      "\n",
      "Mean Absolute Error: 244.6680893728654\n",
      "Mean Squared Error: 242294.62780643717\n",
      "Root Meand Squared Error: 492.2343220524521\n"
     ]
    }
   ],
   "source": [
    "predsvr=svr.predict(x1_test)\n",
    "print(\"The performance metrix of Support Vector Regressor is as below \\n\")\n",
    "print(\"r2_score=\",r2_score(y1_test,predsvr),\"\\n\")\n",
    "\n",
    "print(\"Mean Absolute Error:\",mean_absolute_error(y1_test,predsvr))\n",
    "print(\"Mean Squared Error:\",mean_squared_error(y1_test,predsvr))\n",
    "print(\"Root Meand Squared Error:\",np.sqrt(mean_squared_error(y1_test,predsvr)))"
   ]
  },
  {
   "cell_type": "markdown",
   "id": "4bdbb6db",
   "metadata": {},
   "source": [
    "### 3. Decision Tree Regressor"
   ]
  },
  {
   "cell_type": "code",
   "execution_count": 136,
   "id": "ca8f49e7",
   "metadata": {},
   "outputs": [
    {
     "data": {
      "text/plain": [
       "0.9998638472371048"
      ]
     },
     "execution_count": 136,
     "metadata": {},
     "output_type": "execute_result"
    }
   ],
   "source": [
    "dtr=DecisionTreeRegressor()\n",
    "dtr.fit(x1_train,y1_train)\n",
    "dtr.score(x1_train,y1_train)"
   ]
  },
  {
   "cell_type": "code",
   "execution_count": 137,
   "id": "d5898572",
   "metadata": {},
   "outputs": [
    {
     "name": "stdout",
     "output_type": "stream",
     "text": [
      "The performance metrix of Decision Tree Regressor is as below \n",
      "\n",
      "r2_score= 0.7427772126770795 \n",
      "\n",
      "Mean Absolute Error: 106.66272727272727\n",
      "Mean Squared Error: 52694.14666359016\n",
      "Root Meand Squared Error: 229.55205654402263\n"
     ]
    }
   ],
   "source": [
    "preddtr=dtr.predict(x1_test)\n",
    "print(\"The performance metrix of Decision Tree Regressor is as below \\n\")\n",
    "print(\"r2_score=\",r2_score(y1_test,preddtr),\"\\n\")\n",
    "\n",
    "print(\"Mean Absolute Error:\",mean_absolute_error(y1_test,preddtr))\n",
    "print(\"Mean Squared Error:\",mean_squared_error(y1_test,preddtr))\n",
    "print(\"Root Meand Squared Error:\",np.sqrt(mean_squared_error(y1_test,preddtr)))"
   ]
  },
  {
   "cell_type": "markdown",
   "id": "5b6e0f4a",
   "metadata": {},
   "source": [
    "### 4. K Neighbors Regressor"
   ]
  },
  {
   "cell_type": "code",
   "execution_count": 138,
   "id": "5f0eb9a8",
   "metadata": {},
   "outputs": [
    {
     "data": {
      "text/plain": [
       "0.7678129401912647"
      ]
     },
     "execution_count": 138,
     "metadata": {},
     "output_type": "execute_result"
    }
   ],
   "source": [
    "knr=KNeighborsRegressor()\n",
    "knr.fit(x1_train,y1_train)\n",
    "knr.score(x1_train,y1_train)"
   ]
  },
  {
   "cell_type": "code",
   "execution_count": 139,
   "id": "46a10419",
   "metadata": {},
   "outputs": [
    {
     "name": "stdout",
     "output_type": "stream",
     "text": [
      "The performance metrix of K Neighbors Regressor is as below \n",
      "\n",
      "r2_score= 0.7423643515163907 \n",
      "\n",
      "Mean Absolute Error: 112.59862775119618\n",
      "Mean Squared Error: 52778.72457668823\n",
      "Root Meand Squared Error: 229.7362064992983\n"
     ]
    }
   ],
   "source": [
    "predknr=knr.predict(x1_test)\n",
    "print(\"The performance metrix of K Neighbors Regressor is as below \\n\")\n",
    "print(\"r2_score=\",r2_score(y1_test,predknr),\"\\n\")\n",
    "\n",
    "print(\"Mean Absolute Error:\",mean_absolute_error(y1_test,predknr))\n",
    "print(\"Mean Squared Error:\",mean_squared_error(y1_test,predknr))\n",
    "print(\"Root Meand Squared Error:\",np.sqrt(mean_squared_error(y1_test,predknr)))"
   ]
  },
  {
   "cell_type": "markdown",
   "id": "a6253047",
   "metadata": {},
   "source": [
    "### 5.Random Forest Regressor"
   ]
  },
  {
   "cell_type": "code",
   "execution_count": 140,
   "id": "9d5c902d",
   "metadata": {},
   "outputs": [
    {
     "data": {
      "text/plain": [
       "0.9634943477484874"
      ]
     },
     "execution_count": 140,
     "metadata": {},
     "output_type": "execute_result"
    }
   ],
   "source": [
    "rfr=RandomForestRegressor()\n",
    "rfr.fit(x1_train,y1_train)\n",
    "rfr.score(x1_train,y1_train)"
   ]
  },
  {
   "cell_type": "code",
   "execution_count": 141,
   "id": "06bb5fd8",
   "metadata": {},
   "outputs": [
    {
     "name": "stdout",
     "output_type": "stream",
     "text": [
      "The performance metrix of Random Forest Regressor is as below \n",
      "\n",
      "r2_score= 0.832800765915715 \n",
      "\n",
      "Mean Absolute Error: 87.48515405125958\n",
      "Mean Squared Error: 34252.101279878276\n",
      "Root Meand Squared Error: 185.0732322078973\n"
     ]
    }
   ],
   "source": [
    "predrfr=rfr.predict(x1_test)\n",
    "print(\"The performance metrix of Random Forest Regressor is as below \\n\")\n",
    "print(\"r2_score=\",r2_score(y1_test,predrfr),\"\\n\")\n",
    "\n",
    "print(\"Mean Absolute Error:\",mean_absolute_error(y1_test,predrfr))\n",
    "print(\"Mean Squared Error:\",mean_squared_error(y1_test,predrfr))\n",
    "print(\"Root Meand Squared Error:\",np.sqrt(mean_squared_error(y1_test,predrfr)))"
   ]
  },
  {
   "cell_type": "markdown",
   "id": "b4ff7705",
   "metadata": {},
   "source": [
    "### 6.Ada Boost Regressor"
   ]
  },
  {
   "cell_type": "code",
   "execution_count": 142,
   "id": "bc499af5",
   "metadata": {},
   "outputs": [
    {
     "data": {
      "text/plain": [
       "0.7493740714420312"
      ]
     },
     "execution_count": 142,
     "metadata": {},
     "output_type": "execute_result"
    }
   ],
   "source": [
    "adr=AdaBoostRegressor()\n",
    "adr.fit(x1_train,y1_train)\n",
    "adr.score(x1_train,y1_train)"
   ]
  },
  {
   "cell_type": "code",
   "execution_count": 143,
   "id": "8aa340ba",
   "metadata": {},
   "outputs": [
    {
     "name": "stdout",
     "output_type": "stream",
     "text": [
      "The performance metrix of Ada Boost Regressor is as below \n",
      "\n",
      "r2_score= 0.7393888077940927 \n",
      "\n",
      "Mean Absolute Error: 174.35844742798753\n",
      "Mean Squared Error: 53388.28852294099\n",
      "Root Meand Squared Error: 231.05905851738638\n"
     ]
    }
   ],
   "source": [
    "predadr=adr.predict(x1_test)\n",
    "print(\"The performance metrix of Ada Boost Regressor is as below \\n\")\n",
    "print(\"r2_score=\",r2_score(y1_test,predadr),\"\\n\")\n",
    "\n",
    "print(\"Mean Absolute Error:\",mean_absolute_error(y1_test,predadr))\n",
    "print(\"Mean Squared Error:\",mean_squared_error(y1_test,predadr))\n",
    "print(\"Root Meand Squared Error:\",np.sqrt(mean_squared_error(y1_test,predadr)))"
   ]
  },
  {
   "cell_type": "markdown",
   "id": "3347a958",
   "metadata": {},
   "source": [
    "### 7.Gradient Boosting Regressor"
   ]
  },
  {
   "cell_type": "code",
   "execution_count": 144,
   "id": "3232c521",
   "metadata": {},
   "outputs": [
    {
     "data": {
      "text/plain": [
       "0.9412160933132229"
      ]
     },
     "execution_count": 144,
     "metadata": {},
     "output_type": "execute_result"
    }
   ],
   "source": [
    "gbr=GradientBoostingRegressor()\n",
    "gbr.fit(x1_train,y1_train)\n",
    "gbr.score(x1_train,y1_train)"
   ]
  },
  {
   "cell_type": "code",
   "execution_count": 145,
   "id": "d032d7f9",
   "metadata": {},
   "outputs": [
    {
     "name": "stdout",
     "output_type": "stream",
     "text": [
      "The performance metrix of Gradient Boosting Regressor is as below \n",
      "\n",
      "r2_score= 0.8108964567073328 \n",
      "\n",
      "Mean Absolute Error: 98.15564833543021\n",
      "Mean Squared Error: 38739.37433217627\n",
      "Root Meand Squared Error: 196.82320577659604\n"
     ]
    }
   ],
   "source": [
    "predgbr=gbr.predict(x1_test)\n",
    "print(\"The performance metrix of Gradient Boosting Regressor is as below \\n\")\n",
    "print(\"r2_score=\",r2_score(y1_test,predgbr),\"\\n\")\n",
    "\n",
    "print(\"Mean Absolute Error:\",mean_absolute_error(y1_test,predgbr))\n",
    "print(\"Mean Squared Error:\",mean_squared_error(y1_test,predgbr))\n",
    "print(\"Root Meand Squared Error:\",np.sqrt(mean_squared_error(y1_test,predgbr)))"
   ]
  },
  {
   "cell_type": "markdown",
   "id": "8b607d80",
   "metadata": {},
   "source": [
    "### Regularization to overcome Over-Fitting (Lasso,Ridge)"
   ]
  },
  {
   "cell_type": "code",
   "execution_count": 146,
   "id": "dd5a8c9a",
   "metadata": {},
   "outputs": [],
   "source": [
    "from sklearn.model_selection import GridSearchCV\n",
    "from sklearn.linear_model import Lasso,Ridge"
   ]
  },
  {
   "cell_type": "markdown",
   "id": "e8b18289",
   "metadata": {},
   "source": [
    "#### 8. Lasso Regression"
   ]
  },
  {
   "cell_type": "code",
   "execution_count": 147,
   "id": "67328359",
   "metadata": {},
   "outputs": [
    {
     "data": {
      "text/plain": [
       "0.4214210139794212"
      ]
     },
     "execution_count": 147,
     "metadata": {},
     "output_type": "execute_result"
    }
   ],
   "source": [
    "ls=Lasso(alpha=0.1)\n",
    "ls.fit(x1_train,y1_train)\n",
    "ls.score(x1_train,y1_train)"
   ]
  },
  {
   "cell_type": "code",
   "execution_count": 148,
   "id": "cb942853",
   "metadata": {},
   "outputs": [
    {
     "name": "stdout",
     "output_type": "stream",
     "text": [
      "The performance metrix of Lasso Regressor is as below \n",
      "\n",
      "r2_score= 0.5004511930583594 \n",
      "\n",
      "Mean Absolute Error: 231.8145719154678\n",
      "Mean Squared Error: 102336.57123681554\n",
      "Root Meand Squared Error: 319.90087720544864\n"
     ]
    }
   ],
   "source": [
    "predls=ls.predict(x1_test)\n",
    "print(\"The performance metrix of Lasso Regressor is as below \\n\")\n",
    "print(\"r2_score=\",r2_score(y1_test,predls),\"\\n\")\n",
    "print(\"Mean Absolute Error:\",mean_absolute_error(y1_test,predls))\n",
    "print(\"Mean Squared Error:\",mean_squared_error(y1_test,predls))\n",
    "print(\"Root Meand Squared Error:\",np.sqrt(mean_squared_error(y1_test,predls)))"
   ]
  },
  {
   "cell_type": "markdown",
   "id": "72132701",
   "metadata": {},
   "source": [
    "#### 9. Ridge Regression"
   ]
  },
  {
   "cell_type": "code",
   "execution_count": 149,
   "id": "3e9c8f59",
   "metadata": {},
   "outputs": [
    {
     "data": {
      "text/plain": [
       "0.421421332720736"
      ]
     },
     "execution_count": 149,
     "metadata": {},
     "output_type": "execute_result"
    }
   ],
   "source": [
    "rg=Ridge(alpha=0.1)\n",
    "rg.fit(x1_train,y1_train)\n",
    "rg.score(x1_train,y1_train)"
   ]
  },
  {
   "cell_type": "code",
   "execution_count": 150,
   "id": "1dd9bbc5",
   "metadata": {},
   "outputs": [
    {
     "name": "stdout",
     "output_type": "stream",
     "text": [
      "The performance metrix of Ridge Regressor is as below \n",
      "\n",
      "r2_score= 0.5005269752231108 \n",
      "\n",
      "Mean Absolute Error: 231.84620538785416\n",
      "Mean Squared Error: 102321.04665384426\n",
      "Root Meand Squared Error: 319.87661160804527\n"
     ]
    }
   ],
   "source": [
    "predrg=rg.predict(x1_test)\n",
    "print(\"The performance metrix of Ridge Regressor is as below \\n\")\n",
    "print(\"r2_score=\",r2_score(y1_test,predrg),\"\\n\")\n",
    "\n",
    "print(\"Mean Absolute Error:\",mean_absolute_error(y1_test,predrg))\n",
    "print(\"Mean Squared Error:\",mean_squared_error(y1_test,predrg))\n",
    "print(\"Root Meand Squared Error:\",np.sqrt(mean_squared_error(y1_test,predrg)))"
   ]
  },
  {
   "cell_type": "markdown",
   "id": "aa0cb16a",
   "metadata": {},
   "source": [
    "## Cross Validation"
   ]
  },
  {
   "cell_type": "code",
   "execution_count": 152,
   "id": "3b5ca814",
   "metadata": {},
   "outputs": [
    {
     "name": "stdout",
     "output_type": "stream",
     "text": [
      "At cv: 4\n",
      "Cross_Validation_score is: 60.23740712964943\n",
      "Accuracy is : 74.27772126770795\n",
      "\n",
      "\n",
      "At cv: 5\n",
      "Cross_Validation_score is: 57.18199501678116\n",
      "Accuracy is : 74.27772126770795\n",
      "\n",
      "\n",
      "At cv: 6\n",
      "Cross_Validation_score is: 53.98077675898837\n",
      "Accuracy is : 74.27772126770795\n",
      "\n",
      "\n",
      "At cv: 7\n",
      "Cross_Validation_score is: 58.66051400998398\n",
      "Accuracy is : 74.27772126770795\n",
      "\n",
      "\n",
      "At cv: 8\n",
      "Cross_Validation_score is: 59.67605834799537\n",
      "Accuracy is : 74.27772126770795\n",
      "\n",
      "\n",
      "At cv: 9\n",
      "Cross_Validation_score is: 57.00123717104621\n",
      "Accuracy is : 74.27772126770795\n",
      "\n",
      "\n",
      "At cv: 10\n",
      "Cross_Validation_score is: 47.30841489633225\n",
      "Accuracy is : 74.27772126770795\n",
      "\n",
      "\n"
     ]
    }
   ],
   "source": [
    "# Using of K-Fold cross-validation technique\n",
    "\n",
    "preddtr= dtr.predict(x1_test)\n",
    "\n",
    "from sklearn.model_selection import cross_val_score\n",
    "\n",
    "test_accuracy= r2_score(y1_test,preddtr)\n",
    "\n",
    "for j in range(4,11):\n",
    "    cv_score=cross_val_score(dtr,x1,y1,cv=j)\n",
    "    cv_mean= cv_score.mean()\n",
    "    print('At cv:',j)\n",
    "    print('Cross_Validation_score is:',cv_mean*100)\n",
    "    print('Accuracy is :',test_accuracy*100)\n",
    "    print(\"\\n\")"
   ]
  },
  {
   "cell_type": "markdown",
   "id": "4acdbf6f",
   "metadata": {},
   "source": [
    "Obs- Selecting the fold value as 4"
   ]
  },
  {
   "cell_type": "code",
   "execution_count": 153,
   "id": "22b9c817",
   "metadata": {},
   "outputs": [
    {
     "name": "stdout",
     "output_type": "stream",
     "text": [
      "CV score  for Linear rgerssion: 0.39386675797086435\n",
      "And Difference between CV and r2_score = 0.1066857751482242\n"
     ]
    }
   ],
   "source": [
    "from sklearn.model_selection import cross_val_score\n",
    "\n",
    "# cv score for Linear Regression \n",
    "cvlr=cross_val_score(lr,x1,y1,cv=4).mean()\n",
    "print('CV score  for Linear rgerssion:',cvlr)\n",
    "print(\"And Difference between CV and r2_score =\", r2_score(y1_test,predlr)-cvlr)"
   ]
  },
  {
   "cell_type": "code",
   "execution_count": 166,
   "id": "e6956940",
   "metadata": {},
   "outputs": [
    {
     "name": "stdout",
     "output_type": "stream",
     "text": [
      "CV score  for Support Vector Regressor: -0.19581805914597217\n",
      "And Difference between CV and r2_score = 0.013073798846471307\n"
     ]
    }
   ],
   "source": [
    "# cv score for Support Vector Regressor\n",
    "cvsvr=cross_val_score(svr,x1,y1,cv=4).mean()\n",
    "print('CV score  for Support Vector Regressor:',cvsvr)\n",
    "print(\"And Difference between CV and r2_score =\", r2_score(y1_test,predsvr)-cvsvr)"
   ]
  },
  {
   "cell_type": "code",
   "execution_count": 167,
   "id": "2bf4a572",
   "metadata": {},
   "outputs": [
    {
     "name": "stdout",
     "output_type": "stream",
     "text": [
      "CV score  for Decision Tree Regressor: 0.6086325590773425\n",
      "And Difference between CV and r2_score = 0.13414465359973704\n"
     ]
    }
   ],
   "source": [
    "# cv score for Decision Tree Regressor\n",
    "cvdtr=cross_val_score(dtr,x1,y1,cv=4).mean()\n",
    "print('CV score  for Decision Tree Regressor:',cvdtr)\n",
    "print(\"And Difference between CV and r2_score =\", r2_score(y1_test,preddtr)-cvdtr)"
   ]
  },
  {
   "cell_type": "code",
   "execution_count": 168,
   "id": "a39c6154",
   "metadata": {},
   "outputs": [
    {
     "name": "stdout",
     "output_type": "stream",
     "text": [
      "CV score  for K Neighbors Regressor: 0.6589618519969878\n",
      "And Difference between CV and r2_score = 0.08340249951940293\n"
     ]
    }
   ],
   "source": [
    "# cv score for K Neighbors Regressor\n",
    "cvknr=cross_val_score(knr,x1,y1,cv=4).mean()\n",
    "print('CV score  for K Neighbors Regressor:',cvknr)\n",
    "print(\"And Difference between CV and r2_score =\", r2_score(y1_test,predknr)-cvknr)"
   ]
  },
  {
   "cell_type": "code",
   "execution_count": 169,
   "id": "f4915028",
   "metadata": {},
   "outputs": [
    {
     "name": "stdout",
     "output_type": "stream",
     "text": [
      "CV score  for Random Forest Regressor: 0.7653234873182055\n",
      "And Difference between CV and r2_score = 0.0674772785975094\n"
     ]
    }
   ],
   "source": [
    "# cv score for Random Forest Regressor\n",
    "cvrfr=cross_val_score(rfr,x1,y1,cv=4).mean()\n",
    "print('CV score  for Random Forest Regressor:',cvrfr)\n",
    "print(\"And Difference between CV and r2_score =\", r2_score(y1_test,predrfr)-cvrfr)"
   ]
  },
  {
   "cell_type": "code",
   "execution_count": 170,
   "id": "3459681c",
   "metadata": {},
   "outputs": [
    {
     "name": "stdout",
     "output_type": "stream",
     "text": [
      "CV score  for Ada Boost Regressor: 0.6362027529481207\n",
      "And Difference between CV and r2_score = 0.10318605484597199\n"
     ]
    }
   ],
   "source": [
    "# cv score for Ada Boost Regressor\n",
    "cvadr=cross_val_score(adr,x1,y1,cv=4).mean()\n",
    "print('CV score  for Ada Boost Regressor:',cvadr)\n",
    "print(\"And Difference between CV and r2_score =\", r2_score(y1_test,predadr)-cvadr)"
   ]
  },
  {
   "cell_type": "code",
   "execution_count": 171,
   "id": "ed9f80f3",
   "metadata": {},
   "outputs": [
    {
     "name": "stdout",
     "output_type": "stream",
     "text": [
      "CV score  for Gradient Boosting Regressor: 0.743364194094146\n",
      "And Difference between CV and r2_score = 0.06753226261318679\n"
     ]
    }
   ],
   "source": [
    "# cv score for Gradient Boosting Regressor\n",
    "cvgbr=cross_val_score(gbr,x1,y1,cv=4).mean()\n",
    "print('CV score  for Gradient Boosting Regressor:',cvgbr)\n",
    "print(\"And Difference between CV and r2_score =\", r2_score(y1_test,predgbr)-cvgbr)"
   ]
  },
  {
   "cell_type": "code",
   "execution_count": 172,
   "id": "ba4f467f",
   "metadata": {},
   "outputs": [
    {
     "name": "stdout",
     "output_type": "stream",
     "text": [
      "CV score  for Lasso Regressor: 0.39419544246115\n",
      "And Difference between CV and r2_score = 0.10625575059720938\n"
     ]
    }
   ],
   "source": [
    "# cv score for Lasso Regressor\n",
    "cvls=cross_val_score(ls,x1,y1,cv=4).mean()\n",
    "print('CV score  for Lasso Regressor:',cvls)\n",
    "print(\"And Difference between CV and r2_score =\", r2_score(y1_test,predls)-cvls)"
   ]
  },
  {
   "cell_type": "code",
   "execution_count": 173,
   "id": "d0348223",
   "metadata": {},
   "outputs": [
    {
     "name": "stdout",
     "output_type": "stream",
     "text": [
      "CV score  for Ridge Regressor: 0.3939110133114627\n",
      "And Difference between CV and r2_score = 0.10661596191164813\n"
     ]
    }
   ],
   "source": [
    "# cv score for Ridge Regressor\n",
    "cvrg=cross_val_score(rg,x1,y1,cv=4).mean()\n",
    "print('CV score  for Ridge Regressor:',cvrg)\n",
    "print(\"And Difference between CV and r2_score =\", r2_score(y1_test,predrg)-cvrg)"
   ]
  },
  {
   "cell_type": "markdown",
   "id": "b644821c",
   "metadata": {},
   "source": [
    "Obs- We can see the difference between r2_score and cv score is least in  Random Forest Regressor and Gradient Boosting regressor, so we will perform hyper tuning on both the algos and will select best from them then.\n"
   ]
  },
  {
   "cell_type": "markdown",
   "id": "08249eae",
   "metadata": {},
   "source": [
    "## Hyper Parameter Tuning"
   ]
  },
  {
   "cell_type": "code",
   "execution_count": 164,
   "id": "1261ec1c",
   "metadata": {},
   "outputs": [
    {
     "data": {
      "text/plain": [
       "{'bootstrap': True,\n",
       " 'ccp_alpha': 0.0,\n",
       " 'criterion': 'squared_error',\n",
       " 'max_depth': None,\n",
       " 'max_features': 'auto',\n",
       " 'max_leaf_nodes': None,\n",
       " 'max_samples': None,\n",
       " 'min_impurity_decrease': 0.0,\n",
       " 'min_samples_leaf': 1,\n",
       " 'min_samples_split': 2,\n",
       " 'min_weight_fraction_leaf': 0.0,\n",
       " 'n_estimators': 100,\n",
       " 'n_jobs': None,\n",
       " 'oob_score': False,\n",
       " 'random_state': None,\n",
       " 'verbose': 0,\n",
       " 'warm_start': False}"
      ]
     },
     "execution_count": 164,
     "metadata": {},
     "output_type": "execute_result"
    }
   ],
   "source": [
    "# 1. On Random Forest Regressor \n",
    "rfr.get_params() # Getting Random Forest Regressor Parameters"
   ]
  },
  {
   "cell_type": "code",
   "execution_count": 165,
   "id": "19a13167",
   "metadata": {},
   "outputs": [],
   "source": [
    "#Selecting few parameter list to pass in Random Forest Regressor\n",
    "from sklearn.model_selection import GridSearchCV\n",
    "# defining parameter range\n",
    "parameter = {'max_features':['sqrt', 'log2', None], \n",
    "             'criterion':['squared_error', 'absolute_error', 'friedman_mse', 'poisson'],\n",
    "             'max_depth':[2,3,4],\n",
    "             'n_estimators':[10,100,150,200]}"
   ]
  },
  {
   "cell_type": "code",
   "execution_count": 174,
   "id": "f986d165",
   "metadata": {},
   "outputs": [
    {
     "name": "stdout",
     "output_type": "stream",
     "text": [
      "{'criterion': 'friedman_mse', 'max_depth': 4, 'max_features': 'sqrt', 'n_estimators': 150}\n"
     ]
    }
   ],
   "source": [
    "# Start Tuning \n",
    "rfr1=RandomForestRegressor()\n",
    "GCV = GridSearchCV(rfr1,parameter,cv=4)\n",
    "\n",
    "GCV.fit(x1_train,y1_train)  \n",
    "print(GCV.best_params_)         #printing the best parameter found by Gridsearchcv"
   ]
  },
  {
   "cell_type": "code",
   "execution_count": 182,
   "id": "0784b70f",
   "metadata": {},
   "outputs": [
    {
     "data": {
      "text/plain": [
       "0.8164268149034826"
      ]
     },
     "execution_count": 182,
     "metadata": {},
     "output_type": "execute_result"
    }
   ],
   "source": [
    "#Applying best parameter values on Random Forest Regressor Algorithm \n",
    "capacity_best=RandomForestRegressor(criterion= 'friedman_mse', max_depth= 4, max_features= 'sqrt', n_estimators= 150)\n",
    "capacity_best.fit(x1_train,y1_train)\n",
    "capacity_best.score(x1_train,y1_train)"
   ]
  },
  {
   "cell_type": "code",
   "execution_count": 184,
   "id": "9cc0bc2e",
   "metadata": {},
   "outputs": [
    {
     "name": "stdout",
     "output_type": "stream",
     "text": [
      "r2_score= 0.801264969108025 \n",
      "\n",
      "Mean Absolute Error: 112.48238862260872\n",
      "Mean Squared Error: 40712.461652427264\n",
      "Root Meand Squared Error: 201.77329271344922\n"
     ]
    }
   ],
   "source": [
    "predrfr1=capacity_best.predict(x1_test)\n",
    "print(\"r2_score=\",r2_score(y1_test,predrfr1),\"\\n\")\n",
    "\n",
    "print(\"Mean Absolute Error:\",mean_absolute_error(y1_test,predrfr1))\n",
    "print(\"Mean Squared Error:\",mean_squared_error(y1_test,predrfr1))\n",
    "print(\"Root Meand Squared Error:\",np.sqrt(mean_squared_error(y1_test,predrfr1)))"
   ]
  },
  {
   "cell_type": "code",
   "execution_count": 194,
   "id": "0b4fbae5",
   "metadata": {},
   "outputs": [
    {
     "data": {
      "text/plain": [
       "{'alpha': 0.9,\n",
       " 'ccp_alpha': 0.0,\n",
       " 'criterion': 'friedman_mse',\n",
       " 'init': None,\n",
       " 'learning_rate': 0.1,\n",
       " 'loss': 'squared_error',\n",
       " 'max_depth': 3,\n",
       " 'max_features': None,\n",
       " 'max_leaf_nodes': None,\n",
       " 'min_impurity_decrease': 0.0,\n",
       " 'min_samples_leaf': 1,\n",
       " 'min_samples_split': 2,\n",
       " 'min_weight_fraction_leaf': 0.0,\n",
       " 'n_estimators': 100,\n",
       " 'n_iter_no_change': None,\n",
       " 'random_state': None,\n",
       " 'subsample': 1.0,\n",
       " 'tol': 0.0001,\n",
       " 'validation_fraction': 0.1,\n",
       " 'verbose': 0,\n",
       " 'warm_start': False}"
      ]
     },
     "execution_count": 194,
     "metadata": {},
     "output_type": "execute_result"
    }
   ],
   "source": [
    "# 2. On Gradient Boosting Regressor\n",
    "gbr.get_params()"
   ]
  },
  {
   "cell_type": "code",
   "execution_count": 196,
   "id": "0bcf0565",
   "metadata": {},
   "outputs": [],
   "source": [
    "#Selecting few parameter list to pass in Gradient Boosting Regressor\n",
    "from sklearn.model_selection import GridSearchCV\n",
    "# defining parameter range\n",
    "parameter = {'loss':['squared_error', 'absolute_error', 'huber', 'quantile'],\n",
    "             'max_features':['sqrt', 'log2', 'auto'], \n",
    "             'criterion':['squared_error', 'friedman_mse'],\n",
    "             'max_depth':[2,3,4],\n",
    "             'n_estimators':[10,100,150,200]}"
   ]
  },
  {
   "cell_type": "code",
   "execution_count": 197,
   "id": "6a68ee2c",
   "metadata": {},
   "outputs": [
    {
     "name": "stdout",
     "output_type": "stream",
     "text": [
      "{'criterion': 'friedman_mse', 'loss': 'huber', 'max_depth': 3, 'max_features': 'sqrt', 'n_estimators': 200}\n"
     ]
    }
   ],
   "source": [
    "# Start Tuning \n",
    "gbr1=GradientBoostingRegressor()\n",
    "GCV = GridSearchCV(gbr1,parameter,cv=4)\n",
    "\n",
    "GCV.fit(x1_train,y1_train)  \n",
    "print(GCV.best_params_)         #printing the best parameter found by Gridsearchcv"
   ]
  },
  {
   "cell_type": "code",
   "execution_count": 198,
   "id": "0f0bacf3",
   "metadata": {},
   "outputs": [
    {
     "data": {
      "text/plain": [
       "0.9189315253909156"
      ]
     },
     "execution_count": 198,
     "metadata": {},
     "output_type": "execute_result"
    }
   ],
   "source": [
    "#Applying best parameter values on Gradient Boosting Regressor Algorithm \n",
    "capacity_best2=GradientBoostingRegressor(criterion= 'friedman_mse', loss= 'huber', max_depth=3, max_features='sqrt', n_estimators= 200)\n",
    "capacity_best2.fit(x1_train,y1_train)\n",
    "capacity_best2.score(x1_train,y1_train)"
   ]
  },
  {
   "cell_type": "code",
   "execution_count": 199,
   "id": "3e464e58",
   "metadata": {},
   "outputs": [
    {
     "name": "stdout",
     "output_type": "stream",
     "text": [
      "r2_score= 0.8120357172859436 \n",
      "\n",
      "Mean Absolute Error: 92.35951390716698\n",
      "Mean Squared Error: 38505.98768458506\n",
      "Root Meand Squared Error: 196.22942614344328\n"
     ]
    }
   ],
   "source": [
    "predgbr1=capacity_best2.predict(x1_test)\n",
    "print(\"r2_score=\",r2_score(y1_test,predgbr1),\"\\n\")\n",
    "\n",
    "print(\"Mean Absolute Error:\",mean_absolute_error(y1_test,predgbr1))\n",
    "print(\"Mean Squared Error:\",mean_squared_error(y1_test,predgbr1))\n",
    "print(\"Root Meand Squared Error:\",np.sqrt(mean_squared_error(y1_test,predgbr1)))"
   ]
  },
  {
   "cell_type": "markdown",
   "id": "5736b22b",
   "metadata": {},
   "source": [
    "Obs- Observing the final r2_scores of both the algos, we can say Gradient Boosting Regressor has given better score, so selecting that as best regressor model"
   ]
  },
  {
   "cell_type": "code",
   "execution_count": null,
   "id": "1834aa1e",
   "metadata": {},
   "outputs": [],
   "source": []
  },
  {
   "cell_type": "markdown",
   "id": "0bd50ae0",
   "metadata": {},
   "source": [
    "## Saving the best Regressor model"
   ]
  },
  {
   "cell_type": "code",
   "execution_count": 202,
   "id": "14e6a6da",
   "metadata": {},
   "outputs": [
    {
     "data": {
      "text/plain": [
       "['capacity.obj']"
      ]
     },
     "execution_count": 202,
     "metadata": {},
     "output_type": "execute_result"
    }
   ],
   "source": [
    "import joblib\n",
    "\n",
    "joblib.dump(capacity_best2,'capacity.obj')"
   ]
  },
  {
   "cell_type": "code",
   "execution_count": 203,
   "id": "da9c0631",
   "metadata": {},
   "outputs": [],
   "source": [
    "capacity_model=joblib.load('capacity.obj')"
   ]
  },
  {
   "cell_type": "code",
   "execution_count": 204,
   "id": "29508533",
   "metadata": {},
   "outputs": [
    {
     "data": {
      "text/plain": [
       "GradientBoostingRegressor(loss='huber', max_features='sqrt', n_estimators=200)"
      ]
     },
     "execution_count": 204,
     "metadata": {},
     "output_type": "execute_result"
    }
   ],
   "source": [
    "# Viewing Attributes of the best model\n",
    "capacity_model"
   ]
  },
  {
   "cell_type": "markdown",
   "id": "f0ecbf12",
   "metadata": {},
   "source": [
    "## Prediction"
   ]
  },
  {
   "cell_type": "code",
   "execution_count": 218,
   "id": "a3d77a13",
   "metadata": {},
   "outputs": [
    {
     "data": {
      "text/html": [
       "<div>\n",
       "<style scoped>\n",
       "    .dataframe tbody tr th:only-of-type {\n",
       "        vertical-align: middle;\n",
       "    }\n",
       "\n",
       "    .dataframe tbody tr th {\n",
       "        vertical-align: top;\n",
       "    }\n",
       "\n",
       "    .dataframe thead th {\n",
       "        text-align: right;\n",
       "    }\n",
       "</style>\n",
       "<table border=\"1\" class=\"dataframe\">\n",
       "  <thead>\n",
       "    <tr style=\"text-align: right;\">\n",
       "      <th></th>\n",
       "      <th>Original</th>\n",
       "      <th>Predicted</th>\n",
       "    </tr>\n",
       "  </thead>\n",
       "  <tbody>\n",
       "    <tr>\n",
       "      <th>196</th>\n",
       "      <td>1340.00</td>\n",
       "      <td>1373.273860</td>\n",
       "    </tr>\n",
       "    <tr>\n",
       "      <th>43</th>\n",
       "      <td>33.00</td>\n",
       "      <td>37.345488</td>\n",
       "    </tr>\n",
       "    <tr>\n",
       "      <th>135</th>\n",
       "      <td>16.50</td>\n",
       "      <td>16.403391</td>\n",
       "    </tr>\n",
       "    <tr>\n",
       "      <th>56</th>\n",
       "      <td>890.00</td>\n",
       "      <td>1004.218042</td>\n",
       "    </tr>\n",
       "    <tr>\n",
       "      <th>202</th>\n",
       "      <td>50.40</td>\n",
       "      <td>30.110009</td>\n",
       "    </tr>\n",
       "    <tr>\n",
       "      <th>195</th>\n",
       "      <td>9.00</td>\n",
       "      <td>36.512558</td>\n",
       "    </tr>\n",
       "    <tr>\n",
       "      <th>131</th>\n",
       "      <td>28.00</td>\n",
       "      <td>84.863947</td>\n",
       "    </tr>\n",
       "    <tr>\n",
       "      <th>178</th>\n",
       "      <td>14.85</td>\n",
       "      <td>28.633784</td>\n",
       "    </tr>\n",
       "    <tr>\n",
       "      <th>143</th>\n",
       "      <td>3.00</td>\n",
       "      <td>4.738838</td>\n",
       "    </tr>\n",
       "    <tr>\n",
       "      <th>15</th>\n",
       "      <td>42.00</td>\n",
       "      <td>112.304974</td>\n",
       "    </tr>\n",
       "  </tbody>\n",
       "</table>\n",
       "</div>"
      ],
      "text/plain": [
       "     Original    Predicted\n",
       "196   1340.00  1373.273860\n",
       "43      33.00    37.345488\n",
       "135     16.50    16.403391\n",
       "56     890.00  1004.218042\n",
       "202     50.40    30.110009\n",
       "195      9.00    36.512558\n",
       "131     28.00    84.863947\n",
       "178     14.85    28.633784\n",
       "143      3.00     4.738838\n",
       "15      42.00   112.304974"
      ]
     },
     "execution_count": 218,
     "metadata": {},
     "output_type": "execute_result"
    }
   ],
   "source": [
    "ori1 = np.array(y1_test)\n",
    "predicted1 = np.array(capacity_model.predict(x1_test))\n",
    "df_new1 = pd.DataFrame({\"Original\":ori1,\"Predicted\":predicted1},index= range(len(ori1)))\n",
    "df_new1.sample(10)"
   ]
  },
  {
   "cell_type": "markdown",
   "id": "e5b33a91",
   "metadata": {},
   "source": [
    "Obs- We can see our best model has yielded fairly same results(if not exact)"
   ]
  },
  {
   "cell_type": "code",
   "execution_count": 219,
   "id": "29c0e149",
   "metadata": {},
   "outputs": [
    {
     "data": {
      "text/plain": [
       "Text(0.5, 1.0, 'Original vs predicted  graph')"
      ]
     },
     "execution_count": 219,
     "metadata": {},
     "output_type": "execute_result"
    },
    {
     "data": {
      "image/png": "[encoded data removed]",
      "text/plain": [
       "<Figure size 864x504 with 1 Axes>"
      ]
     },
     "metadata": {
      "needs_background": "light"
     },
     "output_type": "display_data"
    }
   ],
   "source": [
    "# Viewing the difference of prediction using Visualization \n",
    "plt.figure(figsize=(12,7))\n",
    "sns.kdeplot(data=df_new1, palette='gist_rainbow_r',gridsize=900, shade=True)\n",
    "plt.title('Original vs predicted  graph')"
   ]
  },
  {
   "cell_type": "markdown",
   "id": "7779efc5",
   "metadata": {},
   "source": [
    "## Concluding Remarks for Regression Model(Capacity_mw Prediction)"
   ]
  },
  {
   "cell_type": "markdown",
   "id": "4c9b5145",
   "metadata": {},
   "source": [
    "* We predicted the Capacity_mw outcomes of power plants by collecting the data of 907 power plants installed over different geographic location and sources over a span of 5 years.\n",
    "* The prediction scores of these models were then checked.\n",
    "* Also cross-validation was performed to avoid overfitting of models.\n",
    "* By hyper parameter tuning, best parameters were applied on both Random Forest Regressor and Gradient Boosting Regressor, and Gradient Boosting Regressor was selected as the best model and we could attain r2_score of 0.8120357172859436  \n",
    "* The prediction results indicated that the best model achieved good prediction accuracy and has given quite accurate results"
   ]
  },
  {
   "cell_type": "code",
   "execution_count": null,
   "id": "21196433",
   "metadata": {},
   "outputs": [],
   "source": []
  }
 ],
 "metadata": {
  "kernelspec": {
   "display_name": "Python 3 (ipykernel)",
   "language": "python",
   "name": "python3"
  },
  "language_info": {
   "codemirror_mode": {
    "name": "ipython",
    "version": 3
   },
   "file_extension": ".py",
   "mimetype": "text/x-python",
   "name": "python",
   "nbconvert_exporter": "python",
   "pygments_lexer": "ipython3",
   "version": "3.9.12"
  }
 },
 "nbformat": 4,
 "nbformat_minor": 5
}
